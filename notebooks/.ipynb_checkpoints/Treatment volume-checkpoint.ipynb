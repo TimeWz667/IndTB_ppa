{
 "cells": [
  {
   "cell_type": "code",
   "execution_count": 1,
   "id": "f997d086",
   "metadata": {},
   "outputs": [
    {
     "name": "stdout",
     "output_type": "stream",
     "text": [
      "D:\\Projects\\IndiaTB\\IndTB_ppa\n"
     ]
    },
    {
     "data": {
      "text/plain": [
       "'D:\\\\Projects\\\\IndiaTB\\\\IndTB_ppa'"
      ]
     },
     "execution_count": 1,
     "metadata": {},
     "output_type": "execute_result"
    }
   ],
   "source": [
    "%cd ../\n",
    "%pwd"
   ]
  },
  {
   "cell_type": "code",
   "execution_count": 16,
   "id": "11692833",
   "metadata": {},
   "outputs": [],
   "source": [
    "import json\n",
    "import pandas as pd\n",
    "import numpy as np\n",
    "import scipy.stats as sts\n",
    "import matplotlib.pyplot as plt"
   ]
  },
  {
   "cell_type": "code",
   "execution_count": 5,
   "id": "865aad5d",
   "metadata": {},
   "outputs": [],
   "source": [
    "def rbinom(n, p):\n",
    "    return sts.binom.rvs(n=n, p=p)\n",
    "\n",
    "def runif(a, b):\n",
    "    return sts.uniform.rvs(loc=a, scale=b - a)"
   ]
  },
  {
   "cell_type": "code",
   "execution_count": 6,
   "id": "890a9c45",
   "metadata": {},
   "outputs": [],
   "source": [
    "dat = pd.read_csv('data/cascade/d_cascade_2019.csv').set_index('State')\n",
    "\n",
    "dat = {i: row.to_dict() for i, row in dat.iterrows()}"
   ]
  },
  {
   "cell_type": "code",
   "execution_count": 7,
   "id": "975ea82b",
   "metadata": {},
   "outputs": [
    {
     "data": {
      "text/plain": [
       "dict_keys(['India', 'Andhra Pradesh', 'Arunachal Pradesh', 'Assam', 'Bihar', 'Chandigarh', 'Chhattisgarh', 'Delhi', 'Gujarat', 'Haryana', 'Himachal Pradesh', 'Jammu & Kashmir', 'Jharkhand', 'Karnataka', 'Kerala', 'Madhya Pradesh', 'Maharashtra', 'Manipur', 'Meghalaya', 'Nagaland', 'Odisha', 'Punjab', 'Rajasthan', 'Tamil Nadu', 'Telangana', 'Uttar Pradesh', 'Uttarakhand', 'West Bengal'])"
      ]
     },
     "execution_count": 7,
     "metadata": {},
     "output_type": "execute_result"
    }
   ],
   "source": [
    "dat.keys()"
   ]
  },
  {
   "cell_type": "code",
   "execution_count": 8,
   "id": "546c8bf1",
   "metadata": {},
   "outputs": [
    {
     "data": {
      "text/plain": [
       "{'Region': 'India',\n",
       " 'N': 1347720000,\n",
       " 'PrevUt': 290.74548816619057,\n",
       " 'PrevTx': 190.85494655813105,\n",
       " 'Pr_Pub_CSI': 0.4828184936896596,\n",
       " 'Pr_Pub_CSI0': 0.6140034463806118,\n",
       " 'Pr_Pub_CSI1': 0.6060575921087298,\n",
       " 'Pr_Asym': 0.6304291518439208,\n",
       " 'Pr_NotAware': 0.2125506578705321,\n",
       " 'Pr_NotCS': 0.0317281479252257,\n",
       " 'Pr_NotDet': 0.1252920423603213,\n",
       " 'Pop': 1357660000,\n",
       " 'CNR_pub': 0.00127,\n",
       " 'CNR_eng': 0.0005,\n",
       " 'TxI_pub': 0.94,\n",
       " 'TxI_eng': 0.95,\n",
       " 'TxSucc_pub': 0.9032258064516128,\n",
       " 'TxSucc_eng': 0.9102564102564102,\n",
       " 'TxDead_pub': 0.043010752688172,\n",
       " 'TxDead_eng': 0.0256410256410256,\n",
       " 'TxLTFU_pub': 0.053763440860215,\n",
       " 'TxLTFU_eng': 0.0641025641025641}"
      ]
     },
     "execution_count": 8,
     "metadata": {},
     "output_type": "execute_result"
    }
   ],
   "source": [
    "d = dat['India']\n",
    "d"
   ]
  },
  {
   "cell_type": "code",
   "execution_count": 26,
   "id": "09d94968",
   "metadata": {},
   "outputs": [
    {
     "data": {
      "text/plain": [
       "({'r_die_ut': 0.14106664468229568,\n",
       "  'r_sc': 0.20390455142068603,\n",
       "  'rr_die_asym': 0.8563864213066869,\n",
       "  'TxI_pri': 0.8150860786161017,\n",
       "  'dur_succ_pri': 0.18274664592638035,\n",
       "  'ppv_pri': 0.5925827562171924,\n",
       "  'det_pri': 0.006002082272505573},\n",
       " {'r_succ_pub': 2, 'r_succ_eng': 2, 'rr_ltfu_pri': 1.5, 'ppv_pub': 0.85})"
      ]
     },
     "execution_count": 26,
     "metadata": {},
     "output_type": "execute_result"
    }
   ],
   "source": [
    "settings = {\n",
    "    'r_succ_pub': 2, \n",
    "    'r_succ_eng': 2,\n",
    "    'rr_ltfu_pri': 1.5,\n",
    "    'ppv_pub': 0.85\n",
    "}\n",
    "\n",
    "prior = {\n",
    "    'r_die_ut': runif(0.14, 0.18),\n",
    "    'r_sc': runif(0.1, 0.3),\n",
    "    'rr_die_asym': runif(0, 1),\n",
    "    'TxI_pri': runif(0.5, 1),\n",
    "    'dur_succ_pri': runif(2 / 12, 9 / 12),\n",
    "    'ppv_pri': runif(0.2, 1),\n",
    "    'det_pri': runif(0.0001, 0.01)\n",
    "}\n",
    "\n",
    "prior, settings "
   ]
  },
  {
   "cell_type": "code",
   "execution_count": 29,
   "id": "8ba65b17",
   "metadata": {},
   "outputs": [
    {
     "data": {
      "text/plain": [
       "(0.001543849714502167, 3.6473922257926747)"
      ]
     },
     "execution_count": 29,
     "metadata": {},
     "output_type": "execute_result"
    }
   ],
   "source": [
    "class Cascade:\n",
    "    def __init__(self, d, s, exo):\n",
    "        d = dict(d)\n",
    "        d.update(s)\n",
    "        d.update(exo)\n",
    "        self.Pars = exo\n",
    "        \n",
    "        ltfu = np.array([d['TxLTFU_pub'], d['TxLTFU_eng'], d['TxLTFU_eng'] * d['rr_ltfu_pri']])\n",
    "        die = np.array([d['TxDead_pub'], d['TxDead_eng'], d['TxDead_eng']])\n",
    "        succ = np.array([d['TxSucc_pub'], d['TxSucc_eng'], d['TxSucc_eng']])\n",
    "        \n",
    "        self.R_Succ_Tx = np.array([d['r_succ_pub'], d['r_succ_eng'], 1 / d['dur_succ_pri']])\n",
    "        self.R_LTFU_Tx = self.R_Succ_Tx * ltfu / succ\n",
    "        self.R_Die_Tx = self.R_Succ_Tx * die / succ\n",
    "        self.DurTx = 1 / (self.R_LTFU_Tx + self.R_Die_Tx + self.R_Succ_Tx)\n",
    "        \n",
    "        self.DetR = np.array([d['CNR_pub'], d['CNR_eng'], d['det_pri']]) \n",
    "        self.TxR = self.DetR * np.array([d['TxI_pub'], d['TxI_eng'], d['TxI_pri']])\n",
    "        \n",
    "\n",
    "        self.PrevTx = self.TxR / (self.R_LTFU_Tx + self.R_Die_Tx + self.R_Succ_Tx) \n",
    "        \n",
    "        prev = rbinom(d['Pop'], d['PrevUt'] * 1e-5) / d['Pop']\n",
    "        \n",
    "        self.R_SelfCure = d['r_sc']\n",
    "        self.R_Die_Ut = d['r_die_ut']\n",
    "        \n",
    "        self.R_Die_Asym = d['r_die_ut'] * d['rr_die_asym']\n",
    "        self.R_Die_Sym = d['r_die_ut']\n",
    "\n",
    "        r_mu_asym = self.R_SelfCure + self.R_Die_Asym\n",
    "        r_mu_sym = self.R_SelfCure + self.R_Die_Sym\n",
    "        \n",
    "        \n",
    "        self.R_Det = r_det = self.DetR.sum() / (prev * d['Pr_NotDet'])\n",
    "        self.R_CS = r_cs = d['Pr_NotDet'] / d['Pr_NotCS'] * (r_mu_sym + r_det)\n",
    "        self.R_Aware = r_aware = d['Pr_NotCS'] / d['Pr_NotAware'] * (r_mu_sym + r_cs),\n",
    "        self.R_Onset = r_onset = d['Pr_NotAware'] / d['Pr_Asym'] * (r_mu_sym + r_aware)\n",
    "        \n",
    "        \n",
    "        self.P_Dx0 = np.zeros(3)\n",
    "        self.P_Dx1 = {\n",
    "            'Pub': np.zeros(3),\n",
    "            'Eng': np.zeros(3),\n",
    "            'Pri': np.zeros(3)\n",
    "        }\n",
    "        \n",
    "        self.Entry = np.zeros(3)\n",
    "        self.TrM = {\n",
    "            'Pub': np.zeros(3),\n",
    "            'Eng': np.zeros(3),\n",
    "            'Pri': np.zeros(3)\n",
    "        }\n",
    "        self.R_CSI = 0\n",
    "        self.R_ReCSI = 0\n",
    "        \n",
    "        \n",
    "        self.PPV = np.array([d['ppv_pub'], d['ppv_pub'], d['ppv_pri']])\n",
    "        \n",
    "        self.PrevTxAll = self.PrevTx / self.PPV\n",
    "        self.ExPrevTx = rbinom(d['Pop'], d['PrevTx'] * 1e-5) / d['Pop']\n",
    "        self.PrPri = self.PrevTxAll[1:].sum() / self.PrevTxAll.sum()\n",
    "        self.PrPri0 = self.PrevTxAll[1].sum() / self.PrevTxAll[:2].sum()\n",
    "        \n",
    "    def distance(self):\n",
    "        return np.power(m.PrevTx.sum() / m.ExPrevTx - 1, 2) * 100 #+ np.power(m.PrPri0 / 0.4 - 1, 2)\n",
    "        \n",
    "    def summary(self, key=0):\n",
    "        su = {\n",
    "            'Key': key,\n",
    "            'PrevTxPub': self.PrevTx[0], \n",
    "            'PrevTxEng': self.PrevTx[1], \n",
    "            'PrevTxPri': self.PrevTx[2],\n",
    "            'DurTxPub': self.DurTx[0],\n",
    "            'DurTxEng': self.DurTx[1],\n",
    "            'DurTxPri': self.DurTx[2],\n",
    "            'PrPri': self.PrPri,\n",
    "            'PrPri0': self.PrPri0,\n",
    "            'PriVsPub': dur[0] / dur[1:].sum()\n",
    "        }\n",
    "\n",
    "        su.update(self.Pars)\n",
    "        return su\n",
    "\n",
    "m = Cascade(d, settings, prior)\n",
    "m.PrevTx.sum(), m.distance()"
   ]
  },
  {
   "cell_type": "code",
   "execution_count": 32,
   "id": "684e5067",
   "metadata": {},
   "outputs": [
    {
     "data": {
      "text/plain": [
       "array([0.4516129 , 0.45512821, 0.16118027])"
      ]
     },
     "execution_count": 32,
     "metadata": {},
     "output_type": "execute_result"
    }
   ],
   "source": [
    "m.DurTx"
   ]
  },
  {
   "cell_type": "code",
   "execution_count": 20,
   "id": "07495e88",
   "metadata": {},
   "outputs": [
    {
     "data": {
      "text/plain": [
       "0.05984919588124842"
      ]
     },
     "execution_count": 20,
     "metadata": {},
     "output_type": "execute_result"
    }
   ],
   "source": [
    "dis = []\n",
    "\n",
    "while len(dis) < 1000:\n",
    "    prior = {\n",
    "        'r_die_untx': runif( 0.14, 0.18),\n",
    "        'r_sc': runif(0.1, 0.3),\n",
    "        'rr_die_asym': runif(0, 1),\n",
    "        'TxI_pri': 0.8,\n",
    "        'dur_succ_pri': runif(2 / 12, 9 / 12),\n",
    "        'ppv_pri': runif(0.2, 1),\n",
    "        'det_pri': runif(0.0001, 0.01)\n",
    "    }\n",
    "    m = Tx(d, settings, prior)\n",
    "    dis.append(m.distance())\n",
    "\n",
    "eps = np.quantile(dis, 0.02)\n",
    "eps"
   ]
  },
  {
   "cell_type": "code",
   "execution_count": 21,
   "id": "45f2ba6b",
   "metadata": {},
   "outputs": [
    {
     "data": {
      "text/plain": [
       "(0.02370061384589861, 42193)"
      ]
     },
     "execution_count": 21,
     "metadata": {},
     "output_type": "execute_result"
    }
   ],
   "source": [
    "ms = []\n",
    "\n",
    "n_sim = 0\n",
    "while len(ms) < 1000:\n",
    "    n_sim += 1\n",
    "    prior = {\n",
    "        'r_die_untx': runif( 0.14, 0.18),\n",
    "        'r_sc': runif(0.1, 0.3),\n",
    "        'rr_die_asym': runif(0, 1),\n",
    "        'TxI_pri': runif(0.5, 1),\n",
    "        'dur_succ_pri': runif(2 / 12, 9 / 12),\n",
    "        'ppv_pri': runif(0.2, 1),\n",
    "        'det_pri': runif(0.0001, 0.01)\n",
    "    }\n",
    "    m = Tx(d, settings, prior)\n",
    "    if m.distance() < eps:\n",
    "        ms.append(m)\n",
    "        \n",
    "res = [m.summary(i) for i, m in enumerate(ms)]\n",
    "res = pd.DataFrame(res).set_index('Key')\n",
    "        \n",
    "acc = 1000 / n_sim\n",
    "acc, n_sim"
   ]
  },
  {
   "cell_type": "code",
   "execution_count": 22,
   "id": "ccce0677",
   "metadata": {},
   "outputs": [
    {
     "data": {
      "text/html": [
       "<div>\n",
       "<style scoped>\n",
       "    .dataframe tbody tr th:only-of-type {\n",
       "        vertical-align: middle;\n",
       "    }\n",
       "\n",
       "    .dataframe tbody tr th {\n",
       "        vertical-align: top;\n",
       "    }\n",
       "\n",
       "    .dataframe thead th {\n",
       "        text-align: right;\n",
       "    }\n",
       "</style>\n",
       "<table border=\"1\" class=\"dataframe\">\n",
       "  <thead>\n",
       "    <tr style=\"text-align: right;\">\n",
       "      <th></th>\n",
       "      <th>PrevTxPub</th>\n",
       "      <th>PrevTxEng</th>\n",
       "      <th>PrevTxPri</th>\n",
       "      <th>DurTxPub</th>\n",
       "      <th>DurTxEng</th>\n",
       "      <th>DurTxPri</th>\n",
       "      <th>PrPri</th>\n",
       "      <th>PrPri0</th>\n",
       "      <th>PriVsPub</th>\n",
       "      <th>r_die_untx</th>\n",
       "      <th>r_sc</th>\n",
       "      <th>rr_die_asym</th>\n",
       "      <th>TxI_pri</th>\n",
       "      <th>dur_succ_pri</th>\n",
       "      <th>ppv_pri</th>\n",
       "      <th>det_pri</th>\n",
       "    </tr>\n",
       "    <tr>\n",
       "      <th>Key</th>\n",
       "      <th></th>\n",
       "      <th></th>\n",
       "      <th></th>\n",
       "      <th></th>\n",
       "      <th></th>\n",
       "      <th></th>\n",
       "      <th></th>\n",
       "      <th></th>\n",
       "      <th></th>\n",
       "      <th></th>\n",
       "      <th></th>\n",
       "      <th></th>\n",
       "      <th></th>\n",
       "      <th></th>\n",
       "      <th></th>\n",
       "      <th></th>\n",
       "    </tr>\n",
       "  </thead>\n",
       "  <tbody>\n",
       "    <tr>\n",
       "      <th>0</th>\n",
       "      <td>0.000634</td>\n",
       "      <td>0.000254</td>\n",
       "      <td>0.001031</td>\n",
       "      <td>0.451613</td>\n",
       "      <td>0.455128</td>\n",
       "      <td>0.367038</td>\n",
       "      <td>0.669528</td>\n",
       "      <td>0.286217</td>\n",
       "      <td>0.549296</td>\n",
       "      <td>0.161475</td>\n",
       "      <td>0.256464</td>\n",
       "      <td>0.650594</td>\n",
       "      <td>0.711699</td>\n",
       "      <td>0.416149</td>\n",
       "      <td>0.805694</td>\n",
       "      <td>0.003179</td>\n",
       "    </tr>\n",
       "    <tr>\n",
       "      <th>1</th>\n",
       "      <td>0.000634</td>\n",
       "      <td>0.000254</td>\n",
       "      <td>0.001062</td>\n",
       "      <td>0.451613</td>\n",
       "      <td>0.455128</td>\n",
       "      <td>0.360176</td>\n",
       "      <td>0.674845</td>\n",
       "      <td>0.286217</td>\n",
       "      <td>0.553919</td>\n",
       "      <td>0.153669</td>\n",
       "      <td>0.208226</td>\n",
       "      <td>0.307325</td>\n",
       "      <td>0.735054</td>\n",
       "      <td>0.408369</td>\n",
       "      <td>0.538816</td>\n",
       "      <td>0.002162</td>\n",
       "    </tr>\n",
       "    <tr>\n",
       "      <th>2</th>\n",
       "      <td>0.000634</td>\n",
       "      <td>0.000254</td>\n",
       "      <td>0.001040</td>\n",
       "      <td>0.451613</td>\n",
       "      <td>0.455128</td>\n",
       "      <td>0.190748</td>\n",
       "      <td>0.671175</td>\n",
       "      <td>0.286217</td>\n",
       "      <td>0.699225</td>\n",
       "      <td>0.149366</td>\n",
       "      <td>0.180048</td>\n",
       "      <td>0.602815</td>\n",
       "      <td>0.873005</td>\n",
       "      <td>0.216271</td>\n",
       "      <td>0.372534</td>\n",
       "      <td>0.002327</td>\n",
       "    </tr>\n",
       "    <tr>\n",
       "      <th>3</th>\n",
       "      <td>0.000634</td>\n",
       "      <td>0.000254</td>\n",
       "      <td>0.001014</td>\n",
       "      <td>0.451613</td>\n",
       "      <td>0.455128</td>\n",
       "      <td>0.212078</td>\n",
       "      <td>0.666671</td>\n",
       "      <td>0.286217</td>\n",
       "      <td>0.676871</td>\n",
       "      <td>0.151848</td>\n",
       "      <td>0.117995</td>\n",
       "      <td>0.221547</td>\n",
       "      <td>0.880060</td>\n",
       "      <td>0.240455</td>\n",
       "      <td>0.425339</td>\n",
       "      <td>0.002311</td>\n",
       "    </tr>\n",
       "    <tr>\n",
       "      <th>4</th>\n",
       "      <td>0.000634</td>\n",
       "      <td>0.000254</td>\n",
       "      <td>0.000973</td>\n",
       "      <td>0.451613</td>\n",
       "      <td>0.455128</td>\n",
       "      <td>0.177768</td>\n",
       "      <td>0.659334</td>\n",
       "      <td>0.286217</td>\n",
       "      <td>0.713565</td>\n",
       "      <td>0.154263</td>\n",
       "      <td>0.165368</td>\n",
       "      <td>0.739491</td>\n",
       "      <td>0.997093</td>\n",
       "      <td>0.201554</td>\n",
       "      <td>0.618619</td>\n",
       "      <td>0.003397</td>\n",
       "    </tr>\n",
       "    <tr>\n",
       "      <th>...</th>\n",
       "      <td>...</td>\n",
       "      <td>...</td>\n",
       "      <td>...</td>\n",
       "      <td>...</td>\n",
       "      <td>...</td>\n",
       "      <td>...</td>\n",
       "      <td>...</td>\n",
       "      <td>...</td>\n",
       "      <td>...</td>\n",
       "      <td>...</td>\n",
       "      <td>...</td>\n",
       "      <td>...</td>\n",
       "      <td>...</td>\n",
       "      <td>...</td>\n",
       "      <td>...</td>\n",
       "      <td>...</td>\n",
       "    </tr>\n",
       "    <tr>\n",
       "      <th>995</th>\n",
       "      <td>0.000634</td>\n",
       "      <td>0.000254</td>\n",
       "      <td>0.001015</td>\n",
       "      <td>0.451613</td>\n",
       "      <td>0.455128</td>\n",
       "      <td>0.337190</td>\n",
       "      <td>0.666818</td>\n",
       "      <td>0.286217</td>\n",
       "      <td>0.569989</td>\n",
       "      <td>0.150666</td>\n",
       "      <td>0.134320</td>\n",
       "      <td>0.235735</td>\n",
       "      <td>0.859504</td>\n",
       "      <td>0.382307</td>\n",
       "      <td>0.987641</td>\n",
       "      <td>0.003459</td>\n",
       "    </tr>\n",
       "    <tr>\n",
       "      <th>996</th>\n",
       "      <td>0.000634</td>\n",
       "      <td>0.000254</td>\n",
       "      <td>0.000989</td>\n",
       "      <td>0.451613</td>\n",
       "      <td>0.455128</td>\n",
       "      <td>0.286737</td>\n",
       "      <td>0.662203</td>\n",
       "      <td>0.286217</td>\n",
       "      <td>0.608754</td>\n",
       "      <td>0.154578</td>\n",
       "      <td>0.177372</td>\n",
       "      <td>0.828469</td>\n",
       "      <td>0.952573</td>\n",
       "      <td>0.325103</td>\n",
       "      <td>0.673994</td>\n",
       "      <td>0.002441</td>\n",
       "    </tr>\n",
       "    <tr>\n",
       "      <th>997</th>\n",
       "      <td>0.000634</td>\n",
       "      <td>0.000254</td>\n",
       "      <td>0.001000</td>\n",
       "      <td>0.451613</td>\n",
       "      <td>0.455128</td>\n",
       "      <td>0.615751</td>\n",
       "      <td>0.664081</td>\n",
       "      <td>0.286217</td>\n",
       "      <td>0.421722</td>\n",
       "      <td>0.155802</td>\n",
       "      <td>0.189147</td>\n",
       "      <td>0.397981</td>\n",
       "      <td>0.740803</td>\n",
       "      <td>0.698140</td>\n",
       "      <td>0.892467</td>\n",
       "      <td>0.001956</td>\n",
       "    </tr>\n",
       "    <tr>\n",
       "      <th>998</th>\n",
       "      <td>0.000634</td>\n",
       "      <td>0.000254</td>\n",
       "      <td>0.001052</td>\n",
       "      <td>0.451613</td>\n",
       "      <td>0.455128</td>\n",
       "      <td>0.248210</td>\n",
       "      <td>0.673161</td>\n",
       "      <td>0.286217</td>\n",
       "      <td>0.642099</td>\n",
       "      <td>0.174687</td>\n",
       "      <td>0.135266</td>\n",
       "      <td>0.600038</td>\n",
       "      <td>0.682143</td>\n",
       "      <td>0.281421</td>\n",
       "      <td>0.757055</td>\n",
       "      <td>0.004704</td>\n",
       "    </tr>\n",
       "    <tr>\n",
       "      <th>999</th>\n",
       "      <td>0.000634</td>\n",
       "      <td>0.000254</td>\n",
       "      <td>0.000993</td>\n",
       "      <td>0.451613</td>\n",
       "      <td>0.455128</td>\n",
       "      <td>0.379896</td>\n",
       "      <td>0.662836</td>\n",
       "      <td>0.286217</td>\n",
       "      <td>0.540838</td>\n",
       "      <td>0.141501</td>\n",
       "      <td>0.141800</td>\n",
       "      <td>0.612530</td>\n",
       "      <td>0.763422</td>\n",
       "      <td>0.430727</td>\n",
       "      <td>0.397265</td>\n",
       "      <td>0.001360</td>\n",
       "    </tr>\n",
       "  </tbody>\n",
       "</table>\n",
       "<p>1000 rows × 16 columns</p>\n",
       "</div>"
      ],
      "text/plain": [
       "     PrevTxPub  PrevTxEng  PrevTxPri  DurTxPub  DurTxEng  DurTxPri     PrPri  \\\n",
       "Key                                                                            \n",
       "0     0.000634   0.000254   0.001031  0.451613  0.455128  0.367038  0.669528   \n",
       "1     0.000634   0.000254   0.001062  0.451613  0.455128  0.360176  0.674845   \n",
       "2     0.000634   0.000254   0.001040  0.451613  0.455128  0.190748  0.671175   \n",
       "3     0.000634   0.000254   0.001014  0.451613  0.455128  0.212078  0.666671   \n",
       "4     0.000634   0.000254   0.000973  0.451613  0.455128  0.177768  0.659334   \n",
       "..         ...        ...        ...       ...       ...       ...       ...   \n",
       "995   0.000634   0.000254   0.001015  0.451613  0.455128  0.337190  0.666818   \n",
       "996   0.000634   0.000254   0.000989  0.451613  0.455128  0.286737  0.662203   \n",
       "997   0.000634   0.000254   0.001000  0.451613  0.455128  0.615751  0.664081   \n",
       "998   0.000634   0.000254   0.001052  0.451613  0.455128  0.248210  0.673161   \n",
       "999   0.000634   0.000254   0.000993  0.451613  0.455128  0.379896  0.662836   \n",
       "\n",
       "       PrPri0  PriVsPub  r_die_untx      r_sc  rr_die_asym   TxI_pri  \\\n",
       "Key                                                                    \n",
       "0    0.286217  0.549296    0.161475  0.256464     0.650594  0.711699   \n",
       "1    0.286217  0.553919    0.153669  0.208226     0.307325  0.735054   \n",
       "2    0.286217  0.699225    0.149366  0.180048     0.602815  0.873005   \n",
       "3    0.286217  0.676871    0.151848  0.117995     0.221547  0.880060   \n",
       "4    0.286217  0.713565    0.154263  0.165368     0.739491  0.997093   \n",
       "..        ...       ...         ...       ...          ...       ...   \n",
       "995  0.286217  0.569989    0.150666  0.134320     0.235735  0.859504   \n",
       "996  0.286217  0.608754    0.154578  0.177372     0.828469  0.952573   \n",
       "997  0.286217  0.421722    0.155802  0.189147     0.397981  0.740803   \n",
       "998  0.286217  0.642099    0.174687  0.135266     0.600038  0.682143   \n",
       "999  0.286217  0.540838    0.141501  0.141800     0.612530  0.763422   \n",
       "\n",
       "     dur_succ_pri   ppv_pri   det_pri  \n",
       "Key                                    \n",
       "0        0.416149  0.805694  0.003179  \n",
       "1        0.408369  0.538816  0.002162  \n",
       "2        0.216271  0.372534  0.002327  \n",
       "3        0.240455  0.425339  0.002311  \n",
       "4        0.201554  0.618619  0.003397  \n",
       "..            ...       ...       ...  \n",
       "995      0.382307  0.987641  0.003459  \n",
       "996      0.325103  0.673994  0.002441  \n",
       "997      0.698140  0.892467  0.001956  \n",
       "998      0.281421  0.757055  0.004704  \n",
       "999      0.430727  0.397265  0.001360  \n",
       "\n",
       "[1000 rows x 16 columns]"
      ]
     },
     "execution_count": 22,
     "metadata": {},
     "output_type": "execute_result"
    }
   ],
   "source": [
    "res"
   ]
  },
  {
   "cell_type": "code",
   "execution_count": 24,
   "id": "d24fc6ca",
   "metadata": {},
   "outputs": [
    {
     "data": {
      "image/png": "[encoded data removed]",
      "text/plain": [
       "<Figure size 432x288 with 1 Axes>"
      ]
     },
     "metadata": {
      "needs_background": "light"
     },
     "output_type": "display_data"
    }
   ],
   "source": [
    "plt.scatter(res.PriVsPub, res.PrPri)\n",
    "plt.show()"
   ]
  },
  {
   "cell_type": "code",
   "execution_count": 36,
   "id": "42b7370f",
   "metadata": {},
   "outputs": [],
   "source": [
    "shifting = pd.read_csv('data/shifting/shifting.csv')\n",
    "shifting = [row.to_dict() for _, row in shifting.iterrows()]"
   ]
  },
  {
   "cell_type": "code",
   "execution_count": 59,
   "id": "c2de6ec4",
   "metadata": {},
   "outputs": [
    {
     "data": {
      "text/plain": [
       "0.5165692007797271"
      ]
     },
     "execution_count": 59,
     "metadata": {},
     "output_type": "execute_result"
    }
   ],
   "source": [
    "pr_pub = dat['Tamil Nadu']['Pr_Pub_CSI']\n",
    "pr_pub"
   ]
  },
  {
   "cell_type": "code",
   "execution_count": 108,
   "id": "f76904d9",
   "metadata": {},
   "outputs": [],
   "source": [
    "def build_trm(ppm, odds_pri, tr_pub_pub, tr_pri_pub):\n",
    "    p_entry = np.array([pr_pub, (1 - pr_pub) * ppm, (1 - pr_pub) * (1 - ppm)])\n",
    "\n",
    "    n_dx0, n_entry = 0, 0\n",
    "    n_dx1, n_tr = np.zeros(2), np.zeros(2)\n",
    "\n",
    "\n",
    "    for tr in shifting:\n",
    "        fr, to = tr['From'], tr['To']\n",
    "\n",
    "        if fr == 'UC':\n",
    "            if to.startswith('pub'):\n",
    "                n_entry += tr['N']\n",
    "                if to.endswith('det'):\n",
    "                    n_dx0 += tr['N']\n",
    "        else:\n",
    "            if fr.startswith('pub'):\n",
    "                n_tr[0] += tr['N']\n",
    "                if to.endswith('det'):\n",
    "                    n_dx1[0] += tr['N']\n",
    "            else:\n",
    "                n_tr[1] += tr['N']\n",
    "                if to.endswith('det'):\n",
    "                    n_dx1[1] += tr['N']\n",
    "\n",
    "\n",
    "    dx0 = n_dx0 / n_entry\n",
    "    dx_pri = dx0 / (1 - dx0) * odds_pri\n",
    "    dx_pri = dx_pri / (1 + dx_pri)\n",
    "    p_dx0 = np.array([dx0, dx0, dx_pri])\n",
    "    \n",
    "    dx1 = np.repeat(n_dx1 / n_tr, [2, 1])\n",
    "    dx_pri = dx1 / (1 - dx1) * odds_pri\n",
    "    dx_pri = dx_pri / (1 + dx_pri)\n",
    "    p_dx1 = np.array([dx1, dx1, dx_pri])\n",
    "\n",
    "    p_trm = np.zeros((3, 3))\n",
    "    p_trm[0] = np.array([tr_pub_pub, (1 - tr_pub_pub) * ppm, (1 - tr_pub_pub) * (1 - ppm)])\n",
    "    p_trm[1:] = np.array([tr_pri_pub, (1 - tr_pri_pub) * ppm, (1 - tr_pri_pub) * (1 - ppm)])\n",
    "\n",
    "    return p_entry, p_trm, p_dx0, p_dx1\n",
    "\n",
    "\n",
    "def find_eq(ppm, odds_pri, tr_pub_pub, tr_pri_pub, tol = 1e-6):\n",
    "    p_entry, p_trm, p_dx0, p_dx1 = build_trm(ppm, odds_pri, tr_pub_pub, tr_pri_pub)\n",
    "\n",
    "    det = p_entry * p_dx0\n",
    "    x = p_entry * (1 - p_dx0)\n",
    "    x = x.reshape((-1, 1))\n",
    "\n",
    "    while x.sum() > tol:\n",
    "        tr0 = p_trm * x\n",
    "        det += (tr0 * p_dx1).sum(1)\n",
    "        x = (tr0 * (1 - p_dx1)).sum(1, keepdims = True)\n",
    "\n",
    "    return det.reshape(-1) / det.sum()\n"
   ]
  },
  {
   "cell_type": "code",
   "execution_count": 109,
   "id": "e6ebee4b",
   "metadata": {},
   "outputs": [
    {
     "data": {
      "text/plain": [
       "(array([0.5165692 , 0.19337232, 0.29005848]),\n",
       " array([[0.1 , 0.36, 0.54],\n",
       "        [0.4 , 0.24, 0.36],\n",
       "        [0.4 , 0.24, 0.36]]),\n",
       " array([0.07843137, 0.07843137, 0.0562249 ]),\n",
       " array([[0.7481203 , 0.7481203 , 0.14068441],\n",
       "        [0.7481203 , 0.7481203 , 0.14068441],\n",
       "        [0.67523025, 0.67523025, 0.10281858]]))"
      ]
     },
     "execution_count": 109,
     "metadata": {},
     "output_type": "execute_result"
    }
   ],
   "source": [
    "ppm = 0.4\n",
    "odds_pri = 0.7\n",
    "tr_pub_pub = 0.1\n",
    "tr_pri_pub = 0.4\n",
    "\n",
    "p_entry, p_trm, p_dx0, p_dx1 = build_trm(ppm, odds_pri, tr_pub_pub, tr_pri_pub)\n",
    "p_entry, p_trm, p_dx0, p_dx1"
   ]
  },
  {
   "cell_type": "code",
   "execution_count": 110,
   "id": "419444f4",
   "metadata": {},
   "outputs": [
    {
     "data": {
      "text/plain": [
       "array([0.51656894, 0.19337244, 0.29005862])"
      ]
     },
     "execution_count": 110,
     "metadata": {},
     "output_type": "execute_result"
    }
   ],
   "source": [
    "find_eq(ppm, odds_pri, tr_pub_pub, tr_pri_pub)"
   ]
  }
 ],
 "metadata": {
  "kernelspec": {
   "display_name": "Python 3",
   "language": "python",
   "name": "python3"
  },
  "language_info": {
   "codemirror_mode": {
    "name": "ipython",
    "version": 3
   },
   "file_extension": ".py",
   "mimetype": "text/x-python",
   "name": "python",
   "nbconvert_exporter": "python",
   "pygments_lexer": "ipython3",
   "version": "3.9.5"
  }
 },
 "nbformat": 4,
 "nbformat_minor": 5
}

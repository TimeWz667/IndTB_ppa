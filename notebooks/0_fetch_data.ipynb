{
 "cells": [
  {
   "cell_type": "code",
   "execution_count": 1,
   "id": "69b2acbd-8111-490c-ba27-fc2566e1ae25",
   "metadata": {
    "tags": []
   },
   "outputs": [],
   "source": [
    "import os\n",
    "import json\n",
    "import pandas as pd\n",
    "from urllib.request import urlretrieve\n",
    "from urllib.error import HTTPError"
   ]
  },
  {
   "cell_type": "code",
   "execution_count": 2,
   "id": "1f8eb30c-c612-497f-ae24-8f3a0f129ceb",
   "metadata": {},
   "outputs": [],
   "source": [
    "root = 'https://raw.githubusercontent.com/TimeWz667/'\n",
    "pattern_targets = root + 'IndTB_prep/V1.1-warroom/serve/WarRoom/{:s}/targets.csv'\n",
    "pattern_care = root + 'IndTB_underreport/v0.3/docs/pars/pars_{:s}.json'"
   ]
  },
  {
   "cell_type": "code",
   "execution_count": 5,
   "id": "46613329-de56-476e-bf26-c9e5d4370111",
   "metadata": {},
   "outputs": [],
   "source": [
    "def retrieve_data(k, location):\n",
    "    meta = dict(Name=location['Name'])\n",
    "\n",
    "    if len(chain) > 1:\n",
    "        chn = [\n",
    "            (chain[0], f'State_{chain[0]}'),\n",
    "            (chain[-2], f'Region_{chain[-2]}'),\n",
    "            ('India', 'India')\n",
    "        ]\n",
    "    else:\n",
    "        chn = [('India', 'India')]\n",
    "\n",
    "    for loc, file in chn:\n",
    "        try:\n",
    "            path = pattern_targets.format(file)\n",
    "            urlretrieve(path, f'data/{k}/targets.csv')\n",
    "        except HTTPError:\n",
    "            pass\n",
    "        else:\n",
    "            meta['Source_Targets'] = {\n",
    "                'Location': loc,\n",
    "                'Url': path\n",
    "            }\n",
    "            break\n",
    "\n",
    "    if len(chain) > 1:\n",
    "        chn = [\n",
    "            (chain[0], f's_{chain[0]}'),\n",
    "            (chain[-2], f'r_{chain[-2]}'),\n",
    "            ('India', 'overall')\n",
    "        ]\n",
    "    else:\n",
    "        chn = [('India', 'overall')]\n",
    "\n",
    "    for loc, file in chn:\n",
    "        try:\n",
    "            path = pattern_care.format(file)\n",
    "            urlretrieve(path, f'data/{k}/pars_under.json')\n",
    "        except HTTPError:\n",
    "            pass\n",
    "        else:\n",
    "            meta['Source_Care'] = {\n",
    "                'Location': loc,\n",
    "                'Url': path\n",
    "            }\n",
    "            break\n",
    "\n",
    "    with open(f'data/{k}/meta.json', 'w') as f:\n",
    "        json.dump(meta, f)"
   ]
  },
  {
   "cell_type": "code",
   "execution_count": 6,
   "id": "952855b7-5c67-48e9-a88e-9185b625fdf3",
   "metadata": {},
   "outputs": [],
   "source": [
    "locations = pd.read_csv('data/locations.csv')\n",
    "locations = locations.set_index('Location')\n",
    "locations = {i: dict(row) for i, row in locations.iterrows()}"
   ]
  },
  {
   "cell_type": "code",
   "execution_count": 7,
   "id": "be883ddd-e8a3-4ecb-9663-d95cbcb40f77",
   "metadata": {
    "tags": []
   },
   "outputs": [],
   "source": [
    "for k, location in locations.items():\n",
    "    chain = location['Chain'].split(':')\n",
    "    os.makedirs(f'data/{k}', exist_ok=True)\n",
    "    retrieve_data(k, location)\n"
   ]
  },
  {
   "cell_type": "code",
   "execution_count": null,
   "id": "5580122c-76ec-4856-840f-8ca9c9aef042",
   "metadata": {},
   "outputs": [],
   "source": []
  }
 ],
 "metadata": {
  "kernelspec": {
   "display_name": "Python 3 (ipykernel)",
   "language": "python",
   "name": "python3"
  },
  "language_info": {
   "codemirror_mode": {
    "name": "ipython",
    "version": 3
   },
   "file_extension": ".py",
   "mimetype": "text/x-python",
   "name": "python",
   "nbconvert_exporter": "python",
   "pygments_lexer": "ipython3",
   "version": "3.10.9"
  }
 },
 "nbformat": 4,
 "nbformat_minor": 5
}

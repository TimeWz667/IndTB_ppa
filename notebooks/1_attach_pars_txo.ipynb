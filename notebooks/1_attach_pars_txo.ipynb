{
 "cells": [
  {
   "cell_type": "code",
   "execution_count": 1,
   "id": "7eb77b3f-c18a-4fab-813d-904e95a5c94a",
   "metadata": {
    "tags": []
   },
   "outputs": [],
   "source": [
    "import json\n",
    "import pandas as pd\n",
    "from ppa.pars_txo import *"
   ]
  },
  {
   "cell_type": "code",
   "execution_count": 2,
   "id": "4fab028b-9c7e-4b28-b499-252d96270f75",
   "metadata": {
    "tags": []
   },
   "outputs": [
    {
     "data": {
      "text/plain": [
       "['India',\n",
       " 'Andhra_Pradesh',\n",
       " 'Arunachal_Pradesh',\n",
       " 'Assam',\n",
       " 'Bihar',\n",
       " 'Chandigarh',\n",
       " 'Chhattisgarh',\n",
       " 'Delhi',\n",
       " 'Gujarat',\n",
       " 'Haryana',\n",
       " 'Himachal_Pradesh',\n",
       " 'Jammu_and_Kashmir',\n",
       " 'Jharkhand',\n",
       " 'Karnataka',\n",
       " 'Kerala',\n",
       " 'Madhya_Pradesh',\n",
       " 'Maharashtra',\n",
       " 'Manipur',\n",
       " 'Meghalaya',\n",
       " 'Nagaland',\n",
       " 'Odisha',\n",
       " 'Punjab',\n",
       " 'Rajasthan',\n",
       " 'Tamil_Nadu',\n",
       " 'Telangana',\n",
       " 'Uttar_Pradesh',\n",
       " 'Uttarakhand',\n",
       " 'West_Bengal']"
      ]
     },
     "execution_count": 2,
     "metadata": {},
     "output_type": "execute_result"
    }
   ],
   "source": [
    "locations = list(pd.read_csv('data/locations.csv').Location)\n",
    "locations"
   ]
  },
  {
   "cell_type": "code",
   "execution_count": 3,
   "id": "2acee61b-0702-45aa-bd7d-565c2c9ac364",
   "metadata": {
    "tags": []
   },
   "outputs": [
    {
     "name": "stdout",
     "output_type": "stream",
     "text": [
      "India \t  0.999\n",
      "Andhr \t  1.0\n",
      "Aruna \t  0.7525\n",
      "Assam \t  0.9815\n",
      "Bihar \t  0.9965\n",
      "Chand \t  0.9955\n",
      "Chhat \t  0.9915\n",
      "Delhi \t  0.9705\n",
      "Gujar \t  1.0\n",
      "Harya \t  0.9965\n",
      "Himac \t  0.997\n",
      "Jammu \t  0.977\n",
      "Jhark \t  0.982\n",
      "Karna \t  0.999\n",
      "Keral \t  1.0\n",
      "Madhy \t  0.9835\n",
      "Mahar \t  0.995\n",
      "Manip \t  0.9905\n",
      "Megha \t  0.979\n",
      "Nagal \t  0.946\n",
      "Odish \t  0.998\n",
      "Punja \t  0.9995\n",
      "Rajas \t  0.998\n",
      "Tamil \t  1.0\n",
      "Telan \t  1.0\n",
      "Uttar \t  0.9975\n",
      "Uttar \t  1.0\n",
      "West_ \t  0.9925\n"
     ]
    }
   ],
   "source": [
    "for loc in locations:\n",
    "    js = json.load(open(f'data/{loc}/pars_under.json', 'r'))\n",
    "    targets = pd.read_csv(f'data/{loc}/targets.csv')\n",
    "\n",
    "    attach_pars_tx(js)\n",
    "    \n",
    "    print(loc[:5], '\\t ', sum([p['r_txs_pri'] > 0 for p in js['pars']]) / len(js['pars']))\n",
    "    js['pars'] = [p for p in js['pars'] if p['r_txs_pri'] > 0]\n",
    "    \n",
    "    with open(f'data/{loc}/pars_txo.json', 'w') as f:\n",
    "        json.dump(js, f)"
   ]
  }
 ],
 "metadata": {
  "kernelspec": {
   "display_name": "Python 3 (ipykernel)",
   "language": "python",
   "name": "python3"
  },
  "language_info": {
   "codemirror_mode": {
    "name": "ipython",
    "version": 3
   },
   "file_extension": ".py",
   "mimetype": "text/x-python",
   "name": "python",
   "nbconvert_exporter": "python",
   "pygments_lexer": "ipython3",
   "version": "3.10.9"
  }
 },
 "nbformat": 4,
 "nbformat_minor": 5
}

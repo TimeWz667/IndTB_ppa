{
 "cells": [
  {
   "cell_type": "code",
   "execution_count": 1,
   "id": "7eb77b3f-c18a-4fab-813d-904e95a5c94a",
   "metadata": {
    "tags": []
   },
   "outputs": [],
   "source": [
    "import json\n",
    "import pandas as pd\n",
    "import os\n",
    "import numpy as np"
   ]
  },
  {
   "cell_type": "code",
   "execution_count": 2,
   "id": "5f349a63-f792-4ef3-8f4e-6250db92f357",
   "metadata": {
    "tags": []
   },
   "outputs": [],
   "source": [
    "def extract_txo(targets):\n",
    "    tx_die = targets[targets.Index == 'TxDie']\n",
    "    tx_succ = targets[targets.Index == 'TxSucc']\n",
    "\n",
    "    txo = dict()\n",
    "\n",
    "    sel = tx_die[tx_die.Tag == 'Pub']\n",
    "    txi = sel.N.sum()\n",
    "    txd = (sel.M * sel.N).sum()\n",
    "\n",
    "    sel = tx_succ[tx_succ.Tag == 'Pub']\n",
    "    txs = (sel.M * sel.N).sum()\n",
    "    txl = txi - txs - txd\n",
    "\n",
    "    txo['pub'] = {'txi': txi, 'txd': txd, 'txs': txs, 'txl': txl}\n",
    "\n",
    "    sel = tx_die[tx_die.Tag == 'Pri']\n",
    "    txi = sel.N.sum()\n",
    "    txd = (sel.M * sel.N).sum()\n",
    "\n",
    "    sel = tx_succ[tx_succ.Tag == 'Pri']\n",
    "    txs = (sel.M * sel.N).sum()\n",
    "    txl = txi - txs - txd\n",
    "\n",
    "    txo['eng'] = {'txi': txi, 'txd': txd, 'txs': txs, 'txl': txl}\n",
    "    return txo\n",
    "\n",
    "\n",
    "def attach_pars_tx(ps, txo):\n",
    "    ps_pub = np.array([txo['pub'][o] for o in ['txs', 'txd', 'txl']]) / txo['pub']['txi']\n",
    "    tx_eng = np.array([txo['eng'][o] for o in ['txs', 'txd', 'txl']]) / txo['eng']['txi']\n",
    "\n",
    "    for p in js['pars']:\n",
    "        txi_ep = txo['eng']['txi'] * p['p_pri_on_pub'] \n",
    "        tx_eng_ei = np.array([txo['eng'][o] for o in ['txs', 'txd', 'txl']]) - txi_ep * ps_pub\n",
    "        tx_eng_ei[tx_eng_ei < 0] = 0\n",
    "        ps_pri = tx_eng_ei / (txo['eng']['txi'] * (1 - p['p_pri_on_pub']))\n",
    "\n",
    "        p['r_txs_pub'], p['r_txd_pub'], p['r_txl_pub'] = ps_pub * 0.5\n",
    "        p['r_txs_pri'], p['r_txd_pri'], p['r_txl_pri'] = p['dur_pri'] * ps_pri\n",
    "        \n",
    "        if p['r_txd_pri'] < p['r_txd_pub']:\n",
    "            diff = p['r_txd_pub'] - p['r_txd_pri']\n",
    "            p['r_txd_pri'] = p['r_txd_pub']\n",
    "            p['r_txl_pri'] -= diff\n",
    "            \n",
    "        if p['r_txs_pri'] > p['r_txs_pub']:\n",
    "            diff = p['r_txs_pri'] - p['r_txs_pub']\n",
    "            p['r_txs_pri'] = p['r_txs_pub']\n",
    "            p['r_txl_pri'] += diff"
   ]
  },
  {
   "cell_type": "code",
   "execution_count": 3,
   "id": "4fab028b-9c7e-4b28-b499-252d96270f75",
   "metadata": {
    "tags": []
   },
   "outputs": [
    {
     "data": {
      "text/plain": [
       "['India',\n",
       " 'Andhra_Pradesh',\n",
       " 'Arunachal_Pradesh',\n",
       " 'Assam',\n",
       " 'Bihar',\n",
       " 'Chandigarh',\n",
       " 'Chhattisgarh',\n",
       " 'Delhi',\n",
       " 'Gujarat',\n",
       " 'Haryana',\n",
       " 'Himachal_Pradesh',\n",
       " 'Jammu_and_Kashmir',\n",
       " 'Jharkhand',\n",
       " 'Karnataka',\n",
       " 'Kerala',\n",
       " 'Madhya_Pradesh',\n",
       " 'Maharashtra',\n",
       " 'Manipur',\n",
       " 'Meghalaya',\n",
       " 'Nagaland',\n",
       " 'Odisha',\n",
       " 'Punjab',\n",
       " 'Rajasthan',\n",
       " 'Tamil_Nadu',\n",
       " 'Telangana',\n",
       " 'Uttar_Pradesh',\n",
       " 'Uttarakhand',\n",
       " 'West_Bengal']"
      ]
     },
     "execution_count": 3,
     "metadata": {},
     "output_type": "execute_result"
    }
   ],
   "source": [
    "locations = list(pd.read_csv('data/locations.csv').Location)\n",
    "locations"
   ]
  },
  {
   "cell_type": "code",
   "execution_count": 4,
   "id": "4e01a940-912a-456a-9faa-da130ead6e01",
   "metadata": {
    "tags": []
   },
   "outputs": [],
   "source": [
    "for loc in locations:\n",
    "    js = json.load(open(f'data/{loc}/pars_under.json', 'r'))\n",
    "    targets = pd.read_csv(f'data/{loc}/targets.csv')\n",
    "    txo = extract_txo(targets)\n",
    "    attach_pars_tx(js['pars'], txo)\n",
    "    \n",
    "    with open(f'data/{loc}/pars_txo.json', 'w') as f:\n",
    "        json.dump(js, f)"
   ]
  }
 ],
 "metadata": {
  "kernelspec": {
   "display_name": "Python 3 (ipykernel)",
   "language": "python",
   "name": "python3"
  },
  "language_info": {
   "codemirror_mode": {
    "name": "ipython",
    "version": 3
   },
   "file_extension": ".py",
   "mimetype": "text/x-python",
   "name": "python",
   "nbconvert_exporter": "python",
   "pygments_lexer": "ipython3",
   "version": "3.10.9"
  }
 },
 "nbformat": 4,
 "nbformat_minor": 5
}

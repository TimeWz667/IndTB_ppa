{
 "cells": [
  {
   "cell_type": "code",
   "execution_count": 1,
   "id": "9c64181d-6dde-45d2-a6c0-e4ad90503ff8",
   "metadata": {},
   "outputs": [],
   "source": [
    "import json\n",
    "import pandas as pd\n",
    "from ppa.pars_cas import *\n",
    "from sims_pars import bayes_net_from_script\n",
    "import numpy as np"
   ]
  },
  {
   "cell_type": "code",
   "execution_count": 2,
   "id": "356448f9-91ff-4711-8dc2-6fba05ca8647",
   "metadata": {
    "tags": []
   },
   "outputs": [
    {
     "data": {
      "text/plain": [
       "['India',\n",
       " 'Andhra_Pradesh',\n",
       " 'Arunachal_Pradesh',\n",
       " 'Assam',\n",
       " 'Bihar',\n",
       " 'Chandigarh',\n",
       " 'Chhattisgarh',\n",
       " 'Delhi',\n",
       " 'Gujarat',\n",
       " 'Haryana',\n",
       " 'Himachal_Pradesh',\n",
       " 'Jammu_and_Kashmir',\n",
       " 'Jharkhand',\n",
       " 'Karnataka',\n",
       " 'Kerala',\n",
       " 'Madhya_Pradesh',\n",
       " 'Maharashtra',\n",
       " 'Manipur',\n",
       " 'Meghalaya',\n",
       " 'Nagaland',\n",
       " 'Odisha',\n",
       " 'Punjab',\n",
       " 'Rajasthan',\n",
       " 'Tamil_Nadu',\n",
       " 'Telangana',\n",
       " 'Uttar_Pradesh',\n",
       " 'Uttarakhand',\n",
       " 'West_Bengal']"
      ]
     },
     "execution_count": 2,
     "metadata": {},
     "output_type": "execute_result"
    }
   ],
   "source": [
    "locations = list(pd.read_csv('data/locations.csv').Location)\n",
    "locations"
   ]
  },
  {
   "cell_type": "code",
   "execution_count": 3,
   "id": "58bbdb7d-2e52-4a4b-baca-2d80a453e022",
   "metadata": {
    "tags": []
   },
   "outputs": [],
   "source": [
    "adr = get_adr(pd.read_csv('data/India/targets.csv'))\n",
    "\n",
    "with open('data/prior.txt', 'r') as f:\n",
    "    prior = bayes_net_from_script(f.read())"
   ]
  },
  {
   "cell_type": "code",
   "execution_count": 4,
   "id": "bfc81a6e-718a-4d1f-8941-b1cbc1396625",
   "metadata": {
    "tags": []
   },
   "outputs": [
    {
     "name": "stdout",
     "output_type": "stream",
     "text": [
      "India \t  1998/1998 (100.0%)\n",
      "Andhr \t  1995/2000 (99.8%)\n",
      "Aruna \t  1505/1505 (100.0%)\n",
      "Assam \t  1089/1963 (55.5%)\n",
      "Bihar \t  1993/1993 (100.0%)\n",
      "Chand \t  1991/1991 (100.0%)\n",
      "Chhat \t  1839/1983 (92.7%)\n",
      "Delhi \t  1941/1941 (100.0%)\n",
      "Gujar \t  1994/2000 (99.7%)\n",
      "Harya \t  1764/1993 (88.5%)\n",
      "Himac \t  1994/1994 (100.0%)\n",
      "Jammu \t  1954/1954 (100.0%)\n",
      "Jhark \t  1724/1964 (87.8%)\n",
      "Karna \t  1823/1998 (91.2%)\n",
      "Keral \t  1895/2000 (94.8%)\n",
      "Madhy \t  1964/1967 (99.8%)\n",
      "Mahar \t  1990/1990 (100.0%)\n",
      "Manip \t  335/1981 (16.9%)\n",
      "Megha \t  1655/1958 (84.5%)\n",
      "Nagal \t  1783/1892 (94.2%)\n",
      "Odish \t  768/1996 (38.5%)\n",
      "Punja \t  1999/1999 (100.0%)\n",
      "Rajas \t  1965/1996 (98.4%)\n",
      "Tamil \t  1997/2000 (99.9%)\n",
      "Telan \t  2000/2000 (100.0%)\n",
      "Uttar \t  1995/1995 (100.0%)\n",
      "Uttar \t  2000/2000 (100.0%)\n",
      "West_ \t  1319/1985 (66.4%)\n"
     ]
    }
   ],
   "source": [
    "for loc in locations:\n",
    "    js = json.load(open(f'data/{loc}/pars_txo.json', 'r'))\n",
    "    attach_pars_cas(js, prior, adr, max_attempt=10)\n",
    "    \n",
    "    valid_pars = [p for p in js['pars'] if p['is_valid']]\n",
    "    n_valid = len(valid_pars)\n",
    "    n_p = len(js['pars'])\n",
    "    print(loc[:5], '\\t ', f'{n_valid}/{n_p} ({n_valid/n_p:.1%})')\n",
    "    js['pars'] = valid_pars\n",
    "    \n",
    "    with open(f'data/{loc}/pars_cas.json', 'w') as f:\n",
    "        json.dump(js, f)"
   ]
  }
 ],
 "metadata": {
  "kernelspec": {
   "display_name": "Python 3 (ipykernel)",
   "language": "python",
   "name": "python3"
  },
  "language_info": {
   "codemirror_mode": {
    "name": "ipython",
    "version": 3
   },
   "file_extension": ".py",
   "mimetype": "text/x-python",
   "name": "python",
   "nbconvert_exporter": "python",
   "pygments_lexer": "ipython3",
   "version": "3.10.9"
  }
 },
 "nbformat": 4,
 "nbformat_minor": 5
}

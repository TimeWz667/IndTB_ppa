{
 "cells": [
  {
   "cell_type": "code",
   "execution_count": 1,
   "id": "89df5491-95ab-46cc-ae25-b745978860fb",
   "metadata": {
    "tags": []
   },
   "outputs": [],
   "source": [
    "from sims_pars import bayes_net_from_script, sample\n",
    "from scipy.integrate import solve_ivp\n",
    "import numpy as np\n",
    "import pandas as pd\n",
    "import tqdm\n",
    "from ppa.pars import *\n",
    "from ppa.ebm.cohort import Model"
   ]
  },
  {
   "cell_type": "code",
   "execution_count": 2,
   "id": "d8005711-10f2-4a6e-b829-9a72b4f594ba",
   "metadata": {
    "tags": []
   },
   "outputs": [],
   "source": [
    "with open('data/prior.txt', 'r') as f:\n",
    "    prior = bayes_net_from_script(f.read())\n",
    "\n",
    "cr = CasRepo.load('data/pars_india.json')\n"
   ]
  },
  {
   "cell_type": "code",
   "execution_count": 3,
   "id": "ecc3bd72-906a-447b-a21d-ddee1dfe48a5",
   "metadata": {
    "tags": []
   },
   "outputs": [],
   "source": [
    "m = Model()"
   ]
  },
  {
   "cell_type": "code",
   "execution_count": 5,
   "id": "e2d0811f-3cfe-4003-ba76-1104cf53ae98",
   "metadata": {
    "tags": []
   },
   "outputs": [
    {
     "name": "stderr",
     "output_type": "stream",
     "text": [
      "100%|██████████| 1000/1000 [00:19<00:00, 51.31it/s]\n"
     ]
    }
   ],
   "source": [
    "mss = list()\n",
    "\n",
    "for i in tqdm.tqdm(range(1000)):\n",
    "    exo = sample(prior)\n",
    "    ps = cr.prepare_pars(exo=exo)\n",
    "    ms = m.simulate(ps)\n",
    "    mss.append(ms.assign(Key=i))\n",
    "    \n",
    "mss = pd.concat(mss)"
   ]
  },
  {
   "cell_type": "code",
   "execution_count": 6,
   "id": "a5340ba6-f2ba-4810-a323-fa215b979d41",
   "metadata": {
    "tags": []
   },
   "outputs": [],
   "source": [
    "mss.to_csv('docs/run_cohort.csv')"
   ]
  }
 ],
 "metadata": {
  "kernelspec": {
   "display_name": "Python 3 (ipykernel)",
   "language": "python",
   "name": "python3"
  },
  "language_info": {
   "codemirror_mode": {
    "name": "ipython",
    "version": 3
   },
   "file_extension": ".py",
   "mimetype": "text/x-python",
   "name": "python",
   "nbconvert_exporter": "python",
   "pygments_lexer": "ipython3",
   "version": "3.10.9"
  }
 },
 "nbformat": 4,
 "nbformat_minor": 5
}

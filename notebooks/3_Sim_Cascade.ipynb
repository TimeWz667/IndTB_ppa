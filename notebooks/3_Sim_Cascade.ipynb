{
 "cells": [
  {
   "cell_type": "code",
   "execution_count": 2,
   "id": "f414b5be-cff6-4d1e-88bb-890f89f24c2c",
   "metadata": {},
   "outputs": [],
   "source": [
    "from scipy.integrate import solve_ivp\n",
    "import numpy as np\n",
    "import pandas as pd\n",
    "import json"
   ]
  },
  {
   "cell_type": "code",
   "execution_count": 17,
   "id": "512135e7-b3de-4643-a2f3-1c4cb76bc555",
   "metadata": {},
   "outputs": [],
   "source": [
    "loc = 'India'\n",
    "pars_cs = pd.read_csv(f'docs/tabs/post_cs_nods_{loc}.csv')\n",
    "pars_cs = [dict(row) for _, row in pars_cs.iterrows()]\n",
    "pars_txi = pd.read_csv('docs/tabs/post_txi.csv').set_index('State')"
   ]
  },
  {
   "cell_type": "code",
   "execution_count": 28,
   "id": "0b28d5f4-d78d-4cda-9347-5d1ba037bca1",
   "metadata": {},
   "outputs": [],
   "source": [
    "class I:\n",
    "    NonTB = 0\n",
    "    Asym = 1\n",
    "    Sym = 2\n",
    "    ExCS = 3\n",
    "    TxPub = 4\n",
    "    TxEngPu = 5\n",
    "    TxEngPr = 6\n",
    "    TxPri = 7"
   ]
  },
  {
   "cell_type": "code",
   "execution_count": 21,
   "id": "0a52b5e7-d8e3-4188-b1a4-d1f352bfffd0",
   "metadata": {},
   "outputs": [
    {
     "data": {
      "text/plain": [
       "dict_keys(['prv0', 'adr', 'p_pub', 'p_ppm', 'r_sym', 'r_aware', 'r_acf', 'r_det_all', 'r_sc', 'txi_pri', 'ppv_pri', 'dur_pri', 'p_pri_on_pub', 'ra', 'rs', 'rc', 'r_det', 'a0', 'c0', 'pr_a', 'pr_s', 'pr_c', 'prv_a', 'prv_s', 'prv_c', 'prv_t_eu', 'prv_t_ei', 'prv_t_pri', 'det_pub', 'det_eng', 'det_pri', 'scale_dur', 'r_death_a', 'r_death_s', 'ppv_pub', 'ppv_eng', 'sens_acf', 'spec_acf', 'dur_pub'])"
      ]
     },
     "execution_count": 21,
     "metadata": {},
     "output_type": "execute_result"
    }
   ],
   "source": [
    "p = pars_cs[0]\n",
    "p.keys()"
   ]
  },
  {
   "cell_type": "code",
   "execution_count": 35,
   "id": "e30efb54-16f8-44ec-8c59-b1a8bdf7bfbe",
   "metadata": {},
   "outputs": [
    {
     "data": {
      "text/plain": [
       "p_txi_pub_m    0.941428\n",
       "p_txi_pub_l    0.941215\n",
       "p_txi_pub_u    0.941647\n",
       "p_txi_eng_m    0.884097\n",
       "p_txi_eng_l    0.883616\n",
       "p_txi_eng_u    0.884574\n",
       "Name: India, dtype: float64"
      ]
     },
     "execution_count": 35,
     "metadata": {},
     "output_type": "execute_result"
    }
   ],
   "source": [
    "pars_txi.loc[loc, ]"
   ]
  },
  {
   "cell_type": "code",
   "execution_count": 30,
   "id": "d75ba193-9437-4475-94b9-cc4238e6761a",
   "metadata": {},
   "outputs": [
    {
     "data": {
      "text/plain": [
       "0.9999999999999998"
      ]
     },
     "execution_count": 30,
     "metadata": {},
     "output_type": "execute_result"
    }
   ],
   "source": [
    "year0 = 2015\n",
    "\n",
    "k = np.exp(- p['adr'] * (year0 - 2020))\n",
    "prev = k * p['prv0']\n",
    "\n",
    "y0 = np.zeros(8)\n",
    "y0[I.NonTB] = 1 - prev\n",
    "y0[I.Asym] = p['prv_a'] * k\n",
    "y0[I.Sym] = p['prv_s'] * k\n",
    "y0[I.ExCS] = p['prv_c'] * k\n",
    "\n",
    "y0.sum()\n"
   ]
  },
  {
   "cell_type": "code",
   "execution_count": 76,
   "id": "597405af-051e-4625-860f-16ddb22b4813",
   "metadata": {},
   "outputs": [],
   "source": [
    "def fn(t, y, pars):\n",
    "    onset = pars['r_sym'] *  y[I.Asym]\n",
    "    aware = pars['r_aware'] * y[I.Sym]\n",
    "    \n",
    "    p_det = np.array([pars['p_pub'], (1 - pars['p_pub']) * pars['p_ppm'], (1 - pars['p_pub']) * (1 - pars['p_ppm'])])\n",
    "    # p_txi = np.array([pars['txi_pub'], pars['txi_eng'], pars['txi_pri']])\n",
    "    p_txi = np.array([0.94, 0.88, pars['txi_pri']])\n",
    "    det = pars['r_det'] * p_det * p_txi * y[I.ExCS]\n",
    "    \n",
    "    sc_a = pars['r_sc'] * y[I.Asym]\n",
    "    sc_s = pars['r_sc'] * y[I.Sym]\n",
    "    sc_c = pars['r_sc'] * y[I.ExCS]\n",
    "    die_a = pars['r_death_a'] * y[I.Asym]\n",
    "    die_s = pars['r_death_s'] * y[I.Sym]\n",
    "    die_c = pars['r_death_s'] * y[I.ExCS]\n",
    "    \n",
    "    acf_a = pars['r_acf'] * pars['sens_acf'] * y[I.Asym]\n",
    "    acf_s = pars['r_acf'] * pars['sens_acf'] * y[I.Sym]\n",
    "    acf_c = pars['r_acf'] * pars['sens_acf'] * y[I.ExCS]\n",
    "    \n",
    "    acf_a = acf_s = acf_c = 0\n",
    "    \n",
    "    \n",
    "    inc = onset + acf_a + sc_a + die_a - pars['adr'] * y[I.Asym]\n",
    "    \n",
    "    dy = np.zeros_like(y)\n",
    "    dy[I.Asym] += inc - onset - acf_a - sc_a - die_a\n",
    "    dy[I.Sym] += onset - aware - acf_s - sc_s - die_s\n",
    "    dy[I.ExCS] += aware - det.sum() - acf_c - sc_c - die_c\n",
    "    return dy\n",
    "    \n",
    "    "
   ]
  },
  {
   "cell_type": "code",
   "execution_count": 77,
   "id": "32fb4d14-1a6d-4145-b5a7-0b5c33bcf270",
   "metadata": {},
   "outputs": [],
   "source": [
    "ys = solve_ivp(fn, [2015, 2025], y0 = y0, args = (p, ))"
   ]
  },
  {
   "cell_type": "code",
   "execution_count": 78,
   "id": "1fc1f780-0c47-49d2-9cee-47396a6534fb",
   "metadata": {},
   "outputs": [
    {
     "data": {
      "text/plain": [
       "array([-0.0453766, -0.0453766, -0.0453766, -0.0453766, -0.0453766,\n",
       "       -0.0453766, -0.0453766, -0.0453766, -0.0453766, -0.0453766])"
      ]
     },
     "execution_count": 78,
     "metadata": {},
     "output_type": "execute_result"
    }
   ],
   "source": [
    "np.diff(np.log(ys.y[I.Asym]))/ np.diff(ys.t)"
   ]
  },
  {
   "cell_type": "code",
   "execution_count": 79,
   "id": "a687e24c-ff8d-4297-b3c3-37017dfac36d",
   "metadata": {},
   "outputs": [
    {
     "data": {
      "text/plain": [
       "0.0025725450377081"
      ]
     },
     "execution_count": 79,
     "metadata": {},
     "output_type": "execute_result"
    }
   ],
   "source": [
    "p['r_acf'] * p['sens_acf']"
   ]
  }
 ],
 "metadata": {
  "kernelspec": {
   "display_name": "Python 3 (ipykernel)",
   "language": "python",
   "name": "python3"
  },
  "language_info": {
   "codemirror_mode": {
    "name": "ipython",
    "version": 3
   },
   "file_extension": ".py",
   "mimetype": "text/x-python",
   "name": "python",
   "nbconvert_exporter": "python",
   "pygments_lexer": "ipython3",
   "version": "3.10.6"
  }
 },
 "nbformat": 4,
 "nbformat_minor": 5
}

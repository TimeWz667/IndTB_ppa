{
 "cells": [
  {
   "cell_type": "code",
   "execution_count": 2,
   "id": "f414b5be-cff6-4d1e-88bb-890f89f24c2c",
   "metadata": {},
   "outputs": [],
   "source": [
    "from scipy.integrate import solve_ivp\n",
    "import numpy as np\n",
    "import pandas as pd\n",
    "import json"
   ]
  },
  {
   "cell_type": "code",
   "execution_count": 3,
   "id": "512135e7-b3de-4643-a2f3-1c4cb76bc555",
   "metadata": {},
   "outputs": [],
   "source": [
    "loc = 'India'\n",
    "\n",
    "with open(f'docs/pars/pars_nods_{loc}.json', 'r') as f:\n",
    "    post = json.load(f)\n"
   ]
  },
  {
   "cell_type": "code",
   "execution_count": 4,
   "id": "0b28d5f4-d78d-4cda-9347-5d1ba037bca1",
   "metadata": {},
   "outputs": [],
   "source": [
    "class I:\n",
    "    NonTB = 0\n",
    "    Asym = 1\n",
    "    Sym = 2\n",
    "    ExCS = 3\n",
    "    TxPub = 4\n",
    "    TxEng = 5\n",
    "    TxPri = 6\n",
    "    FpPub = 7\n",
    "    FpEng = 8\n",
    "    FpPri = 9"
   ]
  },
  {
   "cell_type": "code",
   "execution_count": 5,
   "id": "daaaccae-a925-48d8-9eb8-61b7978ff1d0",
   "metadata": {},
   "outputs": [
    {
     "data": {
      "text/plain": [
       "{'prv0': 0.0024,\n",
       " 'adr': 0.0454,\n",
       " 'p_pub': 0.6683,\n",
       " 'p_ppm': 0.8196,\n",
       " 'r_sym': 1.0114,\n",
       " 'r_aware': 2.6881,\n",
       " 'r_acf': 0.0038,\n",
       " 'r_det_all': 3.0331,\n",
       " 'r_sc': 0.2673,\n",
       " 'txi_pri': 0.027,\n",
       " 'ppv_pri': 0.3388,\n",
       " 'dur_pri': 0.8233,\n",
       " 'p_pri_on_pub': 0.8437,\n",
       " 'ra': 0.2699,\n",
       " 'rs': 0.3899,\n",
       " 'rc': 0.3899,\n",
       " 'r_det': 3.4819,\n",
       " 'a0': 2.9983,\n",
       " 'c0': 0.7958,\n",
       " 'pr_a': 0.6254,\n",
       " 'pr_s': 0.2086,\n",
       " 'pr_c': 0.166,\n",
       " 'prv_a': 0.0015,\n",
       " 'prv_s': 0.0005,\n",
       " 'prv_c': 0.0004,\n",
       " 'prv_t_eu': 0.0006,\n",
       " 'prv_t_ei': 0.0001,\n",
       " 'prv_t_pri': 3.0244e-06,\n",
       " 'det_pub': 0.6683,\n",
       " 'det_eng': 0.2718,\n",
       " 'det_pri': 0.0599,\n",
       " 'prv_t_pub': 0.0005,\n",
       " 'scale_dur': 1,\n",
       " 'r_death_a': 0,\n",
       " 'r_death_s': 0.12,\n",
       " 'ppv_pub': 0.85,\n",
       " 'ppv_eng': 0.85,\n",
       " 'sens_acf': 0.7,\n",
       " 'spec_acf': 0.99,\n",
       " 'dur_pub': 0.5,\n",
       " 'p_txd_pub': 0.0416,\n",
       " 'p_txs_pub': 0.8245,\n",
       " 'p_txl_pub': 0.1339,\n",
       " 'p_txd_eng': 0.0252,\n",
       " 'p_txs_eng': 0.6908,\n",
       " 'p_txl_eng': 0.284,\n",
       " 'p_txi_pub': 0.9416,\n",
       " 'p_txi_eng': 0.8841}"
      ]
     },
     "execution_count": 5,
     "metadata": {},
     "output_type": "execute_result"
    }
   ],
   "source": [
    "post[0]"
   ]
  },
  {
   "cell_type": "code",
   "execution_count": 11,
   "id": "c6c97f40-0ebe-486f-9b56-ab9d45c88c54",
   "metadata": {},
   "outputs": [],
   "source": [
    "class Model:\n",
    "    def get_y0(self, t, pars):\n",
    "        k = np.exp(- pars['adr'] * (t - 2020))\n",
    "        prev = k * pars['prv0']\n",
    "\n",
    "        p_det = np.array([pars['p_pub'], (1 - pars['p_pub']) * pars['p_ppm'], (1 - pars['p_pub']) * (1 - pars['p_ppm'])])\n",
    "\n",
    "        p_txi = np.array([pars['p_txi_pub'], pars['p_txi_eng'], pars['txi_pri']])\n",
    "        \n",
    "        r_det_all = pars['r_det_all'] #(pars['r_det'] * p_entry * p_txi).sum()\n",
    "        r_det_all = pars['r_det'] * (p_det * p_txi).sum()\n",
    "        r_acf = pars['r_acf'] * pars['sens_acf']\n",
    "        rs = rc = pars['r_sc'] + pars['r_death_s'] + r_acf\n",
    "\n",
    "        asc = np.array([\n",
    "            (rs + pars['r_aware'] - pars['adr']) / pars['r_sym'],\n",
    "            1,\n",
    "            pars['r_aware'] / (rc + r_det_all - pars['adr'])\n",
    "        ])\n",
    "        asc /= asc.sum()\n",
    "\n",
    "        y0 = np.zeros(10)\n",
    "        y0[I.NonTB] = 1 - prev\n",
    "        y0[I.Asym] = asc[0] * prev\n",
    "        y0[I.Sym] = asc[1] * prev\n",
    "        y0[I.ExCS] = asc[2] * prev\n",
    "        return y0\n",
    "    \n",
    "    def calc(self, t, y, pars):\n",
    "        calc = dict()\n",
    "\n",
    "        calc['onset'] = onset = pars['r_sym'] * y[I.Asym]\n",
    "        calc['aware'] = pars['r_aware'] * y[I.Sym]\n",
    "    \n",
    "        p_det = np.array([pars['p_pub'], (1 - pars['p_pub']) * pars['p_ppm'], (1 - pars['p_pub']) * (1 - pars['p_ppm'])])\n",
    "        p_txi = np.array([pars['p_txi_pub'], pars['p_txi_eng'], pars['txi_pri']])\n",
    "        r_det_all = pars['r_det_all']\n",
    "        r_det_all = pars['r_det'] * (p_det * p_txi).sum()\n",
    "        calc['det'] = r_det_all * y[I.ExCS]\n",
    "\n",
    "        calc['sc_a'] = sc_a = pars['r_sc'] * y[I.Asym]\n",
    "        calc['sc_s'] = pars['r_sc'] * y[I.Sym]\n",
    "        calc['sc_c'] = pars['r_sc'] * y[I.ExCS]\n",
    "        calc['die_a'] = die_a = pars['r_death_a'] * y[I.Asym]\n",
    "        calc['die_s'] = pars['r_death_s'] * y[I.Sym]\n",
    "        calc['die_c'] = pars['r_death_s'] * y[I.ExCS]\n",
    "\n",
    "        calc['acf_a'] = acf_a = pars['r_acf'] * pars['sens_acf'] * y[I.Asym]\n",
    "        calc['acf_s'] = pars['r_acf'] * pars['sens_acf'] * y[I.Sym]\n",
    "        calc['acf_c'] = pars['r_acf'] * pars['sens_acf'] * y[I.ExCS]\n",
    "\n",
    "    \n",
    "        calc['inc'] = onset + acf_a + sc_a + die_a - pars['adr'] * y[I.Asym]\n",
    "\n",
    "        return calc\n",
    "\n",
    "    def __call__(self, t, y, pars):\n",
    "        calc = self.calc(t, y, pars)\n",
    "        dy = np.zeros_like(y)\n",
    "        \n",
    "        inc, onset, aware = calc['inc'], calc['onset'], calc['aware']\n",
    "        sc_a, sc_s, sc_c = calc['sc_a'], calc['sc_s'], calc['sc_c']\n",
    "        die_a, die_s, die_c = calc['die_a'], calc['die_s'], calc['die_c']\n",
    "        acf_a, acf_s, acf_c = calc['acf_a'], calc['acf_s'], calc['acf_c']\n",
    "        det = calc['det']\n",
    "        \n",
    "        dy[I.Asym] += inc - onset - acf_a - sc_a - die_a\n",
    "        dy[I.Sym] += onset - aware - acf_s - sc_s - die_s\n",
    "        dy[I.ExCS] += aware - det - acf_c - sc_c - die_c\n",
    "        return dy\n",
    "    \n",
    "    def measure(self, t, y, pars):\n",
    "        calc = self.calc(t, y, pars)\n",
    "        mea = {'Time': t}\n",
    "        mea['N'] = n = y.sum()\n",
    "        mea['PrevA'] = y[I.Asym]\n",
    "        mea['PrevS'] = y[I.Sym]\n",
    "        mea['PrevC'] = y[I.ExCS]\n",
    "        mea['Inc'] = calc['inc']\n",
    "        mea['DetR'] = calc['det'].sum()\n",
    "        return mea\n",
    "    \n",
    "    \n",
    "    def simulate(self, pars):\n",
    "        y0 = self.get_y0(2015, pars)\n",
    "        ys = solve_ivp(self, [2015, 2025], y0 = y0, args = (pars, ), dense_output=True)\n",
    "        ms = [self.measure(t, ys.sol(t), pars) for t in np.linspace(2015, 2025, 21)]\n",
    "        ms = pd.DataFrame(ms)\n",
    "        return ys, ms\n",
    "        \n",
    "    "
   ]
  },
  {
   "cell_type": "code",
   "execution_count": 12,
   "id": "597405af-051e-4625-860f-16ddb22b4813",
   "metadata": {},
   "outputs": [],
   "source": [
    "m = Model()\n",
    "ys, ms = m.simulate(post[0])"
   ]
  },
  {
   "cell_type": "code",
   "execution_count": 14,
   "id": "512527f8-66fa-4594-b435-d44f0082f026",
   "metadata": {},
   "outputs": [
    {
     "data": {
      "text/plain": [
       "(array([0.0454    , 0.04540001, 0.0454    , 0.04539999, 0.04539999,\n",
       "        0.04540014, 0.04540062, 0.04540085, 0.04540086, 0.04540072,\n",
       "        0.04540047, 0.04540017, 0.04539987, 0.04539959, 0.04539938,\n",
       "        0.04539924, 0.04539918, 0.04539921, 0.04539929, 0.04539941]),\n",
       " 0.0454)"
      ]
     },
     "execution_count": 14,
     "metadata": {},
     "output_type": "execute_result"
    }
   ],
   "source": [
    "- np.diff(np.log(ms.PrevC)) * 2, post[0]['adr']"
   ]
  },
  {
   "cell_type": "code",
   "execution_count": 77,
   "id": "32fb4d14-1a6d-4145-b5a7-0b5c33bcf270",
   "metadata": {},
   "outputs": [],
   "source": [
    "ys = solve_ivp(fn, [2015, 2025], y0 = y0, args = (p, ))"
   ]
  },
  {
   "cell_type": "code",
   "execution_count": 93,
   "id": "f62c1ef0-dfba-4d63-855b-a50738c256e0",
   "metadata": {},
   "outputs": [
    {
     "data": {
      "text/plain": [
       "{'onset': 0.0023904670944685223,\n",
       " 'aware': 0.0021189126810792175,\n",
       " 'det': array([1.37435449e-03, 5.24939999e-04, 3.52863407e-06]),\n",
       " 'sc_a': 0.0006317696799994423,\n",
       " 'sc_s': 0.00021070100057753613,\n",
       " 'sc_c': 0.0001676654267631957,\n",
       " 'die_a': 0.0,\n",
       " 'die_s': 9.4590797116739e-05,\n",
       " 'die_c': 7.527067419223152e-05,\n",
       " 'acf_a': 6.286971001865008e-06,\n",
       " 'acf_s': 2.096762669421048e-06,\n",
       " 'acf_c': 1.6684999445944653e-06,\n",
       " 'inc': 0.002921219804310179}"
      ]
     },
     "execution_count": 93,
     "metadata": {},
     "output_type": "execute_result"
    }
   ],
   "source": [
    "m.calc(2015, m.get_y0(2015, pars), pars)"
   ]
  }
 ],
 "metadata": {
  "kernelspec": {
   "display_name": "Python 3 (ipykernel)",
   "language": "python",
   "name": "python3"
  },
  "language_info": {
   "codemirror_mode": {
    "name": "ipython",
    "version": 3
   },
   "file_extension": ".py",
   "mimetype": "text/x-python",
   "name": "python",
   "nbconvert_exporter": "python",
   "pygments_lexer": "ipython3",
   "version": "3.10.6"
  }
 },
 "nbformat": 4,
 "nbformat_minor": 5
}

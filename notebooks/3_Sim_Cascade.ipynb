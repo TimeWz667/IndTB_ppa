{
 "cells": [
  {
   "cell_type": "code",
   "execution_count": 49,
   "id": "f414b5be-cff6-4d1e-88bb-890f89f24c2c",
   "metadata": {},
   "outputs": [],
   "source": [
    "from scipy.integrate import solve_ivp\n",
    "import numpy as np\n",
    "import pandas as pd\n",
    "import json"
   ]
  },
  {
   "cell_type": "code",
   "execution_count": 50,
   "id": "512135e7-b3de-4643-a2f3-1c4cb76bc555",
   "metadata": {},
   "outputs": [],
   "source": [
    "loc = 'India'\n",
    "\n",
    "with open(f'docs/pars/pars_nods_{loc}.json', 'r') as f:\n",
    "    post = json.load(f)\n"
   ]
  },
  {
   "cell_type": "code",
   "execution_count": 51,
   "id": "0b28d5f4-d78d-4cda-9347-5d1ba037bca1",
   "metadata": {},
   "outputs": [],
   "source": [
    "class I:\n",
    "    NonTB = 0\n",
    "    Asym = 1\n",
    "    Sym = 2\n",
    "    ExCS = 3\n",
    "    TxPub = 4\n",
    "    TxEng = 5\n",
    "    TxPri = 6\n",
    "    FpPub = 7\n",
    "    FpEng = 8\n",
    "    FpPri = 9"
   ]
  },
  {
   "cell_type": "code",
   "execution_count": 84,
   "id": "c6c97f40-0ebe-486f-9b56-ab9d45c88c54",
   "metadata": {},
   "outputs": [],
   "source": [
    "class Model:\n",
    "    def get_y0(self, t, pars):\n",
    "        k = np.exp(- pars['adr'] * (t - 2020))\n",
    "        prev = k * pars['prv0']\n",
    "\n",
    "        p_pub, p_ppm = pars['p_pub'], pars['p_ppm']\n",
    "\n",
    "        p_entry = np.array([p_pub, (1 - p_pub) * p_ppm, (1 - p_pub) * (1 - p_ppm)])\n",
    "\n",
    "        p_txi = np.array([pars['p_txi_pub'], pars['p_txi_eng'], pars['txi_pri']])\n",
    "        \n",
    "        r_det_all = (pars['r_det'] * p_entry * p_txi).sum()\n",
    "\n",
    "        asc = np.array([\n",
    "            (pars['rs'] + pars['r_aware'] - pars['adr']) / pars['r_sym'],\n",
    "            1,\n",
    "            pars['r_aware'] / (pars['rc'] + r_det_all - pars['adr'])\n",
    "        ])\n",
    "        asc /= asc.sum()\n",
    "\n",
    "        y0 = np.zeros(10)\n",
    "        y0[I.NonTB] = 1 - prev\n",
    "        y0[I.Asym] = asc[0] * prev * k\n",
    "        y0[I.Sym] = asc[1] * prev * k\n",
    "        y0[I.ExCS] = asc[2] * prev * k\n",
    "        return y0\n",
    "    \n",
    "    def calc(self, t, y, pars):\n",
    "        calc = dict()\n",
    "\n",
    "        calc['onset'] = onset = pars['r_sym'] *  y[I.Asym]\n",
    "        calc['aware'] = pars['r_aware'] * y[I.Sym]\n",
    "    \n",
    "        p_det = np.array([pars['p_pub'], (1 - pars['p_pub']) * pars['p_ppm'], (1 - pars['p_pub']) * (1 - pars['p_ppm'])])\n",
    "        p_txi = np.array([pars['p_txi_pub'], pars['p_txi_eng'], pars['txi_pri']])\n",
    "        calc['det'] = pars['r_det'] * p_det * p_txi * y[I.ExCS]\n",
    "\n",
    "        calc['sc_a'] = sc_a = pars['r_sc'] * y[I.Asym]\n",
    "        calc['sc_s'] = pars['r_sc'] * y[I.Sym]\n",
    "        calc['sc_c'] = pars['r_sc'] * y[I.ExCS]\n",
    "        calc['die_a'] = die_a = pars['r_death_a'] * y[I.Asym]\n",
    "        calc['die_s'] = pars['r_death_s'] * y[I.Sym]\n",
    "        calc['die_c'] = pars['r_death_s'] * y[I.ExCS]\n",
    "\n",
    "        calc['acf_a'] = acf_a = pars['r_acf'] * pars['sens_acf'] * y[I.Asym]\n",
    "        calc['acf_s'] = pars['r_acf'] * pars['sens_acf'] * y[I.Sym]\n",
    "        calc['acf_c'] = pars['r_acf'] * pars['sens_acf'] * y[I.ExCS]\n",
    "\n",
    "    \n",
    "        calc['inc'] = onset + acf_a + sc_a + die_a - pars['adr'] * y[I.Asym]\n",
    "\n",
    "        return calc\n",
    "\n",
    "    def __call__(self, t, y, pars):\n",
    "        calc = self.calc(t, y, pars)\n",
    "        dy = np.zeros_like(y)\n",
    "        \n",
    "        inc, onset, aware = calc['inc'], calc['onset'], calc['aware']\n",
    "        sc_a, sc_s, sc_c = calc['sc_a'], calc['sc_s'], calc['sc_c']\n",
    "        die_a, die_s, die_c = calc['die_a'], calc['die_s'], calc['die_c']\n",
    "        acf_a, acf_s, acf_c = calc['acf_a'], calc['acf_s'], calc['acf_c']\n",
    "        det = calc['det']\n",
    "        \n",
    "        dy[I.Asym] += inc - onset - acf_a - sc_a - die_a\n",
    "        dy[I.Sym] += onset - aware - acf_s - sc_s - die_s\n",
    "        dy[I.ExCS] += aware - det.sum() - acf_c - sc_c - die_c\n",
    "        return dy\n",
    "    \n",
    "    def measure(self, t, y, pars):\n",
    "        calc = self.calc(t, y, pars)\n",
    "        mea = {'Time': t}\n",
    "        mea['N'] = n = y.sum()\n",
    "        mea['PrevA'] = y[I.Asym]\n",
    "        mea['PrevS'] = y[I.Sym]\n",
    "        mea['PrevC'] = y[I.ExCS]\n",
    "        mea['Inc'] = calc['inc']\n",
    "        mea['DetR'] = calc['det'].sum()\n",
    "        return mea\n",
    "    \n",
    "    \n",
    "    def simulate(self, pars):\n",
    "        y0 = self.get_y0(2015, pars)\n",
    "        ys = solve_ivp(self, [2015, 2025], y0 = y0, args = (pars, ), dense_output=True)\n",
    "        ms = [self.measure(t, ys.sol(t), pars) for t in np.linspace(2015, 2025, 21)]\n",
    "        ms = pd.DataFrame(ms)\n",
    "        return ys, ms\n",
    "        \n",
    "    "
   ]
  },
  {
   "cell_type": "code",
   "execution_count": 85,
   "id": "597405af-051e-4625-860f-16ddb22b4813",
   "metadata": {},
   "outputs": [],
   "source": [
    "m = Model()\n",
    "ys, ms = m.simulate(post[0])"
   ]
  },
  {
   "cell_type": "code",
   "execution_count": 86,
   "id": "512527f8-66fa-4594-b435-d44f0082f026",
   "metadata": {},
   "outputs": [
    {
     "data": {
      "text/plain": [
       "0     0.000627\n",
       "1     0.000614\n",
       "2     0.000603\n",
       "3     0.000588\n",
       "4     0.000569\n",
       "5     0.000554\n",
       "6     0.000548\n",
       "7     0.000534\n",
       "8     0.000523\n",
       "9     0.000512\n",
       "10    0.000499\n",
       "11    0.000490\n",
       "12    0.000476\n",
       "13    0.000468\n",
       "14    0.000455\n",
       "15    0.000447\n",
       "16    0.000434\n",
       "17    0.000428\n",
       "18    0.000414\n",
       "19    0.000408\n",
       "20    0.000397\n",
       "Name: PrevC, dtype: float64"
      ]
     },
     "execution_count": 86,
     "metadata": {},
     "output_type": "execute_result"
    }
   ],
   "source": [
    "ms.PrevC"
   ]
  },
  {
   "cell_type": "code",
   "execution_count": null,
   "id": "a612587f-7a21-4a4c-aa75-117bd1c6d11d",
   "metadata": {},
   "outputs": [],
   "source": []
  },
  {
   "cell_type": "code",
   "execution_count": 92,
   "id": "69987518-0085-4df7-be43-597cf8212b7d",
   "metadata": {},
   "outputs": [
    {
     "data": {
      "text/plain": [
       "(array([0.04608175, 0.04742551, 0.04461951, 0.04148573, 0.04329306,\n",
       "        0.04877578, 0.04575413, 0.04565983, 0.04561016, 0.04522713,\n",
       "        0.04556752, 0.0452651 , 0.04546274, 0.04536335, 0.04544936,\n",
       "        0.04536657, 0.04543827, 0.04537266, 0.0454197 , 0.04539416]),\n",
       " 0.0454)"
      ]
     },
     "execution_count": 92,
     "metadata": {},
     "output_type": "execute_result"
    }
   ],
   "source": [
    "- np.diff(np.log(ms.PrevS)) * 2, post[0]['adr']"
   ]
  },
  {
   "cell_type": "code",
   "execution_count": 77,
   "id": "32fb4d14-1a6d-4145-b5a7-0b5c33bcf270",
   "metadata": {},
   "outputs": [],
   "source": [
    "ys = solve_ivp(fn, [2015, 2025], y0 = y0, args = (p, ))"
   ]
  },
  {
   "cell_type": "code",
   "execution_count": 93,
   "id": "f62c1ef0-dfba-4d63-855b-a50738c256e0",
   "metadata": {},
   "outputs": [
    {
     "data": {
      "text/plain": [
       "{'onset': 0.0023904670944685223,\n",
       " 'aware': 0.0021189126810792175,\n",
       " 'det': array([1.37435449e-03, 5.24939999e-04, 3.52863407e-06]),\n",
       " 'sc_a': 0.0006317696799994423,\n",
       " 'sc_s': 0.00021070100057753613,\n",
       " 'sc_c': 0.0001676654267631957,\n",
       " 'die_a': 0.0,\n",
       " 'die_s': 9.4590797116739e-05,\n",
       " 'die_c': 7.527067419223152e-05,\n",
       " 'acf_a': 6.286971001865008e-06,\n",
       " 'acf_s': 2.096762669421048e-06,\n",
       " 'acf_c': 1.6684999445944653e-06,\n",
       " 'inc': 0.002921219804310179}"
      ]
     },
     "execution_count": 93,
     "metadata": {},
     "output_type": "execute_result"
    }
   ],
   "source": [
    "m.calc(2015, m.get_y0(2015, pars), pars)"
   ]
  }
 ],
 "metadata": {
  "kernelspec": {
   "display_name": "Python 3 (ipykernel)",
   "language": "python",
   "name": "python3"
  },
  "language_info": {
   "codemirror_mode": {
    "name": "ipython",
    "version": 3
   },
   "file_extension": ".py",
   "mimetype": "text/x-python",
   "name": "python",
   "nbconvert_exporter": "python",
   "pygments_lexer": "ipython3",
   "version": "3.10.6"
  }
 },
 "nbformat": 4,
 "nbformat_minor": 5
}

{
 "cells": [
  {
   "cell_type": "code",
   "execution_count": 1,
   "id": "f414b5be-cff6-4d1e-88bb-890f89f24c2c",
   "metadata": {},
   "outputs": [],
   "source": [
    "from scipy.integrate import solve_ivp\n",
    "import numpy as np\n",
    "import pandas as pd\n",
    "import json"
   ]
  },
  {
   "cell_type": "code",
   "execution_count": 4,
   "id": "512135e7-b3de-4643-a2f3-1c4cb76bc555",
   "metadata": {},
   "outputs": [],
   "source": [
    "loc = 'India'\n",
    "\n",
    "with open(f'docs/pars/pars_nods_{loc}.json', 'r') as f:\n",
    "    post = json.load(f)\n"
   ]
  },
  {
   "cell_type": "code",
   "execution_count": 7,
   "id": "0b28d5f4-d78d-4cda-9347-5d1ba037bca1",
   "metadata": {},
   "outputs": [],
   "source": [
    "class I:\n",
    "    NonTB = 0\n",
    "    Asym = 1\n",
    "    Sym = 2\n",
    "    ExCS = 3\n",
    "    TxPub = 4\n",
    "    TxEng = 5\n",
    "    TxPri = 6\n",
    "    FpPub = 7\n",
    "    FpEng = 8\n",
    "    FpPri = 9"
   ]
  },
  {
   "cell_type": "code",
   "execution_count": 29,
   "id": "c6c97f40-0ebe-486f-9b56-ab9d45c88c54",
   "metadata": {},
   "outputs": [],
   "source": [
    "class Model:\n",
    "    def get_y0(self, t, pars):\n",
    "        k = np.exp(- pars['adr'] * (t - 2020))\n",
    "        prev = k * pars['prv0']\n",
    "\n",
    "        y0 = np.zeros(8)\n",
    "        y0[I.NonTB] = 1 - prev\n",
    "        y0[I.Asym] = pars['prv_a'] * k\n",
    "        y0[I.Sym] = pars['prv_s'] * k\n",
    "        y0[I.ExCS] = pars['prv_c'] * k\n",
    "\n",
    "        y0.sum()\n",
    "        return y0\n",
    "    \n",
    "    def calc(self, t, y, pars):\n",
    "        calc = dict()\n",
    "\n",
    "        calc['onset'] = onset = pars['r_sym'] *  y[I.Asym]\n",
    "        calc['aware'] = pars['r_aware'] * y[I.Sym]\n",
    "    \n",
    "        p_det = np.array([pars['p_pub'], (1 - pars['p_pub']) * pars['p_ppm'], (1 - pars['p_pub']) * (1 - pars['p_ppm'])])\n",
    "        p_txi = np.array([pars['p_txi_pub'], pars['p_txi_eng'], pars['txi_pri']])\n",
    "        calc['det'] = pars['r_det'] * p_det * p_txi * y[I.ExCS]\n",
    "\n",
    "        calc['sc_a'] = sc_a = pars['r_sc'] * y[I.Asym]\n",
    "        calc['sc_s'] = pars['r_sc'] * y[I.Sym]\n",
    "        calc['sc_c'] = pars['r_sc'] * y[I.ExCS]\n",
    "        calc['die_a'] = die_a = pars['r_death_a'] * y[I.Asym]\n",
    "        calc['die_s'] = pars['r_death_s'] * y[I.Sym]\n",
    "        calc['die_c'] = pars['r_death_s'] * y[I.ExCS]\n",
    "\n",
    "        calc['acf_a'] = acf_a = pars['r_acf'] * pars['sens_acf'] * y[I.Asym]\n",
    "        calc['acf_s'] = pars['r_acf'] * pars['sens_acf'] * y[I.Sym]\n",
    "        calc['acf_c'] = pars['r_acf'] * pars['sens_acf'] * y[I.ExCS]\n",
    "\n",
    "    \n",
    "        calc['inc'] = onset + acf_a + sc_a + die_a - pars['adr'] * y[I.Asym]\n",
    "\n",
    "        return calc\n",
    "\n",
    "    def __call__(self, t, y, pars):\n",
    "        calc = self.calc(t, y, pars)\n",
    "        dy = np.zeros_like(y)\n",
    "        \n",
    "        inc, onset, aware = calc['inc'], calc['onset'], calc['aware']\n",
    "        sc_a, sc_s, sc_c = calc['sc_a'], calc['sc_s'], calc['sc_c']\n",
    "        die_a, die_s, die_c = calc['die_a'], calc['die_s'], calc['die_c']\n",
    "        acf_a, acf_s, acf_c = calc['acf_a'], calc['acf_s'], calc['acf_c']\n",
    "        det = calc['det']\n",
    "        \n",
    "        dy[I.Asym] += inc - onset - acf_a - sc_a - die_a\n",
    "        dy[I.Sym] += onset - aware - acf_s - sc_s - die_s\n",
    "        dy[I.ExCS] += aware - det.sum() - acf_c - sc_c - die_c\n",
    "        return dy\n",
    "    \n",
    "    def measure(self, t, y, pars):\n",
    "        calc = self.calc(t, y, pars)\n",
    "        mea = {'Time': t}\n",
    "        mea['N'] = n = y.sum()\n",
    "        mea['PrevA'] = y[I.Asym] / n\n",
    "        mea['DetR'] = calc['det'].sum() / n\n",
    "        return mea\n",
    "    \n",
    "    \n",
    "    def simulate(self, pars):\n",
    "        y0 = self.get_y0(2015, pars)\n",
    "        ys = solve_ivp(self, [2015, 2025], y0 = y0, args = (pars, ), dense_output=True)\n",
    "        ms = [self.measure(t, ys.sol(t), pars) for t in np.linspace(2015, 2025, 21)]\n",
    "        ms = pd.DataFrame(ms)\n",
    "        return ys, ms\n",
    "        \n",
    "    "
   ]
  },
  {
   "cell_type": "code",
   "execution_count": 31,
   "id": "597405af-051e-4625-860f-16ddb22b4813",
   "metadata": {},
   "outputs": [],
   "source": [
    "m = Model()\n",
    "ys, ms = m.simulate(post[0])"
   ]
  },
  {
   "cell_type": "code",
   "execution_count": 38,
   "id": "69987518-0085-4df7-be43-597cf8212b7d",
   "metadata": {},
   "outputs": [
    {
     "data": {
      "text/plain": [
       "(array([0.0452576 , 0.04527222, 0.04527001, 0.04527583, 0.04527313,\n",
       "        0.04528362, 0.04527617, 0.04529151, 0.04527819, 0.0453011 ,\n",
       "        0.04528059, 0.04530771, 0.0452867 , 0.04530827, 0.04529411,\n",
       "        0.04530742, 0.04530275, 0.04530991, 0.0453073 , 0.04531778]),\n",
       " 0.0454)"
      ]
     },
     "execution_count": 38,
     "metadata": {},
     "output_type": "execute_result"
    }
   ],
   "source": [
    "- np.diff(np.log(ms.PrevA)) * 2, post[0]['adr']"
   ]
  },
  {
   "cell_type": "code",
   "execution_count": 77,
   "id": "32fb4d14-1a6d-4145-b5a7-0b5c33bcf270",
   "metadata": {},
   "outputs": [],
   "source": [
    "ys = solve_ivp(fn, [2015, 2025], y0 = y0, args = (p, ))"
   ]
  },
  {
   "cell_type": "code",
   "execution_count": 78,
   "id": "1fc1f780-0c47-49d2-9cee-47396a6534fb",
   "metadata": {},
   "outputs": [
    {
     "data": {
      "text/plain": [
       "array([-0.0453766, -0.0453766, -0.0453766, -0.0453766, -0.0453766,\n",
       "       -0.0453766, -0.0453766, -0.0453766, -0.0453766, -0.0453766])"
      ]
     },
     "execution_count": 78,
     "metadata": {},
     "output_type": "execute_result"
    }
   ],
   "source": [
    "np.diff(np.log(ys.y[I.Asym]))/ np.diff(ys.t)"
   ]
  },
  {
   "cell_type": "code",
   "execution_count": 79,
   "id": "a687e24c-ff8d-4297-b3c3-37017dfac36d",
   "metadata": {},
   "outputs": [
    {
     "data": {
      "text/plain": [
       "0.0025725450377081"
      ]
     },
     "execution_count": 79,
     "metadata": {},
     "output_type": "execute_result"
    }
   ],
   "source": [
    "p['r_acf'] * p['sens_acf']"
   ]
  }
 ],
 "metadata": {
  "kernelspec": {
   "display_name": "Python 3 (ipykernel)",
   "language": "python",
   "name": "python3"
  },
  "language_info": {
   "codemirror_mode": {
    "name": "ipython",
    "version": 3
   },
   "file_extension": ".py",
   "mimetype": "text/x-python",
   "name": "python",
   "nbconvert_exporter": "python",
   "pygments_lexer": "ipython3",
   "version": "3.10.6"
  }
 },
 "nbformat": 4,
 "nbformat_minor": 5
}

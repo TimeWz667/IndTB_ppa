{
 "cells": [
  {
   "cell_type": "code",
   "execution_count": 1,
   "id": "54b45059-7606-480e-a603-6252d8079606",
   "metadata": {},
   "outputs": [],
   "source": [
    "from scipy.integrate import solve_ivp\n",
    "import numpy as np\n",
    "import pandas as pd\n",
    "import json\n",
    "import os\n",
    "from ppa.dy import SteadyStateModel\n",
    "from ppa.dy.pathway import PathwayPlain"
   ]
  },
  {
   "cell_type": "code",
   "execution_count": 2,
   "id": "43c92cbe-5868-4558-adb2-63424e9eea80",
   "metadata": {},
   "outputs": [],
   "source": [
    "list_pars = os.listdir('docs/pars')\n",
    "\n",
    "os.makedirs('out/sim/ss', exist_ok=True)"
   ]
  },
  {
   "cell_type": "code",
   "execution_count": 3,
   "id": "5192fcbb-5d06-478d-8ad5-c75364416bd2",
   "metadata": {},
   "outputs": [],
   "source": [
    "model = SteadyStateModel(PathwayPlain())"
   ]
  },
  {
   "cell_type": "code",
   "execution_count": 4,
   "id": "970f739c-73bc-4a94-b687-9509284e076d",
   "metadata": {},
   "outputs": [
    {
     "data": {
      "text/plain": [
       "56"
      ]
     },
     "execution_count": 4,
     "metadata": {},
     "output_type": "execute_result"
    }
   ],
   "source": [
    "len(list_pars)"
   ]
  },
  {
   "cell_type": "code",
   "execution_count": 5,
   "id": "a60b3c8d-1c88-4e6d-a415-25de7341373d",
   "metadata": {},
   "outputs": [
    {
     "name": "stdout",
     "output_type": "stream",
     "text": [
      "pars_nods_Andhra_Pradesh.json\n",
      "pars_nods_Arunachal_Pradesh.json\n",
      "pars_nods_Assam.json\n",
      "pars_nods_Bihar.json\n",
      "pars_nods_Chandigarh.json\n",
      "pars_nods_Chhattisgarh.json\n",
      "pars_nods_Delhi.json\n",
      "pars_nods_Gujarat.json\n",
      "pars_nods_Haryana.json\n",
      "pars_nods_Himachal_Pradesh.json\n",
      "pars_nods_India.json\n",
      "pars_nods_Jammu_&_Kashmir.json\n",
      "pars_nods_Jharkhand.json\n",
      "pars_nods_Karnataka.json\n",
      "pars_nods_Kerala.json\n",
      "pars_nods_Madhya_Pradesh.json\n",
      "pars_nods_Maharashtra.json\n",
      "pars_nods_Manipur.json\n",
      "pars_nods_Meghalaya.json\n",
      "pars_nods_Nagaland.json\n",
      "pars_nods_Odisha.json\n",
      "pars_nods_Punjab.json\n",
      "pars_nods_Rajasthan.json\n",
      "pars_nods_Tamil_Nadu.json\n",
      "pars_nods_Telangana.json\n",
      "pars_nods_Uttarakhand.json\n",
      "pars_nods_Uttar_Pradesh.json\n",
      "pars_nods_West_Bengal.json\n",
      "pars_onds_Andhra_Pradesh.json\n",
      "pars_onds_Arunachal_Pradesh.json\n",
      "pars_onds_Assam.json\n",
      "pars_onds_Bihar.json\n",
      "pars_onds_Chandigarh.json\n",
      "pars_onds_Chhattisgarh.json\n",
      "pars_onds_Delhi.json\n",
      "pars_onds_Gujarat.json\n",
      "pars_onds_Haryana.json\n",
      "pars_onds_Himachal_Pradesh.json\n",
      "pars_onds_India.json\n",
      "pars_onds_Jammu_&_Kashmir.json\n",
      "pars_onds_Jharkhand.json\n",
      "pars_onds_Karnataka.json\n",
      "pars_onds_Kerala.json\n",
      "pars_onds_Madhya_Pradesh.json\n",
      "pars_onds_Maharashtra.json\n",
      "pars_onds_Manipur.json\n",
      "pars_onds_Meghalaya.json\n",
      "pars_onds_Nagaland.json\n",
      "pars_onds_Odisha.json\n",
      "pars_onds_Punjab.json\n",
      "pars_onds_Rajasthan.json\n",
      "pars_onds_Tamil_Nadu.json\n",
      "pars_onds_Telangana.json\n",
      "pars_onds_Uttarakhand.json\n",
      "pars_onds_Uttar_Pradesh.json\n",
      "pars_onds_West_Bengal.json\n"
     ]
    }
   ],
   "source": [
    "for src in list_pars:\n",
    "    print(src)\n",
    "    with open(f'docs/pars/{src}', 'r') as f:\n",
    "        post = json.load(f)\n",
    "\n",
    "    scenario = src.replace('.json', '')\n",
    "\n",
    "    mss = list()\n",
    "\n",
    "    for i, p in enumerate(post):\n",
    "        if p['ppv_pri'] > 0:\n",
    "            _, ms = model.simulate(p) \n",
    "            ms = ms.assign(Source=scenario, Key=i)\n",
    "            mss.append(ms)\n",
    "    mss = pd.concat(mss)\n",
    "    mss.to_csv(f'out/sim/ss/{scenario}.csv')"
   ]
  }
 ],
 "metadata": {
  "kernelspec": {
   "display_name": "Python 3 (ipykernel)",
   "language": "python",
   "name": "python3"
  },
  "language_info": {
   "codemirror_mode": {
    "name": "ipython",
    "version": 3
   },
   "file_extension": ".py",
   "mimetype": "text/x-python",
   "name": "python",
   "nbconvert_exporter": "python",
   "pygments_lexer": "ipython3",
   "version": "3.10.6"
  }
 },
 "nbformat": 4,
 "nbformat_minor": 5
}

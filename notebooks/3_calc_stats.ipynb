{
 "cells": [
  {
   "cell_type": "code",
   "execution_count": 1,
   "id": "12ba7ae9-7375-4889-b52c-79187b3f3366",
   "metadata": {
    "tags": []
   },
   "outputs": [],
   "source": [
    "import json\n",
    "import numpy as np\n",
    "import pandas as pd\n",
    "from ppa.pars_cas import calc_stats"
   ]
  },
  {
   "cell_type": "code",
   "execution_count": 2,
   "id": "aa891fd4-7b08-408f-9b60-fb9ce8cd0047",
   "metadata": {
    "tags": []
   },
   "outputs": [],
   "source": [
    "locations = list(pd.read_csv('data/locations.csv').Location)"
   ]
  },
  {
   "cell_type": "code",
   "execution_count": 3,
   "id": "e8d6d0da-3df9-493c-8286-96b336bba7e4",
   "metadata": {
    "tags": []
   },
   "outputs": [
    {
     "name": "stdout",
     "output_type": "stream",
     "text": [
      "India\n",
      "Andhra_Pradesh\n",
      "Arunachal_Pradesh\n",
      "Assam\n",
      "Bihar\n",
      "Chandigarh\n",
      "Chhattisgarh\n",
      "Delhi\n",
      "Gujarat\n",
      "Haryana\n",
      "Himachal_Pradesh\n",
      "Jammu_and_Kashmir\n",
      "Jharkhand\n",
      "Karnataka\n",
      "Kerala\n",
      "Madhya_Pradesh\n",
      "Maharashtra\n",
      "Manipur\n",
      "Meghalaya\n",
      "Nagaland\n",
      "Odisha\n",
      "Punjab\n",
      "Rajasthan\n",
      "Tamil_Nadu\n",
      "Telangana\n",
      "Uttar_Pradesh\n",
      "Uttarakhand\n",
      "West_Bengal\n"
     ]
    }
   ],
   "source": [
    "ss = list()\n",
    "\n",
    "for loc in locations:\n",
    "    print(loc)\n",
    "    pars = json.load(open(f'data/{loc}/pars_cas.json', 'r'))\n",
    "    stats = pd.DataFrame(calc_stats(p) for p in pars['pars']).assign(Location = loc)\n",
    "    ss.append(stats)\n",
    "    \n",
    "ss = pd.concat(ss)"
   ]
  },
  {
   "cell_type": "code",
   "execution_count": 4,
   "id": "5e4bf55b-cc1c-4722-8e5b-2204329104a0",
   "metadata": {
    "tags": []
   },
   "outputs": [],
   "source": [
    "ss.to_csv('docs/tabs/cascade.csv')"
   ]
  }
 ],
 "metadata": {
  "kernelspec": {
   "display_name": "Python 3 (ipykernel)",
   "language": "python",
   "name": "python3"
  },
  "language_info": {
   "codemirror_mode": {
    "name": "ipython",
    "version": 3
   },
   "file_extension": ".py",
   "mimetype": "text/x-python",
   "name": "python",
   "nbconvert_exporter": "python",
   "pygments_lexer": "ipython3",
   "version": "3.10.9"
  }
 },
 "nbformat": 4,
 "nbformat_minor": 5
}

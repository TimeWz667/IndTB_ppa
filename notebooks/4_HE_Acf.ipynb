{
 "cells": [
  {
   "cell_type": "code",
   "execution_count": 1,
   "id": "3e4d6a42-780d-412b-a258-85b41feb2e71",
   "metadata": {},
   "outputs": [],
   "source": [
    "from scipy.integrate import solve_ivp\n",
    "import numpy as np\n",
    "import pandas as pd\n",
    "import json\n",
    "import os\n",
    "from ppa.dy.cohort import *\n",
    "from ppa.dy.pathway import PathwayPlain\n",
    "import matplotlib.pyplot as plt"
   ]
  },
  {
   "cell_type": "code",
   "execution_count": 11,
   "id": "f529922c-f0b7-4cf8-bf9f-94fe551fc236",
   "metadata": {},
   "outputs": [],
   "source": [
    "from collections import Counter\n",
    "from scipy.optimize import minimize_scalar"
   ]
  },
  {
   "cell_type": "code",
   "execution_count": 2,
   "id": "5470285d-6b3a-431b-a050-508a54d49561",
   "metadata": {},
   "outputs": [],
   "source": [
    "os.makedirs('out/sim/acf', exist_ok=True)"
   ]
  },
  {
   "cell_type": "code",
   "execution_count": 7,
   "id": "d2ebf762-079d-4a71-89e3-515b4e5d48f0",
   "metadata": {},
   "outputs": [],
   "source": [
    "src_y0 = pd.read_csv(\"data/baseline2020.csv\")\n",
    "src_y0 = {row.State: dict(row) for _, row in src_y0.iterrows()}"
   ]
  },
  {
   "cell_type": "code",
   "execution_count": 12,
   "id": "400ad215-0869-4c1a-a218-5671f1f81937",
   "metadata": {},
   "outputs": [],
   "source": [
    "post = json.load(open('docs/pars/pars_onds_India.json', 'r'))"
   ]
  },
  {
   "cell_type": "code",
   "execution_count": 13,
   "id": "580ac0a6-6c7c-41f6-a2f0-963b3b1b09bf",
   "metadata": {},
   "outputs": [
    {
     "data": {
      "text/plain": [
       "{'State': 'India',\n",
       " 'StateGroup': 'India',\n",
       " 'Region': 'India',\n",
       " 'Pop': 1347720000,\n",
       " 'pTBLike': 0.0436235269477028,\n",
       " 'pAsym': 0.0017859457437135,\n",
       " 'pSym': 0.0005733233270125289,\n",
       " 'pExCs': 0.0004736356870724853,\n",
       " 'pVul': 0.252}"
      ]
     },
     "execution_count": 13,
     "metadata": {},
     "output_type": "execute_result"
    }
   ],
   "source": [
    "sel = src_y0['India']\n",
    "sel"
   ]
  },
  {
   "cell_type": "code",
   "execution_count": 15,
   "id": "e96464f8-2d80-4cac-91df-801bfca0b217",
   "metadata": {},
   "outputs": [],
   "source": [
    "def redistribute(ent, odr=1):\n",
    "    p = ent['pAsym'] + ent['pSym'] + ent['pExCs']\n",
    "    n0 = ent['Pop'] * ent['pVul']\n",
    "    n1 = ent['Pop'] - n0\n",
    "    \n",
    "    def fn(p0):\n",
    "        p1 = p0 * odr / (1 - p0 + odr * p0)\n",
    "        pe = (p1 * n1 + p0 * n0) / (n1 + n0)\n",
    "        return (pe - p) ** 2\n",
    "\n",
    "    opt = minimize_scalar(fn, bounds = [0, 1])\n",
    "    \n",
    "    p0 = opt.x\n",
    "    p1 = p0 * odr / (1 - p0 + odr * p0)\n",
    "    ps = np.array([p0, p1])\n",
    "    ns = np.array([n0, n1])\n",
    "    \n",
    "    a, s, c = ent['pAsym'], ent['pSym'], ent['pExCs']\n",
    "    lik = ent['pTBLike']\n",
    "    \n",
    "    return {\n",
    "        'NonTB': (1 - lik) * ns * (1 - ps),\n",
    "        'TBLike': lik * ns * (1 - ps),\n",
    "        'Asym': a / p * ns * ps,\n",
    "        'Sym': s / p * ns * ps,\n",
    "        'ExCs': c / p * ns * ps,\n",
    "        'Tx': np.zeros(2)\n",
    "    }\n"
   ]
  },
  {
   "cell_type": "code",
   "execution_count": 19,
   "id": "6dccf338-d628-4605-a3a8-c3dfc247e5cd",
   "metadata": {},
   "outputs": [],
   "source": [
    "pop = redistribute(sel, 1.5)"
   ]
  },
  {
   "cell_type": "code",
   "execution_count": 101,
   "id": "7e0c87da-9ad9-438b-ae8a-4e4315699bd0",
   "metadata": {},
   "outputs": [],
   "source": [
    "class SymScreening:\n",
    "    def __call__(self, coverage, pop, info):\n",
    "        pop = {k: v.copy() for k, v in pop.items()}\n",
    "        x = coverage * pop['TBLike']\n",
    "        pop['TBLike'] -= x\n",
    "        info['FP_Sym'] += x\n",
    "        info['N_Sym'] += x\n",
    "        \n",
    "        info['N_Sym'] += coverage * pop['NonTB']\n",
    "        info['N_Sym'] += coverage * pop['Asym']\n",
    "        \n",
    "        x = coverage * pop['Sym']\n",
    "        pop['Sym'] -= x\n",
    "        pop['Tx'] += x\n",
    "        info['TP_Sym'] += x\n",
    "        info['N_Sym'] += x\n",
    "        \n",
    "        x = coverage * pop['ExCs']\n",
    "        pop['ExCs'] -= x\n",
    "        pop['Tx'] += x\n",
    "        info['TP_Sym'] += x\n",
    "        info['N_Sym'] += x\n",
    "        return pop\n",
    "        \n",
    "\n",
    "class XpertScreening:\n",
    "    def __init__(self, sens=.7, spec=0.99):\n",
    "        self.Sens = sens\n",
    "        self.Spec = spec\n",
    "    \n",
    "    def __call__(self, coverage, pop, info):\n",
    "        pop = {k: v.copy() for k, v in pop.items()}\n",
    "        x = coverage * (1 - self.Spec) * pop['NonTB']\n",
    "        pop['NonTB'] -= x\n",
    "        info['FP_Xpert'] += x\n",
    "        info['N_Xpert'] += x\n",
    "        \n",
    "        x = coverage * (1 - self.Spec) * pop['TBLike']\n",
    "        pop['TBLike'] -= x\n",
    "        info['FP_Xpert'] += x\n",
    "        info['N_Xpert'] += x\n",
    "        \n",
    "        x = coverage * self.Sens * pop['Asym']\n",
    "        pop['Asym'] -= x\n",
    "        pop['Tx'] += x\n",
    "        info['TP_Xpert'] += x\n",
    "        info['N_Xpert'] += x\n",
    "        \n",
    "        x = coverage * self.Sens * pop['Sym']\n",
    "        pop['Sym'] -= x\n",
    "        pop['Tx'] += x\n",
    "        info['TP_Xpert'] += x\n",
    "        info['N_Xpert'] += x\n",
    "        \n",
    "        x = coverage * self.Sens * pop['ExCs']\n",
    "        pop['ExCs'] -= x\n",
    "        pop['Tx'] += x\n",
    "        info['TP_Xpert'] += x\n",
    "        info['N_Xpert'] += x\n",
    "        return pop\n"
   ]
  },
  {
   "cell_type": "code",
   "execution_count": 102,
   "id": "9c27ff24-b76a-4e2b-8822-7a363045c95b",
   "metadata": {},
   "outputs": [],
   "source": [
    "def run_acf(pop, alg, coverage):\n",
    "    info = Counter()\n",
    "\n",
    "    for tool in alg:\n",
    "        pop = tool(coverage, pop, info)\n",
    "\n",
    "    return pop, info"
   ]
  },
  {
   "cell_type": "code",
   "execution_count": 103,
   "id": "124ee953-0d16-4b98-8b3e-fac46b0a99b6",
   "metadata": {},
   "outputs": [],
   "source": [
    "def get_qol(pop, ps, model):\n",
    "    y0 = np.zeros((I.N_States, 2))\n",
    "    y0[I.Asym] = pop['Asym']\n",
    "    y0[I.Sym] = pop['Sym']\n",
    "    y0[I.ExCsPub] = pop['ExCs']\n",
    "    y0[I.TxPub] = pop['Tx']\n",
    "    \n",
    "    qols = np.zeros(len(ps))\n",
    "    \n",
    "    for i, p in enumerate(ps):\n",
    "        for gp in range(2):\n",
    "            _, ms = model.simulate(p, y0=y0[:, gp])\n",
    "            ms = ms[ms.index <= 2022]\n",
    "\n",
    "            dt = np.diff(ms.index)[0]\n",
    "            qol = 0.9 * ms.S_Asym.sum() + 0.6 * ms.S_Sym.sum() + 0.6 * ms.S_ExCs.sum() + 0.8 * ms.S_TxPub.sum() + 0.8 * ms.S_TxPri.sum()\n",
    "            qol += ms.S_Cured.sum() + ms.S_SelfCured.sum() + 0.9 * ms.S_LTFU.sum()  \n",
    "            qol *= dt\n",
    "            qols[i] += qol\n",
    "    \n",
    "    return qols"
   ]
  },
  {
   "cell_type": "code",
   "execution_count": 104,
   "id": "17c120de-53fa-4765-8e15-11082411a1ba",
   "metadata": {},
   "outputs": [],
   "source": [
    "model = CohortModel(PathwayPlain())"
   ]
  },
  {
   "cell_type": "code",
   "execution_count": 115,
   "id": "b2a86b5f-f883-46f8-8d8c-c4db166d4094",
   "metadata": {},
   "outputs": [],
   "source": [
    "alg = [SymScreening(), XpertScreening()]\n",
    "\n",
    "\n",
    "res = list()\n",
    "\n",
    "pop0 = redistribute(sel, 1.5)\n",
    "qols0 = get_qol(pop0, post[:10], model)\n",
    "\n",
    "res.append({'Coverage': 0, 'Cost': 0, 'Qol': qols0.mean()})\n",
    "\n",
    "for coverage in np.linspace(0.000005, 0.8, 21):\n",
    "    pop1, info = run_acf(pop0, alg, coverage)\n",
    "    qols1 = get_qol(pop1, post[:10], model)\n",
    "    res.append({\n",
    "        'Coverage': coverage,\n",
    "        'Cost': info['N_Sym'].sum() * 2 + info['N_Xpert'].sum() * 10,\n",
    "        'Qol': qols1.mean()\n",
    "    })\n",
    "\n",
    "res = pd.DataFrame(res)"
   ]
  },
  {
   "cell_type": "code",
   "execution_count": 116,
   "id": "7f203a31-07b0-40ab-a500-210347346fc3",
   "metadata": {},
   "outputs": [],
   "source": []
  },
  {
   "cell_type": "code",
   "execution_count": 119,
   "id": "9f32ef97-4989-421c-8ac9-0afb8682bd45",
   "metadata": {},
   "outputs": [
    {
     "data": {
      "text/plain": [
       "<matplotlib.collections.PathCollection at 0x7f80a7733160>"
      ]
     },
     "execution_count": 119,
     "metadata": {},
     "output_type": "execute_result"
    },
    {
     "data": {
      "image/png": "[encoded data removed]",
      "text/plain": [
       "<Figure size 640x480 with 1 Axes>"
      ]
     },
     "metadata": {},
     "output_type": "display_data"
    }
   ],
   "source": [
    "plt.scatter(np.diff(res.Qol)[1:], np.diff(res.Cost)[1:])"
   ]
  },
  {
   "cell_type": "code",
   "execution_count": null,
   "id": "4e2e77d3-ea6c-4096-9eea-56821c6dd979",
   "metadata": {},
   "outputs": [],
   "source": []
  }
 ],
 "metadata": {
  "kernelspec": {
   "display_name": "Python 3 (ipykernel)",
   "language": "python",
   "name": "python3"
  },
  "language_info": {
   "codemirror_mode": {
    "name": "ipython",
    "version": 3
   },
   "file_extension": ".py",
   "mimetype": "text/x-python",
   "name": "python",
   "nbconvert_exporter": "python",
   "pygments_lexer": "ipython3",
   "version": "3.10.6"
  }
 },
 "nbformat": 4,
 "nbformat_minor": 5
}

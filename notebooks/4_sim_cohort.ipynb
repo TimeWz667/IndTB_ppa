{
 "cells": [
  {
   "cell_type": "code",
   "execution_count": 12,
   "id": "cc598735-c089-4475-8129-fb1018eb3cf0",
   "metadata": {
    "tags": []
   },
   "outputs": [],
   "source": [
    "import json\n",
    "import numpy as np\n",
    "import pandas as pd\n",
    "import numpy.random as rd\n",
    "from collections import Counter\n",
    "from ppa.pars_cas import restructure_pars_cas"
   ]
  },
  {
   "cell_type": "code",
   "execution_count": 2,
   "id": "cd8df2e7-eb84-47b2-a91d-ddfb8d2edda7",
   "metadata": {
    "tags": []
   },
   "outputs": [],
   "source": [
    "locations = list(pd.read_csv('data/locations.csv').Location)"
   ]
  },
  {
   "cell_type": "code",
   "execution_count": 3,
   "id": "718b730e-1de8-4a66-a258-0b15522ff6c8",
   "metadata": {
    "tags": []
   },
   "outputs": [],
   "source": [
    "loc = 'India'"
   ]
  },
  {
   "cell_type": "code",
   "execution_count": 4,
   "id": "e5689395-203d-4120-b074-2b23778b50ed",
   "metadata": {
    "tags": []
   },
   "outputs": [],
   "source": [
    "pars = json.load(open(f'data/{loc}/pars_cas.json', 'r'))"
   ]
  },
  {
   "cell_type": "code",
   "execution_count": 5,
   "id": "e4165453-55e0-4187-9ea1-762bc2763382",
   "metadata": {
    "tags": []
   },
   "outputs": [],
   "source": [
    "class DistCompeting:\n",
    "    def __init__(self, kr):\n",
    "        self.KeyRates = kr\n",
    "        \n",
    "    def __call__(self):\n",
    "        kr = [(k, rd.exponential(1 / r)) for k, r in self.KeyRates.items()]\n",
    "        nxt, tte = min(kr, key = lambda x: x[1])\n",
    "        return nxt, tte\n",
    "    \n",
    "class DistSemi:\n",
    "    def __init__(self, kr):\n",
    "        self.States = list(kr.keys())\n",
    "        ps = np.array(list(kr.values()))\n",
    "        self.Dur = 1 / ps.sum()\n",
    "        self.Probs = ps * self.Dur\n",
    "\n",
    "    def __call__(self):\n",
    "        nxt = rd.choice(self.States, p=self.Probs)\n",
    "        return nxt, self.Dur"
   ]
  },
  {
   "cell_type": "code",
   "execution_count": 7,
   "id": "2bf25ddc-5516-411a-8713-caae5d9b3e9c",
   "metadata": {
    "tags": []
   },
   "outputs": [],
   "source": [
    "class Agent:\n",
    "    def __init__(self):\n",
    "        self.History = list()\n",
    "        \n",
    "        self.N_Vis = 0\n",
    "        self.HasOnset = False\n",
    "        self.HasDx = False\n",
    "        self.HasTxI = False\n",
    "        self.HasTxSucc = False\n",
    "\n",
    "    def append(self, st, t):\n",
    "        self.History.append((st, t))\n",
    "\n",
    "\n",
    "class Simulator:\n",
    "    def __init__(self, p):\n",
    "        p = restructure_pars_cas(p)\n",
    "        self.Pars = p\n",
    "        self.Samplers = {\n",
    "            'Asym': DistCompeting({'Sym': p['r_onset'], 'DieUt': p['r_die_asym'], 'SelfCure': p['r_sc']}),\n",
    "            'Sym': DistCompeting({'CSI': p['r_csi'], 'DieUt': p['r_die_sym'], 'SelfCure': p['r_sc']}),\n",
    "            'ExCS': DistCompeting({'ReCSI': p['r_recsi'], 'DieUt': p['r_die_sym'], 'SelfCure': p['r_sc']}),\n",
    "            'TxPub': DistSemi({'Succ': p['r_txs'][0], 'DieTx': p['r_txd'][0], 'LTFU': p['r_txl'][0]}),\n",
    "            'TxPri': DistSemi({'Succ': p['r_txs'][1], 'DieTx': p['r_txd'][1], 'LTFU': p['r_txl'][1]})\n",
    "        }\n",
    "        self.Absorbing = ['DieUt', 'SelfCure', 'DieTx', 'Succ', 'LTFU']\n",
    "        \n",
    "    def _sim_an_agent(self):\n",
    "        p = simulator.Pars\n",
    "        \n",
    "        ag = Agent()\n",
    "\n",
    "        state, ti = 'Asym', 0\n",
    "\n",
    "        ag.append(state, ti)\n",
    "\n",
    "        while not (state in self.Absorbing):\n",
    "            nxt, tte = simulator.Samplers[state]()\n",
    "\n",
    "            if nxt == 'Sym':\n",
    "                ag.HasOnset = True\n",
    "            elif nxt in ['CSI', 'ReCSI']:\n",
    "                ag.N_Vis += 1\n",
    "                sector = rd.choice([0, 1, 2], p=p['p_ent'])\n",
    "                if rd.random() < p['p_dx'][sector]:\n",
    "                    ag.HasDx = True\n",
    "                    if rd.random() < p['p_txi'][sector]:\n",
    "                        ag.HasTxI = True\n",
    "                        if rd.random() < p['tx_alo'][sector][0]:\n",
    "                            nxt = 'TxPub'\n",
    "                        else:\n",
    "                            nxt = 'TxPri'\n",
    "                    else:\n",
    "                        nxt = 'ExCS'\n",
    "                else:\n",
    "                    nxt = 'ExCS'\n",
    "            state = nxt\n",
    "            ti += tte\n",
    "            ag.append(state, ti)\n",
    "        return ag\n",
    "        \n",
    "    def simulate(self, n = 100):\n",
    "        return [self._sim_an_agent() for _ in range(n)]\n",
    "        \n",
    "        "
   ]
  },
  {
   "cell_type": "code",
   "execution_count": 8,
   "id": "3739e2aa-bb5d-4c06-8d72-05e98eb0de5d",
   "metadata": {
    "tags": []
   },
   "outputs": [],
   "source": [
    "p = pars['pars'][4]\n",
    "simulator = Simulator(p)"
   ]
  },
  {
   "cell_type": "code",
   "execution_count": 9,
   "id": "1ecaf7cb-c53b-4aa8-bea3-07f24cf1e056",
   "metadata": {
    "tags": []
   },
   "outputs": [],
   "source": [
    "ags = simulator.simulate(n = 30)"
   ]
  },
  {
   "cell_type": "code",
   "execution_count": 11,
   "id": "3cde713f-b327-4653-a5af-f0d446a30e2b",
   "metadata": {
    "tags": []
   },
   "outputs": [
    {
     "data": {
      "text/plain": [
       "array([0.  , 0.05, 0.1 , 0.15, 0.2 , 0.25, 0.3 , 0.35, 0.4 , 0.45, 0.5 ,\n",
       "       0.55, 0.6 , 0.65, 0.7 , 0.75, 0.8 , 0.85, 0.9 , 0.95, 1.  , 1.05,\n",
       "       1.1 , 1.15, 1.2 , 1.25, 1.3 , 1.35, 1.4 , 1.45, 1.5 , 1.55, 1.6 ,\n",
       "       1.65, 1.7 , 1.75, 1.8 , 1.85, 1.9 , 1.95, 2.  ])"
      ]
     },
     "execution_count": 11,
     "metadata": {},
     "output_type": "execute_result"
    }
   ],
   "source": [
    "ts = np.linspace(0, 2, 41)\n",
    "ts"
   ]
  },
  {
   "cell_type": "code",
   "execution_count": 13,
   "id": "b82f85dd-e941-4882-8981-1e66a422c9c6",
   "metadata": {
    "tags": []
   },
   "outputs": [],
   "source": [
    "def count_history(ags, ts):\n",
    "    ds = []\n",
    "\n",
    "    for t0 in ts:\n",
    "        cnt = Counter()\n",
    "        for ag in ags:\n",
    "            history = ag.History\n",
    "            evt, _ = [h for h in history if h[1] <= t0][-1]\n",
    "            cnt[evt] += 1\n",
    "\n",
    "        d = {'Time': t0}\n",
    "        d.update(cnt)\n",
    "        ds.append(d)\n",
    "\n",
    "    ds = pd.DataFrame(ds).fillna(0)\n",
    "    return ds\n",
    "\n",
    "def "
   ]
  },
  {
   "cell_type": "code",
   "execution_count": 91,
   "id": "aad244c3-5243-4dab-a0b5-72200473ed2f",
   "metadata": {
    "tags": []
   },
   "outputs": [
    {
     "data": {
      "text/plain": [
       "432883.5670080002"
      ]
     },
     "execution_count": 91,
     "metadata": {},
     "output_type": "execute_result"
    }
   ],
   "source": [
    "test_ssm = 11178433\n",
    "test_naat = 2179976\n",
    "\n",
    "det_bac = 1173775\n",
    "det_cdx = 1231040\n",
    "det_all = det_bac + det_cdx\n",
    "\n",
    "ppv = 0.50\n",
    "\n",
    "tp_all = det_all * ppv\n",
    "\n",
    "sens_ssm, spec_ssm = 0.64, 0.98\n",
    "sens_naat, spec_naat = 0.8, 0.98\n",
    "cs = 0.0192\n",
    "x = cs\n",
    "test_ssm * (x * sens_ssm + (1 - x) * (1 - spec_ssm)) + test_naat * (x * sens_naat + (1 - x) * (1 - spec_naat))"
   ]
  },
  {
   "cell_type": "code",
   "execution_count": 92,
   "id": "dd801728-4067-42c5-ab36-ef14162a8fed",
   "metadata": {
    "tags": []
   },
   "outputs": [
    {
     "data": {
      "text/plain": [
       "432883.5670080002"
      ]
     },
     "execution_count": 92,
     "metadata": {},
     "output_type": "execute_result"
    }
   ],
   "source": [
    "test_ssm * (1 - spec_ssm) + test_naat * (1 - spec_naat) + x * (test_ssm * (sens_ssm - 1 + spec_ssm) + test_naat * (sens_naat - 1 + spec_naat))"
   ]
  },
  {
   "cell_type": "code",
   "execution_count": 93,
   "id": "3bdd4813-173d-4092-8ca5-dbf362fc8cf8",
   "metadata": {
    "tags": []
   },
   "outputs": [
    {
     "data": {
      "text/plain": [
       "0.10504064383085725"
      ]
     },
     "execution_count": 93,
     "metadata": {},
     "output_type": "execute_result"
    }
   ],
   "source": [
    "x = (det_bac - test_ssm * (1 - spec_ssm) - test_naat * (1 - spec_naat)) / (test_ssm * (sens_ssm - 1 + spec_ssm) + test_naat * (sens_naat - 1 + spec_naat))\n",
    "x"
   ]
  },
  {
   "cell_type": "code",
   "execution_count": 94,
   "id": "71656278-34ed-44d5-9542-d528a7773fd9",
   "metadata": {
    "tags": []
   },
   "outputs": [
    {
     "data": {
      "text/plain": [
       "1173775.0"
      ]
     },
     "execution_count": 94,
     "metadata": {},
     "output_type": "execute_result"
    }
   ],
   "source": [
    "tp = test_ssm * (x * sens_ssm) + test_naat * (x * sens_naat)\n",
    "fp = test_ssm * (1 - x) * (1 - spec_ssm) + test_naat * (1 - x) * (1 - spec_naat)\n",
    "\n",
    "tp + fp"
   ]
  },
  {
   "cell_type": "code",
   "execution_count": 95,
   "id": "da1cb011-758e-4205-8f2a-a876fb91d41f",
   "metadata": {
    "tags": []
   },
   "outputs": [
    {
     "data": {
      "text/plain": [
       "(468505.5442775997, 11716128.455722399)"
      ]
     },
     "execution_count": 95,
     "metadata": {},
     "output_type": "execute_result"
    }
   ],
   "source": [
    "fn = test_ssm * (x * (1 - sens_ssm)) + test_naat * (x * (1 - sens_naat))\n",
    "tn = test_ssm * ((1 - x) * spec_ssm) + test_naat * ((1 - x) * spec_naat)\n",
    "fn, tn"
   ]
  },
  {
   "cell_type": "code",
   "execution_count": 96,
   "id": "c237d45c-62a9-4612-b046-5065e7d8bae3",
   "metadata": {
    "tags": []
   },
   "outputs": [
    {
     "data": {
      "text/plain": [
       "(0.5714706381426339, 0.9177797647679579)"
      ]
     },
     "execution_count": 96,
     "metadata": {},
     "output_type": "execute_result"
    }
   ],
   "source": [
    "sens_cdx = (tp_all - tp) / fn\n",
    "fp_all = det_all - tp_all\n",
    "spec_cdx = 1 - (fp_all - fp) / tn\n",
    "sens_cdx, spec_cdx"
   ]
  },
  {
   "cell_type": "code",
   "execution_count": 97,
   "id": "94c9c196-2384-4953-bcb9-0ae76bef43e6",
   "metadata": {
    "tags": []
   },
   "outputs": [],
   "source": [
    "tp1 = test_ssm * (sens_ssm + (1 - sens_ssm) * sens_cdx) + test_naat * (sens_naat + (1 - sens_naat) * sens_cdx)\n",
    "sens_all = tp1 / (test_ssm + test_naat)"
   ]
  },
  {
   "cell_type": "code",
   "execution_count": 98,
   "id": "62e33c3a-6e5b-4ac0-93a5-47026f85e4a5",
   "metadata": {
    "tags": []
   },
   "outputs": [],
   "source": [
    "fp1 = test_ssm * ((1 - spec_ssm) + spec_ssm * (1 - spec_cdx)) + test_naat * ((1 - spec_naat) + spec_naat * (1 - spec_cdx))\n",
    "spec_all = 1 - fp1 / (test_ssm + test_naat)"
   ]
  },
  {
   "cell_type": "code",
   "execution_count": 99,
   "id": "56608499-66a9-4325-91b8-73809cbb8378",
   "metadata": {
    "tags": []
   },
   "outputs": [
    {
     "data": {
      "text/plain": [
       "(0.8569185912447516, 0.8994241694725987)"
      ]
     },
     "execution_count": 99,
     "metadata": {},
     "output_type": "execute_result"
    }
   ],
   "source": [
    "sens_all, spec_all"
   ]
  },
  {
   "cell_type": "code",
   "execution_count": 76,
   "id": "b24c3224-f6e8-4657-abba-427b4a7431b9",
   "metadata": {
    "tags": []
   },
   "outputs": [
    {
     "data": {
      "text/plain": [
       "0.5000000000000001"
      ]
     },
     "execution_count": 76,
     "metadata": {},
     "output_type": "execute_result"
    }
   ],
   "source": [
    "x * sens_all / (x * sens_all + (1 - x) * (1 - spec_all))"
   ]
  },
  {
   "cell_type": "code",
   "execution_count": null,
   "id": "1954092c-a85f-4a2c-bb7d-fa8b699e2b8f",
   "metadata": {},
   "outputs": [],
   "source": []
  }
 ],
 "metadata": {
  "kernelspec": {
   "display_name": "Python 3 (ipykernel)",
   "language": "python",
   "name": "python3"
  },
  "language_info": {
   "codemirror_mode": {
    "name": "ipython",
    "version": 3
   },
   "file_extension": ".py",
   "mimetype": "text/x-python",
   "name": "python",
   "nbconvert_exporter": "python",
   "pygments_lexer": "ipython3",
   "version": "3.10.9"
  }
 },
 "nbformat": 4,
 "nbformat_minor": 5
}

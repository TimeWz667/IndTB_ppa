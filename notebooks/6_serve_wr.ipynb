{
 "cells": [
  {
   "cell_type": "code",
   "execution_count": 1,
   "id": "45da5a3a-ad65-402b-8ec3-951c0ba9077d",
   "metadata": {
    "tags": []
   },
   "outputs": [],
   "source": [
    "import json\n",
    "import numpy as np\n",
    "import pandas as pd\n",
    "from ppa.pars_cas import calc_stats, restructure_pars_cas\n",
    "import os"
   ]
  },
  {
   "cell_type": "code",
   "execution_count": 2,
   "id": "18aa6706-33ae-4b15-8c8f-e6e368bee0f0",
   "metadata": {
    "tags": []
   },
   "outputs": [],
   "source": [
    "locations = list(pd.read_csv('data/locations.csv').Location)"
   ]
  },
  {
   "cell_type": "code",
   "execution_count": 3,
   "id": "48bc8cf0-5232-4e0b-b6a4-2146a4d12417",
   "metadata": {},
   "outputs": [],
   "source": [
    "os.makedirs('docs/pars_wr', exist_ok=True)"
   ]
  },
  {
   "cell_type": "code",
   "execution_count": 11,
   "id": "640fba94-dec7-49cd-8fe5-28528d8f0998",
   "metadata": {
    "tags": []
   },
   "outputs": [],
   "source": [
    "def ext_targets(targets):\n",
    "    pop = dict(targets[targets.Index == 'DrugTime'].set_index('Year').N)\n",
    "    \n",
    "    flatten_targets = dict()\n",
    "\n",
    "    det = targets[targets.Index == \"TxI\"]\n",
    "    det = {\n",
    "        'Pub': dict(det[det.Tag == \"Pub\"].set_index('Year').N),\n",
    "        'Eng': dict(det[det.Tag == \"Pri\"].set_index('Year').N),\n",
    "    }\n",
    "\n",
    "    for k, v in det['Pub'].items():\n",
    "        flatten_targets[f'Det_Pub_{k}'] = {'m': v / pop[k], 'n': pop[k]}\n",
    "\n",
    "    for k, v in det['Eng'].items():\n",
    "        flatten_targets[f'Det_Eng_{k}'] = {'m': v / pop[k], 'n': pop[k]}\n",
    "\n",
    "    prev = dict()\n",
    "\n",
    "    for state in ['Asym', 'Sym', 'ExCS', 'Ut']:\n",
    "        sel = targets[targets.Index == f\"Prev{state}\"]\n",
    "        flatten_targets[f'Prev_{state}_2020'] = {'m': list(sel.M)[0], 'n': list(sel.N)[0]}\n",
    "\n",
    "    return flatten_targets"
   ]
  },
  {
   "cell_type": "code",
   "execution_count": 19,
   "id": "039b012c-7f11-4fb9-bf46-2b6ccc75cf0e",
   "metadata": {
    "tags": []
   },
   "outputs": [
    {
     "name": "stdout",
     "output_type": "stream",
     "text": [
      "India\n",
      "Andhra_Pradesh\n",
      "Arunachal_Pradesh\n",
      "Assam\n",
      "Bihar\n",
      "Chandigarh\n",
      "Chhattisgarh\n",
      "Delhi\n",
      "Gujarat\n",
      "Haryana\n",
      "Himachal_Pradesh\n",
      "Jammu_and_Kashmir\n",
      "Jharkhand\n",
      "Karnataka\n",
      "Kerala\n",
      "Madhya_Pradesh\n",
      "Maharashtra\n",
      "Manipur\n",
      "Meghalaya\n",
      "Nagaland\n",
      "Odisha\n",
      "Punjab\n",
      "Rajasthan\n",
      "Tamil_Nadu\n",
      "Telangana\n",
      "Uttar_Pradesh\n",
      "Uttarakhand\n",
      "West_Bengal\n"
     ]
    }
   ],
   "source": [
    "for loc in locations:\n",
    "    print(loc)\n",
    "    os.makedirs(f'docs/pars_wr/{loc}', exist_ok=True)\n",
    "    \n",
    "    pars = json.load(open(f'data/{loc}/pars_cas.json', 'r'))\n",
    "    inp = dict()\n",
    "    inp['pars'] = ps = list()\n",
    "    stats = list()\n",
    "    \n",
    "    for p in pars['pars']:\n",
    "        stats.append(calc_stats(p))\n",
    "        p = restructure_pars_cas(p)\n",
    "        p = {k: v.tolist() if isinstance(v, np.ndarray) else v for k, v in p.items()}\n",
    "        ps.append(p)\n",
    "\n",
    "    stats = pd.DataFrame(stats)\n",
    "    stats = stats.describe().T\n",
    "    stats.to_csv(f'docs/pars_wr/{loc}/stats.csv')\n",
    "    \n",
    "    targets = pd.read_csv(f'data/{loc}/targets.csv')\n",
    "    inp['targets'] = ext_targets(targets)\n",
    "    \n",
    "    with open(f'docs/pars_wr/{loc}/inputs.json', 'w') as f:\n",
    "        json.dump(inp, f)\n",
    "        \n",
    "    "
   ]
  }
 ],
 "metadata": {
  "kernelspec": {
   "display_name": "Python 3 (ipykernel)",
   "language": "python",
   "name": "python3"
  },
  "language_info": {
   "codemirror_mode": {
    "name": "ipython",
    "version": 3
   },
   "file_extension": ".py",
   "mimetype": "text/x-python",
   "name": "python",
   "nbconvert_exporter": "python",
   "pygments_lexer": "ipython3",
   "version": "3.10.9"
  }
 },
 "nbformat": 4,
 "nbformat_minor": 5
}

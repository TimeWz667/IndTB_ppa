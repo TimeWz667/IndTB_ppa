{
 "cells": [
  {
   "cell_type": "code",
   "execution_count": 2,
   "id": "2da4aa1c-889d-4f4c-b9a4-5eaf7c624f1b",
   "metadata": {
    "tags": []
   },
   "outputs": [],
   "source": [
    "import numpy.random as rd\n",
    "from collections import namedtuple"
   ]
  },
  {
   "cell_type": "code",
   "execution_count": 3,
   "id": "b4bafd21-9386-4407-bb8a-86a09c191c30",
   "metadata": {
    "tags": []
   },
   "outputs": [],
   "source": [
    "Result = namedtuple('Result', ('TP', 'FN', 'FP', 'TN'))"
   ]
  },
  {
   "cell_type": "code",
   "execution_count": null,
   "id": "b0fb4ce1-3a03-4010-a451-4d267429f654",
   "metadata": {},
   "outputs": [],
   "source": [
    "\n",
    "\n",
    "class Test:\n",
    "    def __init__(self, name, sens, spec):\n",
    "        self.Sensitivity = sens\n",
    "        self.Specificity = spec\n",
    "        \n",
    "    def __call__(self, gp):\n",
    "        if gp.Active:\n",
    "            return \n",
    "        \n",
    "    def test(self, gp):\n",
    "        "
   ]
  },
  {
   "cell_type": "code",
   "execution_count": 4,
   "id": "9f80e3ce-958d-4453-a89c-738921cfb4eb",
   "metadata": {
    "tags": []
   },
   "outputs": [
    {
     "ename": "TypeError",
     "evalue": "Result.__new__() missing 3 required positional arguments: 'FN', 'FP', and 'TN'",
     "output_type": "error",
     "traceback": [
      "\u001b[0;31m---------------------------------------------------------------------------\u001b[0m",
      "\u001b[0;31mTypeError\u001b[0m                                 Traceback (most recent call last)",
      "Cell \u001b[0;32mIn[4], line 1\u001b[0m\n\u001b[0;32m----> 1\u001b[0m \u001b[43mResult\u001b[49m\u001b[43m(\u001b[49m\u001b[43mTP\u001b[49m\u001b[43m \u001b[49m\u001b[38;5;241;43m=\u001b[39;49m\u001b[43m \u001b[49m\u001b[38;5;241;43m3\u001b[39;49m\u001b[43m)\u001b[49m\n",
      "\u001b[0;31mTypeError\u001b[0m: Result.__new__() missing 3 required positional arguments: 'FN', 'FP', and 'TN'"
     ]
    }
   ],
   "source": [
    "Result(TP = 3)"
   ]
  },
  {
   "cell_type": "code",
   "execution_count": null,
   "id": "69a454f9-cb1f-46a9-8992-356279001ecc",
   "metadata": {},
   "outputs": [],
   "source": [
    "class Hospital:\n",
    "    def __init__(self.)"
   ]
  }
 ],
 "metadata": {
  "kernelspec": {
   "display_name": "Python 3 (ipykernel)",
   "language": "python",
   "name": "python3"
  },
  "language_info": {
   "codemirror_mode": {
    "name": "ipython",
    "version": 3
   },
   "file_extension": ".py",
   "mimetype": "text/x-python",
   "name": "python",
   "nbconvert_exporter": "python",
   "pygments_lexer": "ipython3",
   "version": "3.10.9"
  }
 },
 "nbformat": 4,
 "nbformat_minor": 5
}

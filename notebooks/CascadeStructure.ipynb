{
 "cells": [
  {
   "cell_type": "code",
   "execution_count": 2,
   "id": "2208b16a-e942-4913-9eac-f589b2d4770a",
   "metadata": {},
   "outputs": [],
   "source": [
    "import pandas as pd\n",
    "import numpy as np\n",
    "from scipy.integrate import solve_ivp\n",
    "import json"
   ]
  },
  {
   "cell_type": "code",
   "execution_count": 8,
   "id": "72c7036c-f46c-46dc-b307-073055764e8a",
   "metadata": {},
   "outputs": [
    {
     "data": {
      "text/plain": [
       "{'CNR_Pub': 0.0009442954851492196,\n",
       " 'CNR_Eng': 0.0003558499973305967,\n",
       " 'CNR_Acf': 3.876047740795008e-05,\n",
       " 'PrevA': 0.0017859457437135,\n",
       " 'PrevS': 0.0005733233270125289,\n",
       " 'PrevC': 0.0004736356870724853,\n",
       " 'PrevTxPri': 0.0005805519075276559,\n",
       " 'OnPriDrugM': 0.000363,\n",
       " 'OnPriDrugL': 0.000336,\n",
       " 'OnPriDrugU': 0.000414}"
      ]
     },
     "execution_count": 8,
     "metadata": {},
     "output_type": "execute_result"
    }
   ],
   "source": [
    "dat = pd.read_csv('data/targets.csv')\n",
    "dat = dat[dat.State == 'India']\n",
    "dat = dat[dat.Year == 2020]\n",
    "\n",
    "dat = dict(zip(dat.Index, dat.Observed))\n",
    "dat"
   ]
  },
  {
   "cell_type": "code",
   "execution_count": 38,
   "id": "c7f55820-c2c8-4bc5-8e42-1263ecbb4ef6",
   "metadata": {},
   "outputs": [],
   "source": [
    "def find_pars_serial(dat, exo):\n",
    "    adr = exo['adr']\n",
    "    dur_tx_pri, dur_tx_pub = exo['dur_tx_pri'], exo['dur_tx_pub']\n",
    "    pr_di_on_txp = exo['pr_di_on_txp']\n",
    "    ppv_p, ppv_e, ppv_i, ppv_acf = exo['ppv_p'], exo['ppv_e'], exo['ppv_i'], exo['ppv_acf']\n",
    "\n",
    "    r_sc, r_die = exo['r_sc'], exo['r_die']\n",
    "    \n",
    "    cnr_p, cnr_e, cnr_a = dat['CNR_Pub'], dat['CNR_Eng'], dat['CNR_Acf']\n",
    "    prev_a, prev_s, prev_c = dat['PrevA'], dat['PrevS'], dat['PrevC']\n",
    "    prev = prev_a + prev_s + prev_c\n",
    "    pri_drug = dat['OnPriDrugM']\n",
    "\n",
    "    dur_tx = pri_drug / (cnr_e * pr_di_on_txp)\n",
    "\n",
    "    # Start calculation\n",
    "    mu_a, mu_s = r_sc, r_sc + r_die\n",
    "\n",
    "    r_acf = (cnr_a * ppv_acf) / prev\n",
    "\n",
    "    det_p = cnr_p * ppv_p\n",
    "    det_e = cnr_e * ppv_e\n",
    "    tx_ei = cnr_e * (1 - pr_di_on_txp) / (1 / dur_tx_pri - adr)\n",
    "    tx_ii = pri_drug - tx_ei\n",
    "    cnr_i = tx_ii * (1 / dur_tx_pri - adr)\n",
    "    det_i = (pri_drug - tx_ei) * ppv_i\n",
    "    det_i = max(det_i, 0)\n",
    "\n",
    "    det = det_p + det_e + det_i\n",
    "\n",
    "    p_pub = det_p / det\n",
    "    p_eng = det_e / (det_e + det_i) \n",
    "\n",
    "    r_det = det / prev_c\n",
    "    r_aware = (r_det + mu_s + r_acf - adr)* prev_c / prev_s\n",
    "    r_onset = (r_aware + mu_s + r_acf - adr) * prev_s / prev_a\n",
    "    inc = (r_onset + mu_a + r_acf - adr) * prev_a\n",
    "\n",
    "    return {\n",
    "        'inc': inc, 'r_onset': r_onset, 'r_aware': r_aware, 'r_det': r_det,\n",
    "        'r_die': r_die, 'r_sc': r_sc,\n",
    "        'p_pub': p_pub, 'p_eng': p_eng,\n",
    "        'ppv_p': ppv_p, 'ppv_e': ppv_e, 'ppv_i': ppv_i, 'ppv_a': ppv_acf,\n",
    "        'pr_di_on_txp': pr_di_on_txp,\n",
    "        'dur_tx_pub': dur_tx_pub, 'dur_tx_pri': dur_tx_pri,\n",
    "        'adr': adr\n",
    "    }\n"
   ]
  },
  {
   "cell_type": "code",
   "execution_count": 66,
   "id": "0668141a-47d6-413e-b74a-80c6beea9a9c",
   "metadata": {},
   "outputs": [
    {
     "data": {
      "text/plain": [
       "{'inc': 0.002179434132072903,\n",
       " 'r_onset': 1.0334838206887247,\n",
       " 'r_aware': 2.83253954067981,\n",
       " 'r_det': 3.041872209953855,\n",
       " 'r_die': 0.2,\n",
       " 'r_sc': 0.2,\n",
       " 'p_pub': 0.6554242868991587,\n",
       " 'p_eng': 0.7167982234606248,\n",
       " 'ppv_p': 1,\n",
       " 'ppv_e': 1,\n",
       " 'ppv_i': 1,\n",
       " 'ppv_a': 0.5,\n",
       " 'pr_di_on_txp': 0.7,\n",
       " 'dur_tx_pub': 0.5,\n",
       " 'dur_tx_pri': 2,\n",
       " 'adr': 0.02}"
      ]
     },
     "execution_count": 66,
     "metadata": {},
     "output_type": "execute_result"
    }
   ],
   "source": [
    "exo = {\n",
    "    'adr': 0.02,\n",
    "    'dur_tx_pri': 2,\n",
    "    'dur_tx_pub': 0.5,\n",
    "    'pr_di_on_txp': 0.7,\n",
    "    'ppv_p': 1,\n",
    "    'ppv_e': 1,\n",
    "    'ppv_i': 1,\n",
    "    'ppv_acf': 0.5,\n",
    "    'r_sc': 0.2,\n",
    "    'r_die': 0.2\n",
    "}\n",
    "\n",
    "find_pars_serial(dat, exo)"
   ]
  }
 ],
 "metadata": {
  "kernelspec": {
   "display_name": "Python 3 (ipykernel)",
   "language": "python",
   "name": "python3"
  },
  "language_info": {
   "codemirror_mode": {
    "name": "ipython",
    "version": 3
   },
   "file_extension": ".py",
   "mimetype": "text/x-python",
   "name": "python",
   "nbconvert_exporter": "python",
   "pygments_lexer": "ipython3",
   "version": "3.10.6"
  }
 },
 "nbformat": 4,
 "nbformat_minor": 5
}

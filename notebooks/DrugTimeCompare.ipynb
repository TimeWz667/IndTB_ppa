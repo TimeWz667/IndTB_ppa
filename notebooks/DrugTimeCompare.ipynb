{
 "cells": [
  {
   "cell_type": "code",
   "execution_count": 1,
   "id": "50a4addf",
   "metadata": {},
   "outputs": [
    {
     "name": "stdout",
     "output_type": "stream",
     "text": [
      "D:\\Projects\\IndiaTB\\IndTB_ppa\n"
     ]
    },
    {
     "data": {
      "text/plain": [
       "'D:\\\\Projects\\\\IndiaTB\\\\IndTB_ppa'"
      ]
     },
     "execution_count": 1,
     "metadata": {},
     "output_type": "execute_result"
    }
   ],
   "source": [
    "%cd ../\n",
    "%pwd"
   ]
  },
  {
   "cell_type": "code",
   "execution_count": 2,
   "id": "b3f1cbce",
   "metadata": {},
   "outputs": [],
   "source": [
    "import numpy as np\n",
    "import numpy.random as rd\n",
    "import pandas as pd\n",
    "import sims_pars as spr\n",
    "from sims_pars.fitting import AbsObjectiveSimBased, ApproxBayesComSMC\n",
    "from ppa import Shifting\n",
    "from scipy.optimize import minimize_scalar\n",
    "from scipy import linalg\n",
    "from scipy.integrate import solve_ivp\n",
    "import matplotlib.pyplot as plt"
   ]
  },
  {
   "cell_type": "code",
   "execution_count": 3,
   "id": "950ca8d7",
   "metadata": {},
   "outputs": [],
   "source": [
    "dat = pd.read_csv('data/cascade/d_cascade_2019.csv')\n",
    "dat = {row['State']: row for _, row in dat.iterrows()}\n",
    "d = dat['India']\n",
    "\n",
    "src_shf = pd.read_csv('data/shifting/shifting.csv')\n",
    "shf = Shifting(src_shf, d.Pr_Pub_CSI)"
   ]
  },
  {
   "cell_type": "code",
   "execution_count": 4,
   "id": "e66023c7",
   "metadata": {},
   "outputs": [],
   "source": [
    "Asym = 0\n",
    "NotAware = 1\n",
    "NotCS = 2\n",
    "ExCS_pub = 3\n",
    "ExCS_eng = 4\n",
    "ExCS_pri = 5\n",
    "ExCS = [ExCS_pub, ExCS_eng, ExCS_pri]\n",
    "N_States = 6"
   ]
  },
  {
   "cell_type": "code",
   "execution_count": 5,
   "id": "6651eb67",
   "metadata": {},
   "outputs": [],
   "source": [
    "class CascadeForward:\n",
    "    def __init__(self, d, shf, pars):\n",
    "        shf.update(pars)\n",
    "        prev = d.PrevUt * 1e-5\n",
    "\n",
    "        self.PrevA = prev * d['Pr_Asym']\n",
    "        self.PrevS = prev * d['Pr_NotAware']\n",
    "        self.PrevC = prev * d['Pr_NotCS']\n",
    "        self.PrevE = prev * d['Pr_NotDet']\n",
    "\n",
    "        self.R_Die_Asym = pars['r_die_asym']\n",
    "        self.R_Die_Sym = pars['r_die_sym']\n",
    "        self.R_SelfCure = pars['r_sc']\n",
    "        \n",
    "        self.IncR = inc = pars['inc']\n",
    "\n",
    "        self.R_Onset = r_onset = inc / self.PrevA - (pars['r_die_asym'] + pars['r_sc'])\n",
    "        mu = pars['r_die_sym'] + pars['r_sc']\n",
    "        self.R_Aware = r_aware = r_onset * self.PrevA / self.PrevS - mu\n",
    "        self.R_CSI = r_csi = r_aware * self.PrevS / self.PrevC - mu\n",
    "        self.R_Det = r_det = r_csi * self.PrevC / self.PrevE - mu\n",
    "\n",
    "        cs0 = r_csi * self.PrevC * shf.P_Entry\n",
    "        fn0 = cs0 * (1 - shf.P_Dx0)\n",
    "        det0 = cs0 * shf.P_Dx0\n",
    "\n",
    "        self.P_Entry, self.P_Dx0 = shf.P_Entry, shf.P_Dx0\n",
    "        self.P_Tr, self.P_Dx1 = trm, pdx1 = shf.P_Tr, shf.P_Dx1\n",
    "\n",
    "        def fn(x, trm, pdx1, mu, fn0, exp_pe):\n",
    "            pe = linalg.solve(x * (trm * (1 - pdx1)).T - np.eye(3) * (x + mu), -fn0)\n",
    "            return (exp_pe - pe.sum()) ** 2\n",
    "\n",
    "        opt = minimize_scalar(fn, args=(trm, pdx1, mu, fn0, self.PrevE, ), method = 'bounded', bounds=(0, 50))\n",
    "        self.R_ReCSI = r_recsi = opt.x\n",
    "\n",
    "        pe = linalg.solve(r_recsi * (trm * (1 - pdx1)).T - np.eye(3) * (r_recsi + mu), -fn0)\n",
    "\n",
    "        self.PrevE_hs = pe\n",
    "        self.DetR = det0 + (r_recsi * trm * pdx1 * pe).sum(0)\n",
    "        \n",
    "        self.P_TxI = np.array([d['TxI_pub'], d['TxI_eng'], pars['TxI_pri']])\n",
    "        self.PPV = np.array([pars['ppv_pub'], pars['ppv_eng'], pars['ppv_pri']])\n",
    "        \n",
    "        self.DetR0 = self.DetR / self.PPV \n",
    "        self.TxR = self.DetR0 * self.P_TxI\n",
    "\n",
    "        LTFU = np.array([d.TxLTFU_pub, d.TxLTFU_eng, d.TxLTFU_eng * pars['rr_ltfu_pri']])\n",
    "        Succ = np.array([d.TxSucc_pub, d.TxSucc_eng, d.TxSucc_eng])\n",
    "        Die = np.array([d.TxDead_pub, d.TxDead_eng, d.TxDead_eng])\n",
    "        \n",
    "        self.R_Succ_Tx = np.array([pars['r_succ_pub'], pars['r_succ_eng'], pars['r_succ_pri']])\n",
    "        self.R_LTFU_Tx = self.R_Succ_Tx * LTFU / Succ\n",
    "        self.R_Die_Tx = self.R_Succ_Tx * Die / Succ\n",
    "        self.DurTx = 1 / (self.R_LTFU_Tx + self.R_Die_Tx + self.R_Succ_Tx)\n",
    "\n",
    "        self.PrevTx = self.DetR * self.P_TxI * self.DurTx\n",
    "        \n",
    "        self.DrugTime = self.TxR * self.DurTx\n",
    "        \n",
    "        self.DataCNR = np.array([d.CNR_pub, d.CNR_eng, 0])\n",
    "        \n",
    "    def __call__(self, t, y):\n",
    "        dy = np.zeros_like(y)\n",
    "    \n",
    "        onset = self.R_Onset * y[Asym] \n",
    "        aware = self.R_Aware * y[NotAware]\n",
    "        csi = self.P_Entry * self.R_CSI * y[NotCS]\n",
    "        det0 = self.P_Dx0 * csi\n",
    "        fn0 = (1 - self.P_Dx0) * csi\n",
    "\n",
    "        recsi = self.R_ReCSI * y[ExCS].reshape((-1, 1)) * self.P_Tr\n",
    "        det1 = self.P_Dx1 * recsi\n",
    "        fn1 = (1 - self.P_Dx1) * recsi\n",
    "\n",
    "        det = det0 + det1.sum(0)\n",
    "\n",
    "        dy[Asym] = det.sum() - onset\n",
    "        dy[NotAware] = onset - aware\n",
    "        dy[NotCS] = aware - csi.sum()\n",
    "        dy[ExCS] = fn0 - recsi.sum(1) + fn1.sum(0)\n",
    "\n",
    "\n",
    "        mu = np.zeros(N_States)\n",
    "        mu[Asym] = self.R_Die_Asym + self.R_SelfCure\n",
    "        mu[NotAware] = self.R_Die_Sym + self.R_SelfCure\n",
    "        mu[NotCS] = self.R_Die_Sym + self.R_SelfCure\n",
    "        mu[ExCS] = self.R_Die_Sym + self.R_SelfCure\n",
    "        mu *= y\n",
    "\n",
    "        dy -= mu\n",
    "        dy[Asym] += mu.sum()\n",
    "\n",
    "        return dy\n",
    " \n",
    "    def get_y0(self):\n",
    "        return np.concatenate([np.array([self.PrevA, self.PrevS, self.PrevC]), self.PrevE_hs])"
   ]
  },
  {
   "cell_type": "code",
   "execution_count": 6,
   "id": "90f7bef6",
   "metadata": {},
   "outputs": [],
   "source": [
    "prior = '''\n",
    "PCore cascade {\n",
    "    r_succ_pub = 2\n",
    "    r_succ_eng = 2\n",
    "    rr_ltfu_pri = 1.5\n",
    "    ppv_pub = 0.85\n",
    "    ppv_eng = 0.85\n",
    "    ppv_pri ~ unif(0.1, ppv_eng)\n",
    "\n",
    "    r_die_ut ~ unif(0.14, 0.18)\n",
    "    r_sc ~ unif(0.1, 0.3)\n",
    "    rr_die_asym ~ unif(0, 1)\n",
    "    \n",
    "    r_die_sym = r_die_ut\n",
    "    r_die_asym = r_die_ut * rr_die_asym\n",
    "    TxI_pri ~ unif(0.5, 1)\n",
    "\n",
    "    dur_succ_pri ~ unif(2 / 12, 12 / 12)\n",
    "    r_succ_pri = 1 / dur_succ_pri\n",
    "    \n",
    "    ppm ~ unif(0, 1)\n",
    "    odds_pri ~ unif(0.5, 5)\n",
    "    tr_pub_pub ~ unif(0, 1)\n",
    "    tr_pri_pub ~ unif(0, 1)\n",
    "\n",
    "    inc = 0.00193\n",
    "}\n",
    "'''\n",
    "# ~ unif(0.00132, 0.00266)\n",
    "\n",
    "class ObjRates(AbsObjectiveSimBased):\n",
    "    def __init__(self, d, shf):\n",
    "        AbsObjectiveSimBased.__init__(self, prior)\n",
    "        self.Data = d\n",
    "        self.Shifting = shf\n",
    "\n",
    "    def simulate(self, pars):\n",
    "        return CascadeForward(self.Data, self.Shifting, pars)\n",
    "\n",
    "    def link_likelihood(self, sim):\n",
    "        return - np.power(sim.DetR0[:2] / sim.DataCNR[:2] - 1, 2).sum()"
   ]
  },
  {
   "cell_type": "code",
   "execution_count": 7,
   "id": "5e513c31",
   "metadata": {},
   "outputs": [],
   "source": [
    "obj = ObjRates(d, shf)"
   ]
  },
  {
   "cell_type": "code",
   "execution_count": 8,
   "id": "3978e73f",
   "metadata": {},
   "outputs": [
    {
     "data": {
      "text/plain": [
       "1.0906777264068004"
      ]
     },
     "execution_count": 8,
     "metadata": {},
     "output_type": "execute_result"
    }
   ],
   "source": [
    "p0 = obj.sample_prior()\n",
    "\n",
    "sim = obj.simulate(p0)\n",
    "\n",
    "sim\n",
    "np.power(sim.DetR[:2] / sim.DataCNR[:2] - 1, 2).sum()"
   ]
  },
  {
   "cell_type": "code",
   "execution_count": 9,
   "id": "8c274776",
   "metadata": {},
   "outputs": [],
   "source": [
    "alg = ApproxBayesComSMC(max_round=50, n_collect=300, n_core=4, verbose=2)"
   ]
  },
  {
   "cell_type": "code",
   "execution_count": 11,
   "id": "36a399f4",
   "metadata": {},
   "outputs": [
    {
     "name": "stderr",
     "output_type": "stream",
     "text": [
      "06-06-2022 20:21:16 INFO: Initialising\n",
      "[Parallel(n_jobs=4)]: Using backend LokyBackend with 4 concurrent workers.\n",
      "[Parallel(n_jobs=4)]: Done  38 tasks      | elapsed:    1.6s\n",
      "[Parallel(n_jobs=4)]: Done 300 out of 300 | elapsed:    2.7s finished\n",
      "06-06-2022 20:21:21 INFO: Step to 1\n",
      "06-06-2022 20:21:21 INFO: Round 0, ESS 300.00\n",
      "[Parallel(n_jobs=4)]: Using backend LokyBackend with 4 concurrent workers.\n",
      "[Parallel(n_jobs=4)]: Done  58 tasks      | elapsed:    2.4s\n",
      "[Parallel(n_jobs=4)]: Done 293 out of 300 | elapsed:   12.2s remaining:    0.2s\n",
      "[Parallel(n_jobs=4)]: Done 300 out of 300 | elapsed:   12.5s finished\n",
      "06-06-2022 20:21:35 INFO: Step to 2\n",
      "06-06-2022 20:21:35 INFO: Round 1, ESS 270, Epsilon 1.3188, Acceptance 94.0%\n",
      "[Parallel(n_jobs=4)]: Using backend LokyBackend with 4 concurrent workers.\n",
      "[Parallel(n_jobs=4)]: Done  92 tasks      | elapsed:    2.0s\n",
      "[Parallel(n_jobs=4)]: Done 300 out of 300 | elapsed:    6.7s finished\n",
      "06-06-2022 20:21:44 INFO: Step to 3\n",
      "06-06-2022 20:21:44 INFO: Round 2, ESS 244, Epsilon 1.0894, Acceptance 87.0%\n",
      "[Parallel(n_jobs=4)]: Using backend LokyBackend with 4 concurrent workers.\n",
      "[Parallel(n_jobs=4)]: Done  58 tasks      | elapsed:    1.4s\n",
      "[Parallel(n_jobs=4)]: Done 293 out of 300 | elapsed:    6.4s remaining:    0.1s\n",
      "[Parallel(n_jobs=4)]: Done 300 out of 300 | elapsed:    6.5s finished\n",
      "06-06-2022 20:21:53 INFO: Step to 4\n",
      "06-06-2022 20:21:53 INFO: Round 3, ESS 222, Epsilon 1.0010, Acceptance 83.0%\n",
      "[Parallel(n_jobs=4)]: Using backend LokyBackend with 4 concurrent workers.\n",
      "[Parallel(n_jobs=4)]: Done  92 tasks      | elapsed:    2.0s\n",
      "[Parallel(n_jobs=4)]: Done 300 out of 300 | elapsed:    6.6s finished\n",
      "06-06-2022 20:22:02 INFO: Step to 5\n",
      "06-06-2022 20:22:02 INFO: Round 4, ESS 203, Epsilon 0.9260, Acceptance 83.7%\n",
      "[Parallel(n_jobs=4)]: Using backend LokyBackend with 4 concurrent workers.\n",
      "[Parallel(n_jobs=4)]: Done  92 tasks      | elapsed:    1.7s\n",
      "[Parallel(n_jobs=4)]: Done 300 out of 300 | elapsed:    5.6s finished\n",
      "06-06-2022 20:22:09 INFO: Step to 6\n",
      "06-06-2022 20:22:09 INFO: Round 5, ESS 188, Epsilon 0.8685, Acceptance 69.0%\n",
      "[Parallel(n_jobs=4)]: Using backend LokyBackend with 4 concurrent workers.\n",
      "[Parallel(n_jobs=4)]: Done  92 tasks      | elapsed:    1.6s\n",
      "[Parallel(n_jobs=4)]: Done 300 out of 300 | elapsed:    5.2s finished\n",
      "06-06-2022 20:22:17 INFO: Step to 7\n",
      "06-06-2022 20:22:17 INFO: Round 6, ESS 300, Epsilon 0.7933, Acceptance 80.3%\n",
      "[Parallel(n_jobs=4)]: Using backend LokyBackend with 4 concurrent workers.\n",
      "[Parallel(n_jobs=4)]: Done  92 tasks      | elapsed:    1.3s\n",
      "[Parallel(n_jobs=4)]: Done 293 out of 300 | elapsed:    4.7s remaining:    0.0s\n",
      "[Parallel(n_jobs=4)]: Done 300 out of 300 | elapsed:    5.0s finished\n",
      "06-06-2022 20:22:24 INFO: Step to 8\n",
      "06-06-2022 20:22:24 INFO: Round 7, ESS 268, Epsilon 0.7418, Acceptance 80.3%\n",
      "[Parallel(n_jobs=4)]: Using backend LokyBackend with 4 concurrent workers.\n",
      "[Parallel(n_jobs=4)]: Done 128 tasks      | elapsed:    1.7s\n",
      "[Parallel(n_jobs=4)]: Done 300 out of 300 | elapsed:    4.7s finished\n",
      "06-06-2022 20:22:31 INFO: Step to 9\n",
      "06-06-2022 20:22:31 INFO: Round 8, ESS 240, Epsilon 0.6864, Acceptance 73.0%\n",
      "[Parallel(n_jobs=4)]: Using backend LokyBackend with 4 concurrent workers.\n",
      "[Parallel(n_jobs=4)]: Done  92 tasks      | elapsed:    1.3s\n",
      "[Parallel(n_jobs=4)]: Done 300 out of 300 | elapsed:    4.3s finished\n",
      "06-06-2022 20:22:37 INFO: Step to 10\n",
      "06-06-2022 20:22:37 INFO: Round 9, ESS 218, Epsilon 0.6073, Acceptance 64.7%\n",
      "[Parallel(n_jobs=4)]: Using backend LokyBackend with 4 concurrent workers.\n",
      "[Parallel(n_jobs=4)]: Done  58 tasks      | elapsed:    1.1s\n",
      "[Parallel(n_jobs=4)]: Done 300 out of 300 | elapsed:    5.0s finished\n",
      "06-06-2022 20:22:44 INFO: Step to 11\n",
      "06-06-2022 20:22:44 INFO: Round 10, ESS 198, Epsilon 0.5736, Acceptance 60.7%\n",
      "[Parallel(n_jobs=4)]: Using backend LokyBackend with 4 concurrent workers.\n",
      "[Parallel(n_jobs=4)]: Done 128 tasks      | elapsed:    2.6s\n",
      "[Parallel(n_jobs=4)]: Done 300 out of 300 | elapsed:    5.8s finished\n",
      "06-06-2022 20:22:52 INFO: Step to 12\n",
      "06-06-2022 20:22:52 INFO: Round 11, ESS 300, Epsilon 0.5466, Acceptance 65.0%\n",
      "[Parallel(n_jobs=4)]: Using backend LokyBackend with 4 concurrent workers.\n",
      "[Parallel(n_jobs=4)]: Done  92 tasks      | elapsed:    1.8s\n",
      "[Parallel(n_jobs=4)]: Done 293 out of 300 | elapsed:    4.8s remaining:    0.0s\n",
      "[Parallel(n_jobs=4)]: Done 300 out of 300 | elapsed:    4.9s finished\n",
      "06-06-2022 20:22:59 INFO: Step to 13\n",
      "06-06-2022 20:22:59 INFO: Round 12, ESS 270, Epsilon 0.5042, Acceptance 59.0%\n",
      "[Parallel(n_jobs=4)]: Using backend LokyBackend with 4 concurrent workers.\n",
      "[Parallel(n_jobs=4)]: Done 128 tasks      | elapsed:    1.8s\n",
      "[Parallel(n_jobs=4)]: Done 300 out of 300 | elapsed:    4.1s finished\n",
      "06-06-2022 20:23:05 INFO: Step to 14\n",
      "06-06-2022 20:23:05 INFO: Round 13, ESS 243, Epsilon 0.4729, Acceptance 52.7%\n",
      "[Parallel(n_jobs=4)]: Using backend LokyBackend with 4 concurrent workers.\n",
      "[Parallel(n_jobs=4)]: Done  92 tasks      | elapsed:    1.4s\n",
      "[Parallel(n_jobs=4)]: Done 300 out of 300 | elapsed:    4.5s finished\n",
      "06-06-2022 20:23:11 INFO: Step to 15\n",
      "06-06-2022 20:23:11 INFO: Round 14, ESS 221, Epsilon 0.4531, Acceptance 54.3%\n",
      "[Parallel(n_jobs=4)]: Using backend LokyBackend with 4 concurrent workers.\n",
      "[Parallel(n_jobs=4)]: Done 128 tasks      | elapsed:    2.1s\n",
      "[Parallel(n_jobs=4)]: Done 300 out of 300 | elapsed:    4.5s finished\n",
      "06-06-2022 20:23:18 INFO: Step to 16\n",
      "06-06-2022 20:23:18 INFO: Round 15, ESS 201, Epsilon 0.4287, Acceptance 57.0%\n",
      "[Parallel(n_jobs=4)]: Using backend LokyBackend with 4 concurrent workers.\n",
      "[Parallel(n_jobs=4)]: Done  84 tasks      | elapsed:    1.3s\n",
      "[Parallel(n_jobs=4)]: Done 300 out of 300 | elapsed:    4.5s finished\n",
      "06-06-2022 20:23:24 INFO: Step to 17\n",
      "06-06-2022 20:23:24 INFO: Round 16, ESS 182, Epsilon 0.4054, Acceptance 49.7%\n",
      "[Parallel(n_jobs=4)]: Using backend LokyBackend with 4 concurrent workers.\n",
      "[Parallel(n_jobs=4)]: Done  92 tasks      | elapsed:    1.5s\n",
      "[Parallel(n_jobs=4)]: Done 300 out of 300 | elapsed:    4.4s finished\n",
      "06-06-2022 20:23:30 INFO: Step to 18\n",
      "06-06-2022 20:23:30 INFO: Round 17, ESS 300, Epsilon 0.3873, Acceptance 57.7%\n",
      "[Parallel(n_jobs=4)]: Using backend LokyBackend with 4 concurrent workers.\n",
      "[Parallel(n_jobs=4)]: Done  92 tasks      | elapsed:    1.3s\n",
      "[Parallel(n_jobs=4)]: Done 300 out of 300 | elapsed:    4.1s finished\n",
      "06-06-2022 20:23:36 INFO: Step to 19\n",
      "06-06-2022 20:23:36 INFO: Round 18, ESS 270, Epsilon 0.3711, Acceptance 49.3%\n",
      "[Parallel(n_jobs=4)]: Using backend LokyBackend with 4 concurrent workers.\n",
      "[Parallel(n_jobs=4)]: Done  92 tasks      | elapsed:    1.4s\n",
      "[Parallel(n_jobs=4)]: Done 300 out of 300 | elapsed:    4.6s finished\n",
      "06-06-2022 20:23:43 INFO: Step to 20\n",
      "06-06-2022 20:23:43 INFO: Round 19, ESS 244, Epsilon 0.3475, Acceptance 48.7%\n",
      "[Parallel(n_jobs=4)]: Using backend LokyBackend with 4 concurrent workers.\n",
      "[Parallel(n_jobs=4)]: Done 128 tasks      | elapsed:    1.6s\n",
      "[Parallel(n_jobs=4)]: Done 300 out of 300 | elapsed:    3.7s finished\n",
      "06-06-2022 20:23:49 INFO: Step to 21\n",
      "06-06-2022 20:23:49 INFO: Round 20, ESS 218, Epsilon 0.3282, Acceptance 47.3%\n",
      "[Parallel(n_jobs=4)]: Using backend LokyBackend with 4 concurrent workers.\n",
      "[Parallel(n_jobs=4)]: Done 128 tasks      | elapsed:    1.6s\n",
      "[Parallel(n_jobs=4)]: Done 300 out of 300 | elapsed:    4.3s finished\n",
      "06-06-2022 20:23:55 INFO: Step to 22\n",
      "06-06-2022 20:23:55 INFO: Round 21, ESS 196, Epsilon 0.3115, Acceptance 46.0%\n",
      "[Parallel(n_jobs=4)]: Using backend LokyBackend with 4 concurrent workers.\n",
      "[Parallel(n_jobs=4)]: Done  92 tasks      | elapsed:    1.4s\n",
      "[Parallel(n_jobs=4)]: Done 300 out of 300 | elapsed:    4.9s finished\n",
      "06-06-2022 20:24:02 INFO: Step to 23\n",
      "06-06-2022 20:24:02 INFO: Round 22, ESS 300, Epsilon 0.2997, Acceptance 52.0%\n",
      "[Parallel(n_jobs=4)]: Using backend LokyBackend with 4 concurrent workers.\n",
      "[Parallel(n_jobs=4)]: Done  92 tasks      | elapsed:    1.5s\n",
      "[Parallel(n_jobs=4)]: Done 300 out of 300 | elapsed:    4.2s finished\n",
      "06-06-2022 20:24:08 INFO: Step to 24\n",
      "06-06-2022 20:24:08 INFO: Round 23, ESS 270, Epsilon 0.2873, Acceptance 49.0%\n",
      "[Parallel(n_jobs=4)]: Using backend LokyBackend with 4 concurrent workers.\n",
      "[Parallel(n_jobs=4)]: Done  60 tasks      | elapsed:    0.9s\n",
      "[Parallel(n_jobs=4)]: Done 293 out of 300 | elapsed:    4.1s remaining:    0.0s\n",
      "[Parallel(n_jobs=4)]: Done 300 out of 300 | elapsed:    4.3s finished\n"
     ]
    },
    {
     "name": "stderr",
     "output_type": "stream",
     "text": [
      "06-06-2022 20:24:15 INFO: Step to 25\n",
      "06-06-2022 20:24:15 INFO: Round 24, ESS 242, Epsilon 0.2749, Acceptance 48.7%\n",
      "[Parallel(n_jobs=4)]: Using backend LokyBackend with 4 concurrent workers.\n",
      "[Parallel(n_jobs=4)]: Done 128 tasks      | elapsed:    1.6s\n",
      "[Parallel(n_jobs=4)]: Done 300 out of 300 | elapsed:    3.7s finished\n",
      "06-06-2022 20:24:20 INFO: Step to 26\n",
      "06-06-2022 20:24:20 INFO: Round 25, ESS 217, Epsilon 0.2594, Acceptance 49.7%\n",
      "[Parallel(n_jobs=4)]: Using backend LokyBackend with 4 concurrent workers.\n",
      "[Parallel(n_jobs=4)]: Done  84 tasks      | elapsed:    1.2s\n",
      "[Parallel(n_jobs=4)]: Done 300 out of 300 | elapsed:    3.7s finished\n",
      "06-06-2022 20:24:26 INFO: Step to 27\n",
      "06-06-2022 20:24:26 INFO: Round 26, ESS 196, Epsilon 0.2454, Acceptance 44.7%\n",
      "[Parallel(n_jobs=4)]: Using backend LokyBackend with 4 concurrent workers.\n",
      "[Parallel(n_jobs=4)]: Done  92 tasks      | elapsed:    1.5s\n",
      "[Parallel(n_jobs=4)]: Done 300 out of 300 | elapsed:    4.3s finished\n",
      "06-06-2022 20:24:32 INFO: Step to 28\n",
      "06-06-2022 20:24:32 INFO: Round 27, ESS 300, Epsilon 0.2307, Acceptance 41.0%\n",
      "[Parallel(n_jobs=4)]: Using backend LokyBackend with 4 concurrent workers.\n",
      "[Parallel(n_jobs=4)]: Done  92 tasks      | elapsed:    1.3s\n",
      "[Parallel(n_jobs=4)]: Done 300 out of 300 | elapsed:    4.4s finished\n",
      "06-06-2022 20:24:39 INFO: Step to 29\n",
      "06-06-2022 20:24:39 INFO: Round 28, ESS 270, Epsilon 0.2190, Acceptance 47.0%\n",
      "[Parallel(n_jobs=4)]: Using backend LokyBackend with 4 concurrent workers.\n",
      "[Parallel(n_jobs=4)]: Done  76 tasks      | elapsed:    1.4s\n",
      "[Parallel(n_jobs=4)]: Done 300 out of 300 | elapsed:    5.4s finished\n",
      "06-06-2022 20:24:46 INFO: Step to 30\n",
      "06-06-2022 20:24:46 INFO: Round 29, ESS 244, Epsilon 0.2107, Acceptance 39.0%\n",
      "[Parallel(n_jobs=4)]: Using backend LokyBackend with 4 concurrent workers.\n",
      "[Parallel(n_jobs=4)]: Done  92 tasks      | elapsed:    1.4s\n",
      "[Parallel(n_jobs=4)]: Done 300 out of 300 | elapsed:    4.6s finished\n",
      "06-06-2022 20:24:53 INFO: Step to 31\n",
      "06-06-2022 20:24:53 INFO: Round 30, ESS 218, Epsilon 0.1984, Acceptance 32.3%\n",
      "[Parallel(n_jobs=4)]: Using backend LokyBackend with 4 concurrent workers.\n",
      "[Parallel(n_jobs=4)]: Done  92 tasks      | elapsed:    1.5s\n",
      "[Parallel(n_jobs=4)]: Done 300 out of 300 | elapsed:    4.3s finished\n",
      "06-06-2022 20:24:59 INFO: Step to 32\n",
      "06-06-2022 20:24:59 INFO: Round 31, ESS 194, Epsilon 0.1874, Acceptance 36.0%\n",
      "[Parallel(n_jobs=4)]: Using backend LokyBackend with 4 concurrent workers.\n",
      "[Parallel(n_jobs=4)]: Done  92 tasks      | elapsed:    1.2s\n",
      "[Parallel(n_jobs=4)]: Done 300 out of 300 | elapsed:    4.1s finished\n",
      "06-06-2022 20:25:05 INFO: Step to 33\n",
      "06-06-2022 20:25:05 INFO: Round 32, ESS 300, Epsilon 0.1742, Acceptance 35.7%\n",
      "[Parallel(n_jobs=4)]: Using backend LokyBackend with 4 concurrent workers.\n",
      "[Parallel(n_jobs=4)]: Done 128 tasks      | elapsed:    1.7s\n",
      "[Parallel(n_jobs=4)]: Done 300 out of 300 | elapsed:    4.2s finished\n",
      "06-06-2022 20:25:12 INFO: Step to 34\n",
      "06-06-2022 20:25:12 INFO: Round 33, ESS 270, Epsilon 0.1672, Acceptance 40.0%\n",
      "[Parallel(n_jobs=4)]: Using backend LokyBackend with 4 concurrent workers.\n",
      "[Parallel(n_jobs=4)]: Done 128 tasks      | elapsed:    1.8s\n",
      "[Parallel(n_jobs=4)]: Done 300 out of 300 | elapsed:    4.3s finished\n",
      "06-06-2022 20:25:18 INFO: Step to 35\n",
      "06-06-2022 20:25:18 INFO: Round 34, ESS 243, Epsilon 0.1559, Acceptance 36.7%\n",
      "[Parallel(n_jobs=4)]: Using backend LokyBackend with 4 concurrent workers.\n",
      "[Parallel(n_jobs=4)]: Done  92 tasks      | elapsed:    1.3s\n",
      "[Parallel(n_jobs=4)]: Done 300 out of 300 | elapsed:    4.6s finished\n",
      "06-06-2022 20:25:25 INFO: Step to 36\n",
      "06-06-2022 20:25:25 INFO: Round 35, ESS 220, Epsilon 0.1443, Acceptance 33.7%\n",
      "[Parallel(n_jobs=4)]: Using backend LokyBackend with 4 concurrent workers.\n",
      "[Parallel(n_jobs=4)]: Done  92 tasks      | elapsed:    1.2s\n",
      "[Parallel(n_jobs=4)]: Done 300 out of 300 | elapsed:    4.9s finished\n",
      "06-06-2022 20:25:32 INFO: Step to 37\n",
      "06-06-2022 20:25:32 INFO: Round 36, ESS 197, Epsilon 0.1383, Acceptance 29.7%\n",
      "[Parallel(n_jobs=4)]: Using backend LokyBackend with 4 concurrent workers.\n",
      "[Parallel(n_jobs=4)]: Done  92 tasks      | elapsed:    1.6s\n",
      "[Parallel(n_jobs=4)]: Done 300 out of 300 | elapsed:    4.8s finished\n",
      "06-06-2022 20:25:39 INFO: Step to 38\n",
      "06-06-2022 20:25:39 INFO: Round 37, ESS 300, Epsilon 0.1276, Acceptance 32.7%\n",
      "[Parallel(n_jobs=4)]: Using backend LokyBackend with 4 concurrent workers.\n",
      "[Parallel(n_jobs=4)]: Done  92 tasks      | elapsed:    1.4s\n",
      "[Parallel(n_jobs=4)]: Done 293 out of 300 | elapsed:    4.2s remaining:    0.0s\n",
      "[Parallel(n_jobs=4)]: Done 300 out of 300 | elapsed:    4.5s finished\n",
      "06-06-2022 20:25:45 INFO: Step to 39\n",
      "06-06-2022 20:25:45 INFO: Round 38, ESS 268, Epsilon 0.1211, Acceptance 30.0%\n",
      "[Parallel(n_jobs=4)]: Using backend LokyBackend with 4 concurrent workers.\n",
      "[Parallel(n_jobs=4)]: Done 128 tasks      | elapsed:    1.6s\n",
      "[Parallel(n_jobs=4)]: Done 300 out of 300 | elapsed:    4.0s finished\n",
      "06-06-2022 20:25:51 INFO: Step to 40\n",
      "06-06-2022 20:25:51 INFO: Round 39, ESS 241, Epsilon 0.1162, Acceptance 31.3%\n",
      "[Parallel(n_jobs=4)]: Using backend LokyBackend with 4 concurrent workers.\n",
      "[Parallel(n_jobs=4)]: Done  92 tasks      | elapsed:    1.3s\n",
      "[Parallel(n_jobs=4)]: Done 300 out of 300 | elapsed:    5.5s finished\n",
      "06-06-2022 20:25:59 INFO: Step to 41\n",
      "06-06-2022 20:25:59 INFO: Round 40, ESS 215, Epsilon 0.1085, Acceptance 28.0%\n",
      "[Parallel(n_jobs=4)]: Using backend LokyBackend with 4 concurrent workers.\n",
      "[Parallel(n_jobs=4)]: Done  92 tasks      | elapsed:    1.2s\n",
      "[Parallel(n_jobs=4)]: Done 300 out of 300 | elapsed:    4.1s finished\n",
      "06-06-2022 20:26:05 INFO: Step to 42\n",
      "06-06-2022 20:26:05 INFO: Round 41, ESS 194, Epsilon 0.1043, Acceptance 29.3%\n",
      "[Parallel(n_jobs=4)]: Using backend LokyBackend with 4 concurrent workers.\n",
      "[Parallel(n_jobs=4)]: Done  92 tasks      | elapsed:    1.4s\n",
      "[Parallel(n_jobs=4)]: Done 293 out of 300 | elapsed:    3.8s remaining:    0.0s\n",
      "[Parallel(n_jobs=4)]: Done 300 out of 300 | elapsed:    3.9s finished\n",
      "06-06-2022 20:26:11 INFO: Step to 43\n",
      "06-06-2022 20:26:11 INFO: Round 42, ESS 300, Epsilon 0.0979, Acceptance 26.0%\n",
      "[Parallel(n_jobs=4)]: Using backend LokyBackend with 4 concurrent workers.\n",
      "[Parallel(n_jobs=4)]: Done  92 tasks      | elapsed:    1.3s\n",
      "[Parallel(n_jobs=4)]: Done 293 out of 300 | elapsed:    4.0s remaining:    0.0s\n",
      "[Parallel(n_jobs=4)]: Done 300 out of 300 | elapsed:    4.1s finished\n",
      "06-06-2022 20:26:17 INFO: Step to 44\n",
      "06-06-2022 20:26:17 INFO: Round 43, ESS 269, Epsilon 0.0939, Acceptance 27.0%\n",
      "[Parallel(n_jobs=4)]: Using backend LokyBackend with 4 concurrent workers.\n",
      "[Parallel(n_jobs=4)]: Done  92 tasks      | elapsed:    1.3s\n",
      "[Parallel(n_jobs=4)]: Done 293 out of 300 | elapsed:    3.9s remaining:    0.0s\n",
      "[Parallel(n_jobs=4)]: Done 300 out of 300 | elapsed:    4.1s finished\n",
      "06-06-2022 20:26:23 INFO: Step to 45\n",
      "06-06-2022 20:26:23 INFO: Round 44, ESS 241, Epsilon 0.0874, Acceptance 25.0%\n",
      "[Parallel(n_jobs=4)]: Using backend LokyBackend with 4 concurrent workers.\n",
      "[Parallel(n_jobs=4)]: Done  92 tasks      | elapsed:    1.3s\n",
      "[Parallel(n_jobs=4)]: Done 300 out of 300 | elapsed:    4.5s finished\n",
      "06-06-2022 20:26:29 INFO: Step to 46\n",
      "06-06-2022 20:26:29 INFO: Round 45, ESS 217, Epsilon 0.0818, Acceptance 23.7%\n",
      "[Parallel(n_jobs=4)]: Using backend LokyBackend with 4 concurrent workers.\n",
      "[Parallel(n_jobs=4)]: Done  92 tasks      | elapsed:    1.4s\n",
      "[Parallel(n_jobs=4)]: Done 300 out of 300 | elapsed:    4.2s finished\n",
      "06-06-2022 20:26:36 INFO: Step to 47\n",
      "06-06-2022 20:26:36 INFO: Round 46, ESS 196, Epsilon 0.0770, Acceptance 24.0%\n",
      "[Parallel(n_jobs=4)]: Using backend LokyBackend with 4 concurrent workers.\n",
      "[Parallel(n_jobs=4)]: Done  92 tasks      | elapsed:    1.3s\n",
      "[Parallel(n_jobs=4)]: Done 300 out of 300 | elapsed:    4.8s finished\n",
      "06-06-2022 20:26:42 INFO: Step to 48\n",
      "06-06-2022 20:26:42 INFO: Round 47, ESS 300, Epsilon 0.0731, Acceptance 21.0%\n",
      "[Parallel(n_jobs=4)]: Using backend LokyBackend with 4 concurrent workers.\n",
      "[Parallel(n_jobs=4)]: Done 128 tasks      | elapsed:    1.9s\n",
      "[Parallel(n_jobs=4)]: Done 300 out of 300 | elapsed:    5.1s finished\n",
      "06-06-2022 20:26:49 INFO: Step to 49\n",
      "06-06-2022 20:26:49 INFO: Round 48, ESS 270, Epsilon 0.0688, Acceptance 21.0%\n",
      "[Parallel(n_jobs=4)]: Using backend LokyBackend with 4 concurrent workers.\n"
     ]
    },
    {
     "name": "stderr",
     "output_type": "stream",
     "text": [
      "[Parallel(n_jobs=4)]: Done  92 tasks      | elapsed:    1.2s\n",
      "[Parallel(n_jobs=4)]: Done 300 out of 300 | elapsed:    4.5s finished\n",
      "06-06-2022 20:26:56 INFO: Step to 50\n",
      "06-06-2022 20:26:56 INFO: Round 49, ESS 242, Epsilon 0.0652, Acceptance 22.3%\n",
      "[Parallel(n_jobs=4)]: Using backend LokyBackend with 4 concurrent workers.\n",
      "[Parallel(n_jobs=4)]: Done  92 tasks      | elapsed:    1.6s\n",
      "[Parallel(n_jobs=4)]: Done 293 out of 300 | elapsed:    4.4s remaining:    0.0s\n",
      "[Parallel(n_jobs=4)]: Done 300 out of 300 | elapsed:    4.5s finished\n",
      "06-06-2022 20:27:02 INFO: Step to 51\n",
      "06-06-2022 20:27:02 INFO: Round 50, ESS 217, Epsilon 0.0618, Acceptance 26.0%\n",
      "06-06-2022 20:27:02 INFO: Collecting posteriors\n"
     ]
    }
   ],
   "source": [
    "alg.fit(obj)"
   ]
  },
  {
   "cell_type": "code",
   "execution_count": 12,
   "id": "f26f81a2",
   "metadata": {},
   "outputs": [],
   "source": [
    "post = alg.Collector.DF"
   ]
  },
  {
   "cell_type": "code",
   "execution_count": 13,
   "id": "34647c92",
   "metadata": {},
   "outputs": [
    {
     "data": {
      "text/plain": [
       "Index(['r_die_ut', 'r_sc', 'rr_die_asym', 'TxI_pri', 'dur_succ_pri', 'ppm',\n",
       "       'odds_pri', 'tr_pub_pub', 'tr_pri_pub', 'ppv_pri', 'r_succ_pub',\n",
       "       'r_succ_eng', 'rr_ltfu_pri', 'ppv_pub', 'ppv_eng', 'inc', 'r_die_sym',\n",
       "       'r_die_asym', 'r_succ_pri', 'LogPrior', 'LogLikelihood',\n",
       "       'LogPosterior'],\n",
       "      dtype='object')"
      ]
     },
     "execution_count": 13,
     "metadata": {},
     "output_type": "execute_result"
    }
   ],
   "source": [
    "post.columns"
   ]
  },
  {
   "cell_type": "code",
   "execution_count": 15,
   "id": "c68baa01",
   "metadata": {},
   "outputs": [
    {
     "data": {
      "text/plain": [
       "<AxesSubplot:>"
      ]
     },
     "execution_count": 15,
     "metadata": {},
     "output_type": "execute_result"
    },
    {
     "data": {
      "image/png": "[encoded data removed]",
      "text/plain": [
       "<Figure size 432x288 with 1 Axes>"
      ]
     },
     "metadata": {
      "needs_background": "light"
     },
     "output_type": "display_data"
    }
   ],
   "source": [
    "post.tr_pri_pub.hist()"
   ]
  },
  {
   "cell_type": "code",
   "execution_count": 16,
   "id": "be24b467",
   "metadata": {},
   "outputs": [
    {
     "data": {
      "text/plain": [
       "<AxesSubplot:>"
      ]
     },
     "execution_count": 16,
     "metadata": {},
     "output_type": "execute_result"
    },
    {
     "data": {
      "image/png": "[encoded data removed]",
      "text/plain": [
       "<Figure size 432x288 with 1 Axes>"
      ]
     },
     "metadata": {
      "needs_background": "light"
     },
     "output_type": "display_data"
    }
   ],
   "source": [
    "post.tr_pub_pub.hist()"
   ]
  },
  {
   "cell_type": "code",
   "execution_count": 17,
   "id": "2f994ccb",
   "metadata": {},
   "outputs": [
    {
     "data": {
      "text/plain": [
       "<AxesSubplot:>"
      ]
     },
     "execution_count": 17,
     "metadata": {},
     "output_type": "execute_result"
    },
    {
     "data": {
      "image/png": "[encoded data removed]",
      "text/plain": [
       "<Figure size 432x288 with 1 Axes>"
      ]
     },
     "metadata": {
      "needs_background": "light"
     },
     "output_type": "display_data"
    }
   ],
   "source": [
    "post.inc.hist()"
   ]
  },
  {
   "cell_type": "code",
   "execution_count": 18,
   "id": "016f6d3a",
   "metadata": {},
   "outputs": [],
   "source": [
    "pl = alg.Collector.ParameterList"
   ]
  },
  {
   "cell_type": "code",
   "execution_count": 19,
   "id": "ec7e13ae",
   "metadata": {},
   "outputs": [],
   "source": [
    "cfs = [obj.simulate(p) for p in pl]"
   ]
  },
  {
   "cell_type": "code",
   "execution_count": 20,
   "id": "c2ae8883",
   "metadata": {},
   "outputs": [
    {
     "data": {
      "text/plain": [
       "<matplotlib.lines.Line2D at 0x23c52769430>"
      ]
     },
     "execution_count": 20,
     "metadata": {},
     "output_type": "execute_result"
    },
    {
     "data": {
      "image/png": "[encoded data removed]",
      "text/plain": [
       "<Figure size 432x288 with 2 Axes>"
      ]
     },
     "metadata": {
      "needs_background": "light"
     },
     "output_type": "display_data"
    }
   ],
   "source": [
    "fig, axes = plt.subplots(2, 1)\n",
    "\n",
    "axes[0].hist([cf.DetR0[0] for cf in cfs], alpha = 0.3)\n",
    "axes[0].axvline(x=cfs[0].DataCNR[0])\n",
    "\n",
    "axes[1].hist([cf.DetR0[1] for cf in cfs], alpha = 0.3)\n",
    "axes[1].axvline(x=cfs[0].DataCNR[1])"
   ]
  },
  {
   "cell_type": "code",
   "execution_count": 21,
   "id": "9ec5a9f1",
   "metadata": {},
   "outputs": [
    {
     "data": {
      "text/plain": [
       "<matplotlib.lines.Line2D at 0x23c527a3070>"
      ]
     },
     "execution_count": 21,
     "metadata": {},
     "output_type": "execute_result"
    },
    {
     "data": {
      "image/png": "[encoded data removed]",
      "text/plain": [
       "<Figure size 432x288 with 1 Axes>"
      ]
     },
     "metadata": {
      "needs_background": "light"
     },
     "output_type": "display_data"
    }
   ],
   "source": [
    "plt.scatter([cf.PPV[2] for cf in cfs], [cf.DrugTime[2] * 12 * d.N * 1e-6 for cf in cfs])\n",
    "plt.axhline(y=17793 * 1e-3)"
   ]
  },
  {
   "cell_type": "code",
   "execution_count": 22,
   "id": "be1dc107",
   "metadata": {},
   "outputs": [
    {
     "data": {
      "text/plain": [
       "<matplotlib.lines.Line2D at 0x23c5230fca0>"
      ]
     },
     "execution_count": 22,
     "metadata": {},
     "output_type": "execute_result"
    },
    {
     "data": {
      "image/png": "[encoded data removed]",
      "text/plain": [
       "<Figure size 432x288 with 1 Axes>"
      ]
     },
     "metadata": {
      "needs_background": "light"
     },
     "output_type": "display_data"
    }
   ],
   "source": [
    "plt.scatter([cf.PPV[2] for cf in cfs], [cf.DrugTime[1:].sum() * 12 * d.N * 1e-6 for cf in cfs])\n",
    "plt.axhline(y=17793 * 1e-3)"
   ]
  },
  {
   "cell_type": "code",
   "execution_count": 23,
   "id": "0f1ce6ed",
   "metadata": {},
   "outputs": [
    {
     "data": {
      "text/plain": [
       "190.85494655813105"
      ]
     },
     "execution_count": 23,
     "metadata": {},
     "output_type": "execute_result"
    },
    {
     "data": {
      "image/png": "[encoded data removed]",
      "text/plain": [
       "<Figure size 432x288 with 1 Axes>"
      ]
     },
     "metadata": {
      "needs_background": "light"
     },
     "output_type": "display_data"
    }
   ],
   "source": [
    "plt.scatter([cf.PPV[2] for cf in cfs], [cf.DrugTime.sum() * 1e5 for cf in cfs])\n",
    "plt.axhline(y=d.PrevTx)\n",
    "\n",
    "d.PrevTx "
   ]
  },
  {
   "cell_type": "code",
   "execution_count": 24,
   "id": "10b17907",
   "metadata": {},
   "outputs": [
    {
     "data": {
      "text/plain": [
       "<matplotlib.lines.Line2D at 0x23c528dae20>"
      ]
     },
     "execution_count": 24,
     "metadata": {},
     "output_type": "execute_result"
    },
    {
     "data": {
      "image/png": "[encoded data removed]",
      "text/plain": [
       "<Figure size 432x288 with 1 Axes>"
      ]
     },
     "metadata": {
      "needs_background": "light"
     },
     "output_type": "display_data"
    }
   ],
   "source": [
    "ppvs = np.linspace(0.01, 1, 99)\n",
    "\n",
    "mss = list()\n",
    "for ppv in ppvs:\n",
    "    xs = np.array([(cf.DetR[2] / ppv * cf.DurTx[2] + cf.DrugTime[2]) * 12 for cf in cfs])\n",
    "    mlu = np.quantile(xs, [0.05, 0.5, 0.95]) * d.N * 1e-6\n",
    "    mss.append({\n",
    "        'ppv': ppv,\n",
    "        'm': mlu[1],\n",
    "        'l': mlu[0],\n",
    "        'u': mlu[2]\n",
    "    })\n",
    "    \n",
    "mss = pd.DataFrame(mss)\n",
    "\n",
    "plt.fill_between(mss.ppv, mss.l, mss.u, alpha = 0.3)\n",
    "plt.plot(mss.ppv, mss.m)\n",
    "plt.axhline(y=17793 * 1e-3)\n",
    "\n",
    "plt.axhline(y=d.PrevTx * 1e-5 * d.N * 12 * 1e-7)"
   ]
  },
  {
   "cell_type": "code",
   "execution_count": 25,
   "id": "77dac606",
   "metadata": {},
   "outputs": [],
   "source": [
    "alg.Collector.save_to_csv(f'out/PostCasInd.csv')"
   ]
  },
  {
   "cell_type": "code",
   "execution_count": 26,
   "id": "57f5e36b",
   "metadata": {},
   "outputs": [],
   "source": [
    "def extract_rates(cf):\n",
    "    return {\n",
    "        'R_Die_Asym': cf.R_Die_Asym,\n",
    "        'R_Die_Sym': cf.R_Die_Sym,\n",
    "        'R_Die_Tx': cf.R_Die_Tx.tolist(),\n",
    "        'R_SelfCure': cf.R_SelfCure,\n",
    "        'R_Onset': cf.R_Onset,\n",
    "        'R_Aware': cf.R_Aware,\n",
    "        'R_CSI': cf.R_CSI,\n",
    "        'R_ReCSI': cf.R_ReCSI,\n",
    "        'P_Entry': cf.P_Entry.tolist(),\n",
    "        'P_Tr': cf.P_Tr.tolist(),\n",
    "        'P_Dx0': cf.P_Dx0.tolist(),\n",
    "        'P_Dx1': cf.P_Dx1.tolist(),\n",
    "        'P_TxI': cf.P_TxI.tolist(),\n",
    "        'PPV': cf.PPV.tolist(),\n",
    "        'R_Succ_Tx': cf.R_Succ_Tx.tolist(),\n",
    "        'R_LTFU_Tx': cf.R_LTFU_Tx.tolist()    \n",
    "    }\n",
    "\n",
    "\n",
    "rates = [extract_rates(cf) for cf in cfs]"
   ]
  },
  {
   "cell_type": "code",
   "execution_count": 27,
   "id": "37b5e099",
   "metadata": {},
   "outputs": [],
   "source": [
    "import json\n",
    "\n",
    "with open('out/rate_valid/Rates.json', 'w') as f:\n",
    "    json.dump(rates, f)"
   ]
  },
  {
   "cell_type": "code",
   "execution_count": null,
   "id": "69cde8ca",
   "metadata": {},
   "outputs": [],
   "source": []
  }
 ],
 "metadata": {
  "kernelspec": {
   "display_name": "Python 3 (ipykernel)",
   "language": "python",
   "name": "python3"
  },
  "language_info": {
   "codemirror_mode": {
    "name": "ipython",
    "version": 3
   },
   "file_extension": ".py",
   "mimetype": "text/x-python",
   "name": "python",
   "nbconvert_exporter": "python",
   "pygments_lexer": "ipython3",
   "version": "3.10.4"
  }
 },
 "nbformat": 4,
 "nbformat_minor": 5
}

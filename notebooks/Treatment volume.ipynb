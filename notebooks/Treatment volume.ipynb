{
 "cells": [
  {
   "cell_type": "code",
   "execution_count": 1,
   "id": "f997d086",
   "metadata": {},
   "outputs": [
    {
     "name": "stdout",
     "output_type": "stream",
     "text": [
      "D:\\Source\\IndTB_ppa\n"
     ]
    },
    {
     "data": {
      "text/plain": [
       "'D:\\\\Source\\\\IndTB_ppa'"
      ]
     },
     "execution_count": 1,
     "metadata": {},
     "output_type": "execute_result"
    }
   ],
   "source": [
    "%cd ../\n",
    "%pwd"
   ]
  },
  {
   "cell_type": "code",
   "execution_count": 2,
   "id": "11692833",
   "metadata": {},
   "outputs": [],
   "source": [
    "import json\n",
    "import pandas as pd\n",
    "import numpy as np\n",
    "import scipy.stats as sts"
   ]
  },
  {
   "cell_type": "code",
   "execution_count": 3,
   "id": "865aad5d",
   "metadata": {},
   "outputs": [],
   "source": [
    "def rbinom(n, p):\n",
    "    return sts.binom.rvs(n=n, p=p)\n",
    "\n",
    "def runif(a, b):\n",
    "    return sts.uniform.rvs(loc=a, scale=b - a)"
   ]
  },
  {
   "cell_type": "code",
   "execution_count": 4,
   "id": "890a9c45",
   "metadata": {},
   "outputs": [],
   "source": [
    "dat = pd.read_csv('data/cascade/d_cascade_2019.csv').set_index('State')\n",
    "\n",
    "dat = {i: row.to_dict() for i, row in dat.iterrows()}"
   ]
  },
  {
   "cell_type": "code",
   "execution_count": 5,
   "id": "975ea82b",
   "metadata": {},
   "outputs": [
    {
     "data": {
      "text/plain": [
       "dict_keys(['India', 'Andhra Pradesh', 'Arunachal Pradesh', 'Assam', 'Bihar', 'Chandigarh', 'Chhattisgarh', 'Delhi', 'Gujarat', 'Haryana', 'Himachal Pradesh', 'Jammu & Kashmir', 'Jharkhand', 'Karnataka', 'Kerala', 'Madhya Pradesh', 'Maharashtra', 'Manipur', 'Meghalaya', 'Nagaland', 'Odisha', 'Punjab', 'Rajasthan', 'Tamil Nadu', 'Telangana', 'Uttar Pradesh', 'Uttarakhand', 'West Bengal'])"
      ]
     },
     "execution_count": 5,
     "metadata": {},
     "output_type": "execute_result"
    }
   ],
   "source": [
    "dat.keys()"
   ]
  },
  {
   "cell_type": "code",
   "execution_count": 6,
   "id": "546c8bf1",
   "metadata": {},
   "outputs": [
    {
     "data": {
      "text/plain": [
       "{'Region': 'India',\n",
       " 'N': 322480,\n",
       " 'PrevUt': 278.1567847885141,\n",
       " 'PrevTx': 183.63439911095264,\n",
       " 'Pr_Pub_CSI': 0.4962686567164179,\n",
       " 'Pr_Pub_CSI0': 0.636,\n",
       " 'Pr_Pub_CSI1': 0.640625,\n",
       " 'Pr_Asym': 0.6327231121281465,\n",
       " 'Pr_NotAware': 0.2072824237267533,\n",
       " 'Pr_NotCS': 0.0318080445616501,\n",
       " 'Pr_NotDet': 0.12818641958345,\n",
       " 'Pop': 1357660000,\n",
       " 'CNR_pub': 0.00127,\n",
       " 'CNR_eng': 0.0005,\n",
       " 'TxI_pub': 0.94,\n",
       " 'TxI_eng': 0.95,\n",
       " 'TxSucc_pub': 0.9032258064516128,\n",
       " 'TxSucc_eng': 0.9102564102564102,\n",
       " 'TxDead_pub': 0.043010752688172,\n",
       " 'TxDead_eng': 0.0256410256410256,\n",
       " 'TxLTFU_pub': 0.053763440860215,\n",
       " 'TxLTFU_eng': 0.0641025641025641}"
      ]
     },
     "execution_count": 6,
     "metadata": {},
     "output_type": "execute_result"
    }
   ],
   "source": [
    "d = dat['India']\n",
    "d"
   ]
  },
  {
   "cell_type": "code",
   "execution_count": 88,
   "id": "09d94968",
   "metadata": {},
   "outputs": [
    {
     "data": {
      "text/plain": [
       "({'r_die_untx': 0.1798689511083642,\n",
       "  'r_sc': 0.12024928001583607,\n",
       "  'rr_die_asym': 0.5096196430571074,\n",
       "  'TxI_pri': 0.8545385730070815,\n",
       "  'dur_succ_pri': 0.4209224873785763,\n",
       "  'ppv_pri': 0.36876161776891414,\n",
       "  'det_pri': 0.0013696519838913134},\n",
       " {'r_succ_pub': 2, 'r_succ_eng': 2, 'rr_ltfu_pri': 1.5, 'ppv_pub': 0.85})"
      ]
     },
     "execution_count": 88,
     "metadata": {},
     "output_type": "execute_result"
    }
   ],
   "source": [
    "settings = {\n",
    "    'r_succ_pub': 2, \n",
    "    'r_succ_eng': 2,\n",
    "    'rr_ltfu_pri': 1.5,\n",
    "    'ppv_pub': 0.85\n",
    "}\n",
    "\n",
    "prior = {\n",
    "    'r_die_untx': runif(0.14, 0.18),\n",
    "    'r_sc': runif(0.1, 0.3),\n",
    "    'rr_die_asym': runif(0, 1),\n",
    "    'TxI_pri': runif(0.5, 1),\n",
    "    'dur_succ_pri': runif(2 / 12, 9 / 12),\n",
    "    'ppv_pri': runif(0.2, 1),\n",
    "    'det_pri': runif(0.0001, 0.01)\n",
    "}\n",
    "\n",
    "prior, settings "
   ]
  },
  {
   "cell_type": "code",
   "execution_count": 259,
   "id": "8ba65b17",
   "metadata": {},
   "outputs": [
    {
     "data": {
      "text/plain": [
       "(0.01119213726336387, array([2597.11796411]))"
      ]
     },
     "execution_count": 259,
     "metadata": {},
     "output_type": "execute_result"
    }
   ],
   "source": [
    "class Tx:\n",
    "    def __init__(self, d, s, exo):\n",
    "        d = dict(d)\n",
    "        d.update(s)\n",
    "        d.update(exo)\n",
    "        self.Pars = exo\n",
    "        self.R_succ_tx = np.array([d['r_succ_pub'], d['r_succ_eng'], 1 / d['dur_succ_pri']])\n",
    "        ltfu = np.array([d['TxLTFU_pub'], d['TxLTFU_eng'], d['TxLTFU_eng'] * d['rr_ltfu_pri']])\n",
    "        die = np.array([d['TxDead_pub'], d['TxDead_eng'], d['TxDead_eng']])\n",
    "        succ = np.array([d['TxSucc_pub'], d['TxSucc_eng'], d['TxSucc_eng']])\n",
    "        self.R_ltfu_tx = self.R_succ_tx * ltfu / succ\n",
    "        self.R_die_tx = self.R_succ_tx * die / succ\n",
    "        self.DetR = np.array([d['CNR_pub'], d['CNR_eng'], d['det_pri']]) \n",
    "        self.TxR = self.DetR * np.array([d['TxI_pub'], d['TxI_eng'], d['TxI_pri']])\n",
    "        self.PPV = np.array([d['ppv_pub'], d['ppv_pub'], d['ppv_pri']])\n",
    "        prev_tx = self.TxR / (self.R_ltfu_tx + self.R_die_tx + self.R_succ_tx) / self.PPV\n",
    "        self.PrevTx = prev_tx\n",
    "        self.ExPrevTx = rbinom(d['Pop'], d['PrevTx'] * 1e-5) / d['Pop'],\n",
    "        self.PrPri = prev_tx[1:].sum() / prev_tx.sum()\n",
    "        self.PrPri0 = prev_tx[1].sum() / prev_tx[:2].sum()\n",
    "        \n",
    "    def distance(self):\n",
    "        return np.power(m.PrevTx.sum() / m.ExPrevTx - 1, 2) * 100 + np.power(m.PrPri0 / 0.4 - 1, 2)\n",
    "        \n",
    "    def summary(self, key=0):\n",
    "        dur = 1 / (self.R_ltfu_tx + self.R_die_tx + self.R_succ_tx)\n",
    "\n",
    "        su = {\n",
    "            'Key': key,\n",
    "            'PrevTxPub': self.PrevTx[0], \n",
    "            'PrevTxEng': self.PrevTx[1], \n",
    "            'PrevTxPri': self.PrevTx[2],\n",
    "            'DurTxPub': dur[0],\n",
    "            'DurTxEng': dur[1],\n",
    "            'DurTxPri': dur[2],\n",
    "            'PrPri': self.PrPri,\n",
    "            'PrPri0': self.PrPri0,\n",
    "            'PriVsPub': dur[0] / dur[1:].sum()\n",
    "        }\n",
    "\n",
    "        su.update(self.Pars)\n",
    "        return su\n",
    "\n",
    "m = Tx(d, settings, prior)\n",
    "m.PrevTx.sum(), m.distance()"
   ]
  },
  {
   "cell_type": "code",
   "execution_count": 260,
   "id": "684e5067",
   "metadata": {},
   "outputs": [
    {
     "data": {
      "text/plain": [
       "(array([2597.03704819]), 0.012946547696626013)"
      ]
     },
     "execution_count": 260,
     "metadata": {},
     "output_type": "execute_result"
    }
   ],
   "source": [
    "np.power(m.PrevTx.sum() / m.ExPrevTx - 1, 2) * 100, np.power(m.PrPri0 - 0.4, 2)"
   ]
  },
  {
   "cell_type": "code",
   "execution_count": 261,
   "id": "07495e88",
   "metadata": {},
   "outputs": [
    {
     "data": {
      "text/plain": [
       "0.13565602059200302"
      ]
     },
     "execution_count": 261,
     "metadata": {},
     "output_type": "execute_result"
    }
   ],
   "source": [
    "dis = []\n",
    "\n",
    "while len(dis) < 1000:\n",
    "    prior = {\n",
    "        'r_die_untx': runif( 0.14, 0.18),\n",
    "        'r_sc': runif(0.1, 0.3),\n",
    "        'rr_die_asym': runif(0, 1),\n",
    "        'TxI_pri': 0.8,\n",
    "        'dur_succ_pri': runif(2 / 12, 9 / 12),\n",
    "        'ppv_pri': runif(0.2, 1),\n",
    "        'det_pri': runif(0.0001, 0.01)\n",
    "    }\n",
    "    m = Tx(d, settings, prior)\n",
    "    dis.append(m.distance())\n",
    "\n",
    "eps = np.quantile(dis, 0.02)\n",
    "eps"
   ]
  },
  {
   "cell_type": "code",
   "execution_count": 262,
   "id": "45f2ba6b",
   "metadata": {},
   "outputs": [
    {
     "data": {
      "text/plain": [
       "(0.020314055294858514, 49227)"
      ]
     },
     "execution_count": 262,
     "metadata": {},
     "output_type": "execute_result"
    }
   ],
   "source": [
    "ms = []\n",
    "\n",
    "n_sim = 0\n",
    "while len(ms) < 1000:\n",
    "    n_sim += 1\n",
    "    prior = {\n",
    "        'r_die_untx': runif( 0.14, 0.18),\n",
    "        'r_sc': runif(0.1, 0.3),\n",
    "        'rr_die_asym': runif(0, 1),\n",
    "        'TxI_pri': runif(0.5, 1),\n",
    "        'dur_succ_pri': runif(2 / 12, 9 / 12),\n",
    "        'ppv_pri': runif(0.2, 1),\n",
    "        'det_pri': runif(0.0001, 0.01)\n",
    "    }\n",
    "    m = Tx(d, settings, prior)\n",
    "    if m.distance() < eps:\n",
    "        ms.append(m)\n",
    "        \n",
    "res = [m.summary(i) for i, m in enumerate(ms)]\n",
    "res = pd.DataFrame(res).set_index('Key')\n",
    "        \n",
    "acc = 1000 / n_sim\n",
    "acc, n_sim"
   ]
  },
  {
   "cell_type": "code",
   "execution_count": 245,
   "id": "ccce0677",
   "metadata": {},
   "outputs": [
    {
     "data": {
      "text/html": [
       "<div>\n",
       "<style scoped>\n",
       "    .dataframe tbody tr th:only-of-type {\n",
       "        vertical-align: middle;\n",
       "    }\n",
       "\n",
       "    .dataframe tbody tr th {\n",
       "        vertical-align: top;\n",
       "    }\n",
       "\n",
       "    .dataframe thead th {\n",
       "        text-align: right;\n",
       "    }\n",
       "</style>\n",
       "<table border=\"1\" class=\"dataframe\">\n",
       "  <thead>\n",
       "    <tr style=\"text-align: right;\">\n",
       "      <th></th>\n",
       "      <th>PrevTxPub</th>\n",
       "      <th>PrevTxEng</th>\n",
       "      <th>PrevTxPri</th>\n",
       "      <th>DurTxPub</th>\n",
       "      <th>DurTxEng</th>\n",
       "      <th>DurTxPri</th>\n",
       "      <th>PrPri</th>\n",
       "      <th>PrPri0</th>\n",
       "      <th>PriVsPub</th>\n",
       "      <th>r_die_untx</th>\n",
       "      <th>r_sc</th>\n",
       "      <th>rr_die_asym</th>\n",
       "      <th>TxI_pri</th>\n",
       "      <th>dur_succ_pri</th>\n",
       "      <th>ppv_pri</th>\n",
       "      <th>det_pri</th>\n",
       "    </tr>\n",
       "    <tr>\n",
       "      <th>Key</th>\n",
       "      <th></th>\n",
       "      <th></th>\n",
       "      <th></th>\n",
       "      <th></th>\n",
       "      <th></th>\n",
       "      <th></th>\n",
       "      <th></th>\n",
       "      <th></th>\n",
       "      <th></th>\n",
       "      <th></th>\n",
       "      <th></th>\n",
       "      <th></th>\n",
       "      <th></th>\n",
       "      <th></th>\n",
       "      <th></th>\n",
       "      <th></th>\n",
       "    </tr>\n",
       "  </thead>\n",
       "  <tbody>\n",
       "    <tr>\n",
       "      <th>0</th>\n",
       "      <td>0.000634</td>\n",
       "      <td>0.000254</td>\n",
       "      <td>0.000627</td>\n",
       "      <td>0.451613</td>\n",
       "      <td>0.455128</td>\n",
       "      <td>0.171259</td>\n",
       "      <td>0.581603</td>\n",
       "      <td>0.286217</td>\n",
       "      <td>0.720980</td>\n",
       "      <td>0.179572</td>\n",
       "      <td>0.180899</td>\n",
       "      <td>0.838307</td>\n",
       "      <td>0.558912</td>\n",
       "      <td>0.194174</td>\n",
       "      <td>0.963546</td>\n",
       "      <td>0.006315</td>\n",
       "    </tr>\n",
       "    <tr>\n",
       "      <th>1</th>\n",
       "      <td>0.000634</td>\n",
       "      <td>0.000254</td>\n",
       "      <td>0.001467</td>\n",
       "      <td>0.451613</td>\n",
       "      <td>0.455128</td>\n",
       "      <td>0.334270</td>\n",
       "      <td>0.730717</td>\n",
       "      <td>0.286217</td>\n",
       "      <td>0.572097</td>\n",
       "      <td>0.153575</td>\n",
       "      <td>0.273532</td>\n",
       "      <td>0.391231</td>\n",
       "      <td>0.754858</td>\n",
       "      <td>0.378997</td>\n",
       "      <td>0.743864</td>\n",
       "      <td>0.004324</td>\n",
       "    </tr>\n",
       "    <tr>\n",
       "      <th>2</th>\n",
       "      <td>0.000634</td>\n",
       "      <td>0.000254</td>\n",
       "      <td>0.001512</td>\n",
       "      <td>0.451613</td>\n",
       "      <td>0.455128</td>\n",
       "      <td>0.314651</td>\n",
       "      <td>0.735817</td>\n",
       "      <td>0.286217</td>\n",
       "      <td>0.586679</td>\n",
       "      <td>0.179465</td>\n",
       "      <td>0.246342</td>\n",
       "      <td>0.862549</td>\n",
       "      <td>0.605582</td>\n",
       "      <td>0.356752</td>\n",
       "      <td>0.892698</td>\n",
       "      <td>0.007085</td>\n",
       "    </tr>\n",
       "    <tr>\n",
       "      <th>3</th>\n",
       "      <td>0.000634</td>\n",
       "      <td>0.000254</td>\n",
       "      <td>0.000827</td>\n",
       "      <td>0.451613</td>\n",
       "      <td>0.455128</td>\n",
       "      <td>0.442407</td>\n",
       "      <td>0.630376</td>\n",
       "      <td>0.286217</td>\n",
       "      <td>0.503170</td>\n",
       "      <td>0.160856</td>\n",
       "      <td>0.152391</td>\n",
       "      <td>0.982697</td>\n",
       "      <td>0.637622</td>\n",
       "      <td>0.501603</td>\n",
       "      <td>0.470212</td>\n",
       "      <td>0.001379</td>\n",
       "    </tr>\n",
       "    <tr>\n",
       "      <th>4</th>\n",
       "      <td>0.000634</td>\n",
       "      <td>0.000254</td>\n",
       "      <td>0.001261</td>\n",
       "      <td>0.451613</td>\n",
       "      <td>0.455128</td>\n",
       "      <td>0.423450</td>\n",
       "      <td>0.704924</td>\n",
       "      <td>0.286217</td>\n",
       "      <td>0.514027</td>\n",
       "      <td>0.147058</td>\n",
       "      <td>0.239466</td>\n",
       "      <td>0.686369</td>\n",
       "      <td>0.709996</td>\n",
       "      <td>0.480109</td>\n",
       "      <td>0.841945</td>\n",
       "      <td>0.003531</td>\n",
       "    </tr>\n",
       "    <tr>\n",
       "      <th>...</th>\n",
       "      <td>...</td>\n",
       "      <td>...</td>\n",
       "      <td>...</td>\n",
       "      <td>...</td>\n",
       "      <td>...</td>\n",
       "      <td>...</td>\n",
       "      <td>...</td>\n",
       "      <td>...</td>\n",
       "      <td>...</td>\n",
       "      <td>...</td>\n",
       "      <td>...</td>\n",
       "      <td>...</td>\n",
       "      <td>...</td>\n",
       "      <td>...</td>\n",
       "      <td>...</td>\n",
       "      <td>...</td>\n",
       "    </tr>\n",
       "    <tr>\n",
       "      <th>995</th>\n",
       "      <td>0.000634</td>\n",
       "      <td>0.000254</td>\n",
       "      <td>0.000447</td>\n",
       "      <td>0.451613</td>\n",
       "      <td>0.455128</td>\n",
       "      <td>0.634477</td>\n",
       "      <td>0.525271</td>\n",
       "      <td>0.286217</td>\n",
       "      <td>0.414474</td>\n",
       "      <td>0.150759</td>\n",
       "      <td>0.214106</td>\n",
       "      <td>0.247191</td>\n",
       "      <td>0.568191</td>\n",
       "      <td>0.719372</td>\n",
       "      <td>0.916516</td>\n",
       "      <td>0.001138</td>\n",
       "    </tr>\n",
       "    <tr>\n",
       "      <th>996</th>\n",
       "      <td>0.000634</td>\n",
       "      <td>0.000254</td>\n",
       "      <td>0.000501</td>\n",
       "      <td>0.451613</td>\n",
       "      <td>0.455128</td>\n",
       "      <td>0.260552</td>\n",
       "      <td>0.543654</td>\n",
       "      <td>0.286217</td>\n",
       "      <td>0.631026</td>\n",
       "      <td>0.146689</td>\n",
       "      <td>0.159024</td>\n",
       "      <td>0.110827</td>\n",
       "      <td>0.524289</td>\n",
       "      <td>0.295415</td>\n",
       "      <td>0.643358</td>\n",
       "      <td>0.002361</td>\n",
       "    </tr>\n",
       "    <tr>\n",
       "      <th>997</th>\n",
       "      <td>0.000634</td>\n",
       "      <td>0.000254</td>\n",
       "      <td>0.001363</td>\n",
       "      <td>0.451613</td>\n",
       "      <td>0.455128</td>\n",
       "      <td>0.190662</td>\n",
       "      <td>0.718252</td>\n",
       "      <td>0.286217</td>\n",
       "      <td>0.699318</td>\n",
       "      <td>0.165009</td>\n",
       "      <td>0.137688</td>\n",
       "      <td>0.848835</td>\n",
       "      <td>0.700540</td>\n",
       "      <td>0.216173</td>\n",
       "      <td>0.597195</td>\n",
       "      <td>0.006092</td>\n",
       "    </tr>\n",
       "    <tr>\n",
       "      <th>998</th>\n",
       "      <td>0.000634</td>\n",
       "      <td>0.000254</td>\n",
       "      <td>0.001199</td>\n",
       "      <td>0.451613</td>\n",
       "      <td>0.455128</td>\n",
       "      <td>0.494973</td>\n",
       "      <td>0.696150</td>\n",
       "      <td>0.286217</td>\n",
       "      <td>0.475331</td>\n",
       "      <td>0.178438</td>\n",
       "      <td>0.299878</td>\n",
       "      <td>0.096196</td>\n",
       "      <td>0.811287</td>\n",
       "      <td>0.561202</td>\n",
       "      <td>0.522662</td>\n",
       "      <td>0.001560</td>\n",
       "    </tr>\n",
       "    <tr>\n",
       "      <th>999</th>\n",
       "      <td>0.000634</td>\n",
       "      <td>0.000254</td>\n",
       "      <td>0.000789</td>\n",
       "      <td>0.451613</td>\n",
       "      <td>0.455128</td>\n",
       "      <td>0.220173</td>\n",
       "      <td>0.621970</td>\n",
       "      <td>0.286217</td>\n",
       "      <td>0.668758</td>\n",
       "      <td>0.179635</td>\n",
       "      <td>0.133753</td>\n",
       "      <td>0.796677</td>\n",
       "      <td>0.662199</td>\n",
       "      <td>0.249633</td>\n",
       "      <td>0.931213</td>\n",
       "      <td>0.005041</td>\n",
       "    </tr>\n",
       "  </tbody>\n",
       "</table>\n",
       "<p>1000 rows × 16 columns</p>\n",
       "</div>"
      ],
      "text/plain": [
       "     PrevTxPub  PrevTxEng  PrevTxPri  DurTxPub  DurTxEng  DurTxPri     PrPri  \\\n",
       "Key                                                                            \n",
       "0     0.000634   0.000254   0.000627  0.451613  0.455128  0.171259  0.581603   \n",
       "1     0.000634   0.000254   0.001467  0.451613  0.455128  0.334270  0.730717   \n",
       "2     0.000634   0.000254   0.001512  0.451613  0.455128  0.314651  0.735817   \n",
       "3     0.000634   0.000254   0.000827  0.451613  0.455128  0.442407  0.630376   \n",
       "4     0.000634   0.000254   0.001261  0.451613  0.455128  0.423450  0.704924   \n",
       "..         ...        ...        ...       ...       ...       ...       ...   \n",
       "995   0.000634   0.000254   0.000447  0.451613  0.455128  0.634477  0.525271   \n",
       "996   0.000634   0.000254   0.000501  0.451613  0.455128  0.260552  0.543654   \n",
       "997   0.000634   0.000254   0.001363  0.451613  0.455128  0.190662  0.718252   \n",
       "998   0.000634   0.000254   0.001199  0.451613  0.455128  0.494973  0.696150   \n",
       "999   0.000634   0.000254   0.000789  0.451613  0.455128  0.220173  0.621970   \n",
       "\n",
       "       PrPri0  PriVsPub  r_die_untx      r_sc  rr_die_asym   TxI_pri  \\\n",
       "Key                                                                    \n",
       "0    0.286217  0.720980    0.179572  0.180899     0.838307  0.558912   \n",
       "1    0.286217  0.572097    0.153575  0.273532     0.391231  0.754858   \n",
       "2    0.286217  0.586679    0.179465  0.246342     0.862549  0.605582   \n",
       "3    0.286217  0.503170    0.160856  0.152391     0.982697  0.637622   \n",
       "4    0.286217  0.514027    0.147058  0.239466     0.686369  0.709996   \n",
       "..        ...       ...         ...       ...          ...       ...   \n",
       "995  0.286217  0.414474    0.150759  0.214106     0.247191  0.568191   \n",
       "996  0.286217  0.631026    0.146689  0.159024     0.110827  0.524289   \n",
       "997  0.286217  0.699318    0.165009  0.137688     0.848835  0.700540   \n",
       "998  0.286217  0.475331    0.178438  0.299878     0.096196  0.811287   \n",
       "999  0.286217  0.668758    0.179635  0.133753     0.796677  0.662199   \n",
       "\n",
       "     dur_succ_pri   ppv_pri   det_pri  \n",
       "Key                                    \n",
       "0        0.194174  0.963546  0.006315  \n",
       "1        0.378997  0.743864  0.004324  \n",
       "2        0.356752  0.892698  0.007085  \n",
       "3        0.501603  0.470212  0.001379  \n",
       "4        0.480109  0.841945  0.003531  \n",
       "..            ...       ...       ...  \n",
       "995      0.719372  0.916516  0.001138  \n",
       "996      0.295415  0.643358  0.002361  \n",
       "997      0.216173  0.597195  0.006092  \n",
       "998      0.561202  0.522662  0.001560  \n",
       "999      0.249633  0.931213  0.005041  \n",
       "\n",
       "[1000 rows x 16 columns]"
      ]
     },
     "execution_count": 245,
     "metadata": {},
     "output_type": "execute_result"
    }
   ],
   "source": [
    "res"
   ]
  },
  {
   "cell_type": "code",
   "execution_count": 100,
   "id": "a586d90d",
   "metadata": {},
   "outputs": [],
   "source": [
    "#res.to_csv('out/dur.csv')"
   ]
  },
  {
   "cell_type": "code",
   "execution_count": 189,
   "id": "5f8ed5f7",
   "metadata": {},
   "outputs": [],
   "source": [
    "import matplotlib.pyplot as plt"
   ]
  },
  {
   "cell_type": "code",
   "execution_count": 263,
   "id": "d24fc6ca",
   "metadata": {},
   "outputs": [
    {
     "data": {
      "image/png": "[encoded data removed]",
      "text/plain": [
       "<Figure size 640x480 with 1 Axes>"
      ]
     },
     "metadata": {},
     "output_type": "display_data"
    }
   ],
   "source": [
    "plt.scatter(res.PriVsPub, res.PrPri)\n",
    "plt.show()"
   ]
  }
 ],
 "metadata": {
  "kernelspec": {
   "display_name": "Python 3",
   "language": "python",
   "name": "python3"
  },
  "language_info": {
   "codemirror_mode": {
    "name": "ipython",
    "version": 3
   },
   "file_extension": ".py",
   "mimetype": "text/x-python",
   "name": "python",
   "nbconvert_exporter": "python",
   "pygments_lexer": "ipython3",
   "version": "3.9.6"
  }
 },
 "nbformat": 4,
 "nbformat_minor": 5
}

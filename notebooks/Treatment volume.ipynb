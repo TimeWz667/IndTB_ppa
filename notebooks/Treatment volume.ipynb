{
 "cells": [
  {
   "cell_type": "code",
   "execution_count": 1,
   "id": "f997d086",
   "metadata": {},
   "outputs": [
    {
     "name": "stdout",
     "output_type": "stream",
     "text": [
      "D:\\Projects\\IndiaTB\\IndTB_ppa\n"
     ]
    },
    {
     "data": {
      "text/plain": [
       "'D:\\\\Projects\\\\IndiaTB\\\\IndTB_ppa'"
      ]
     },
     "execution_count": 1,
     "metadata": {},
     "output_type": "execute_result"
    }
   ],
   "source": [
    "%cd ../\n",
    "%pwd"
   ]
  },
  {
   "cell_type": "code",
   "execution_count": 14,
   "id": "11692833",
   "metadata": {},
   "outputs": [],
   "source": [
    "import json\n",
    "from ppa import Cascade\n",
    "import numpy as np\n",
    "import pandas as pd"
   ]
  },
  {
   "cell_type": "code",
   "execution_count": 13,
   "id": "5dff48dd",
   "metadata": {},
   "outputs": [],
   "source": [
    "locs = ['India', 'Delhi', 'Uttar Pradesh', 'Kerala']"
   ]
  },
  {
   "cell_type": "code",
   "execution_count": 24,
   "id": "c45b3fc7",
   "metadata": {},
   "outputs": [],
   "source": [
    "mss = list()\n",
    "\n",
    "\n",
    "for loc in locs:\n",
    "    with open(f'out/cascade_2019/Cascade_{loc}.json', 'r') as f:\n",
    "        cs = json.load(f)\n",
    "    \n",
    "    for i, c in enumerate(cs):\n",
    "        cas = Cascade.parse_obj(c)\n",
    "        cas.revive()\n",
    "        \n",
    "        dur = 1 / (cas.R_Succ_Tx + cas.R_Die_Tx + cas.R_LTFU_Tx)\n",
    "\n",
    "        ms = {\n",
    "            'Key': i,\n",
    "            'Location': loc,\n",
    "            'PPV_Pri': cas.PPV[2],\n",
    "            'TxI_Pri': cas.P_TxI[2],\n",
    "            'DurTx_Pri': dur[2],\n",
    "            'TxTime_Pub': cas.PrevTx[0],\n",
    "            'TxTime_Eng': cas.PrevTx[1],\n",
    "            'TxTime_Pri': cas.PrevTx[2],\n",
    "            'PriPub': cas.PrevTx[1:].sum() / cas.PrevTx[0]\n",
    "        }\n",
    "        \n",
    "        mss.append(ms)\n",
    "        \n",
    "mss = pd.DataFrame(mss)"
   ]
  },
  {
   "cell_type": "code",
   "execution_count": 25,
   "id": "ddc64f59",
   "metadata": {},
   "outputs": [
    {
     "data": {
      "text/plain": [
       "array([0.98      , 0.95      , 0.65430401])"
      ]
     },
     "execution_count": 25,
     "metadata": {},
     "output_type": "execute_result"
    }
   ],
   "source": [
    "cas.P_TxI"
   ]
  },
  {
   "cell_type": "code",
   "execution_count": 26,
   "id": "0fe3987b",
   "metadata": {},
   "outputs": [],
   "source": [
    "mss.to_csv('out/cascade_2019/ToMatchDS.csv')"
   ]
  }
 ],
 "metadata": {
  "kernelspec": {
   "display_name": "Python 3",
   "language": "python",
   "name": "python3"
  },
  "language_info": {
   "codemirror_mode": {
    "name": "ipython",
    "version": 3
   },
   "file_extension": ".py",
   "mimetype": "text/x-python",
   "name": "python",
   "nbconvert_exporter": "python",
   "pygments_lexer": "ipython3",
   "version": "3.9.5"
  }
 },
 "nbformat": 4,
 "nbformat_minor": 5
}

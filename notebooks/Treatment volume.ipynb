{
 "cells": [
  {
   "cell_type": "code",
   "execution_count": 1,
   "id": "f997d086",
   "metadata": {},
   "outputs": [
    {
     "name": "stdout",
     "output_type": "stream",
     "text": [
      "D:\\Projects\\IndiaTB\\IndTB_ppa\n"
     ]
    },
    {
     "data": {
      "text/plain": [
       "'D:\\\\Projects\\\\IndiaTB\\\\IndTB_ppa'"
      ]
     },
     "execution_count": 1,
     "metadata": {},
     "output_type": "execute_result"
    }
   ],
   "source": [
    "%cd ../\n",
    "%pwd"
   ]
  },
  {
   "cell_type": "code",
   "execution_count": 2,
   "id": "11692833",
   "metadata": {},
   "outputs": [],
   "source": [
    "import pandas as pd\n",
    "import numpy as np\n",
    "from ppa.rates import *\n",
    "from ppa.shifting import *\n",
    "import matplotlib.pyplot as plt\n",
    "import sims_pars as spr\n",
    "from sims_pars.fitting import ApproxBayesComSMC\n",
    "from scipy.optimize import minimize\n",
    "from scipy import linalg"
   ]
  },
  {
   "cell_type": "code",
   "execution_count": 3,
   "id": "865aad5d",
   "metadata": {},
   "outputs": [
    {
     "name": "stdout",
     "output_type": "stream",
     "text": [
      "R_Succ_Tx [2.         2.         1.33771156]\n",
      "R_LTFU_Tx [0.11764706 0.04878049 0.04894067]\n",
      "R_Die_Tx [0.11764706 0.02439024 0.01631356]\n",
      "R_SelfCure 0.23553772354623928\n",
      "R_Die_Asym 0.156043448206434\n",
      "R_Die_Sym 0.17727552225386958\n",
      "R_Onset 4.490479964509301\n",
      "R_Aware 4.466703692592948\n",
      "R_CSI 42.09923505651007\n",
      "R_Det 9.109632778886672\n",
      "PPV [0.85       0.85       0.54289344]\n"
     ]
    }
   ],
   "source": [
    "bn = get_prior()\n",
    "\n",
    "dat = pd.read_csv('data/cascade/d_cascade_2019.csv').set_index('State')\n",
    "dat = {i: row.to_dict() for i, row in dat.iterrows()}\n",
    "dat = dat['Tamil Nadu']\n",
    "\n",
    "p0 = spr.sample(bn)\n",
    "\n",
    "cas = Rates(dat, p0)\n",
    "\n",
    "for k, v in cas.to_json().items():\n",
    "    print(k, v)"
   ]
  },
  {
   "cell_type": "code",
   "execution_count": 4,
   "id": "4562d2d2",
   "metadata": {},
   "outputs": [],
   "source": [
    "alg = ApproxBayesComSMC(max_round=40, n_collect=200, n_core=4, verbose=8)"
   ]
  },
  {
   "cell_type": "code",
   "execution_count": 5,
   "id": "fd432d48",
   "metadata": {},
   "outputs": [
    {
     "name": "stderr",
     "output_type": "stream",
     "text": [
      "02-06-2022 17:21:24 INFO: Initialising\n",
      "[Parallel(n_jobs=4)]: Using backend LokyBackend with 4 concurrent workers.\n",
      "[Parallel(n_jobs=4)]: Done  10 tasks      | elapsed:    1.9s\n",
      "[Parallel(n_jobs=4)]: Done  38 tasks      | elapsed:    2.0s\n",
      "[Parallel(n_jobs=4)]: Done 152 tasks      | elapsed:    2.5s\n",
      "[Parallel(n_jobs=4)]: Done 193 tasks      | elapsed:    2.6s\n",
      "[Parallel(n_jobs=4)]: Done 200 out of 200 | elapsed:    2.6s finished\n",
      "02-06-2022 17:21:28 INFO: Step to 1\n",
      "02-06-2022 17:21:28 INFO: Round 0, ESS 200.00\n",
      "[Parallel(n_jobs=4)]: Using backend LokyBackend with 4 concurrent workers.\n",
      "[Parallel(n_jobs=4)]: Done  13 tasks      | elapsed:    0.1s\n",
      "[Parallel(n_jobs=4)]: Done 128 tasks      | elapsed:    1.6s\n",
      "[Parallel(n_jobs=4)]: Done 200 out of 200 | elapsed:    2.1s finished\n",
      "02-06-2022 17:21:31 INFO: Step to 2\n",
      "02-06-2022 17:21:31 INFO: Round 1, ESS 180, Epsilon 10.1922, Acceptance 90.5%\n",
      "[Parallel(n_jobs=4)]: Using backend LokyBackend with 4 concurrent workers.\n",
      "[Parallel(n_jobs=4)]: Done  12 tasks      | elapsed:    0.0s\n",
      "[Parallel(n_jobs=4)]: Done 128 tasks      | elapsed:    0.8s\n",
      "[Parallel(n_jobs=4)]: Done 200 out of 200 | elapsed:    1.3s finished\n",
      "02-06-2022 17:21:34 INFO: Step to 3\n",
      "02-06-2022 17:21:34 INFO: Round 2, ESS 163, Epsilon 2.7672, Acceptance 81.0%\n",
      "[Parallel(n_jobs=4)]: Using backend LokyBackend with 4 concurrent workers.\n",
      "[Parallel(n_jobs=4)]: Done  13 tasks      | elapsed:    0.0s\n",
      "[Parallel(n_jobs=4)]: Done 128 tasks      | elapsed:    0.8s\n",
      "[Parallel(n_jobs=4)]: Done 200 out of 200 | elapsed:    1.3s finished\n",
      "02-06-2022 17:21:36 INFO: Step to 4\n",
      "02-06-2022 17:21:36 INFO: Round 3, ESS 146, Epsilon 0.2988, Acceptance 72.0%\n",
      "[Parallel(n_jobs=4)]: Using backend LokyBackend with 4 concurrent workers.\n",
      "[Parallel(n_jobs=4)]: Done  13 tasks      | elapsed:    0.0s\n",
      "[Parallel(n_jobs=4)]: Done 128 tasks      | elapsed:    1.1s\n",
      "[Parallel(n_jobs=4)]: Done 200 out of 200 | elapsed:    1.6s finished\n",
      "02-06-2022 17:21:39 INFO: Step to 5\n",
      "02-06-2022 17:21:39 INFO: Round 4, ESS 137, Epsilon -1.4735, Acceptance 79.5%\n",
      "[Parallel(n_jobs=4)]: Using backend LokyBackend with 4 concurrent workers.\n",
      "[Parallel(n_jobs=4)]: Done  12 tasks      | elapsed:    0.0s\n",
      "[Parallel(n_jobs=4)]: Done 128 tasks      | elapsed:    0.9s\n",
      "[Parallel(n_jobs=4)]: Done 200 out of 200 | elapsed:    1.6s finished\n",
      "02-06-2022 17:21:42 INFO: Step to 6\n",
      "02-06-2022 17:21:42 INFO: Round 5, ESS 126, Epsilon -3.1909, Acceptance 69.5%\n",
      "[Parallel(n_jobs=4)]: Using backend LokyBackend with 4 concurrent workers.\n",
      "[Parallel(n_jobs=4)]: Done  12 tasks      | elapsed:    0.0s\n",
      "[Parallel(n_jobs=4)]: Done 128 tasks      | elapsed:    1.0s\n",
      "[Parallel(n_jobs=4)]: Done 200 out of 200 | elapsed:    1.6s finished\n",
      "02-06-2022 17:21:45 INFO: Step to 7\n",
      "02-06-2022 17:21:45 INFO: Round 6, ESS 200, Epsilon -3.8349, Acceptance 79.5%\n",
      "[Parallel(n_jobs=4)]: Using backend LokyBackend with 4 concurrent workers.\n",
      "[Parallel(n_jobs=4)]: Done  12 tasks      | elapsed:    0.1s\n",
      "[Parallel(n_jobs=4)]: Done 128 tasks      | elapsed:    1.1s\n",
      "[Parallel(n_jobs=4)]: Done 200 out of 200 | elapsed:    1.6s finished\n",
      "02-06-2022 17:21:47 INFO: Step to 8\n",
      "02-06-2022 17:21:47 INFO: Round 7, ESS 180, Epsilon -4.3791, Acceptance 73.0%\n",
      "[Parallel(n_jobs=4)]: Using backend LokyBackend with 4 concurrent workers.\n",
      "[Parallel(n_jobs=4)]: Done  12 tasks      | elapsed:    0.0s\n",
      "[Parallel(n_jobs=4)]: Done 128 tasks      | elapsed:    1.1s\n",
      "[Parallel(n_jobs=4)]: Done 200 out of 200 | elapsed:    2.0s finished\n",
      "02-06-2022 17:21:51 INFO: Step to 9\n",
      "02-06-2022 17:21:51 INFO: Round 8, ESS 162, Epsilon -4.7885, Acceptance 71.5%\n",
      "[Parallel(n_jobs=4)]: Using backend LokyBackend with 4 concurrent workers.\n",
      "[Parallel(n_jobs=4)]: Done  12 tasks      | elapsed:    0.1s\n",
      "[Parallel(n_jobs=4)]: Done 128 tasks      | elapsed:    0.9s\n",
      "[Parallel(n_jobs=4)]: Done 200 out of 200 | elapsed:    1.6s finished\n",
      "02-06-2022 17:21:53 INFO: Step to 10\n",
      "02-06-2022 17:21:53 INFO: Round 9, ESS 143, Epsilon -5.0413, Acceptance 63.0%\n",
      "[Parallel(n_jobs=4)]: Using backend LokyBackend with 4 concurrent workers.\n",
      "[Parallel(n_jobs=4)]: Done  13 tasks      | elapsed:    0.1s\n",
      "[Parallel(n_jobs=4)]: Done 128 tasks      | elapsed:    1.2s\n",
      "[Parallel(n_jobs=4)]: Done 200 out of 200 | elapsed:    1.8s finished\n",
      "02-06-2022 17:21:57 INFO: Step to 11\n",
      "02-06-2022 17:21:57 INFO: Round 10, ESS 128, Epsilon -5.2132, Acceptance 65.0%\n",
      "[Parallel(n_jobs=4)]: Using backend LokyBackend with 4 concurrent workers.\n",
      "[Parallel(n_jobs=4)]: Done  12 tasks      | elapsed:    0.0s\n",
      "[Parallel(n_jobs=4)]: Done 128 tasks      | elapsed:    1.1s\n",
      "[Parallel(n_jobs=4)]: Done 200 out of 200 | elapsed:    2.0s finished\n",
      "02-06-2022 17:22:00 INFO: Step to 12\n",
      "02-06-2022 17:22:00 INFO: Round 11, ESS 200, Epsilon -5.3764, Acceptance 67.5%\n",
      "[Parallel(n_jobs=4)]: Using backend LokyBackend with 4 concurrent workers.\n",
      "[Parallel(n_jobs=4)]: Done  12 tasks      | elapsed:    0.1s\n",
      "[Parallel(n_jobs=4)]: Done  92 tasks      | elapsed:    1.1s\n",
      "[Parallel(n_jobs=4)]: Done 200 out of 200 | elapsed:    2.1s finished\n",
      "02-06-2022 17:22:03 INFO: Step to 13\n",
      "02-06-2022 17:22:03 INFO: Round 12, ESS 180, Epsilon -5.5556, Acceptance 66.0%\n",
      "[Parallel(n_jobs=4)]: Using backend LokyBackend with 4 concurrent workers.\n",
      "[Parallel(n_jobs=4)]: Done  12 tasks      | elapsed:    0.2s\n",
      "[Parallel(n_jobs=4)]: Done  92 tasks      | elapsed:    1.0s\n",
      "[Parallel(n_jobs=4)]: Done 200 out of 200 | elapsed:    2.3s finished\n",
      "02-06-2022 17:22:07 INFO: Step to 14\n",
      "02-06-2022 17:22:07 INFO: Round 13, ESS 162, Epsilon -5.6446, Acceptance 67.5%\n",
      "[Parallel(n_jobs=4)]: Using backend LokyBackend with 4 concurrent workers.\n",
      "[Parallel(n_jobs=4)]: Done  12 tasks      | elapsed:    0.0s\n",
      "[Parallel(n_jobs=4)]: Done 128 tasks      | elapsed:    1.0s\n",
      "[Parallel(n_jobs=4)]: Done 200 out of 200 | elapsed:    1.6s finished\n",
      "02-06-2022 17:22:10 INFO: Step to 15\n",
      "02-06-2022 17:22:10 INFO: Round 14, ESS 148, Epsilon -5.7033, Acceptance 59.0%\n",
      "[Parallel(n_jobs=4)]: Using backend LokyBackend with 4 concurrent workers.\n",
      "[Parallel(n_jobs=4)]: Done  12 tasks      | elapsed:    0.0s\n",
      "[Parallel(n_jobs=4)]: Done 128 tasks      | elapsed:    0.7s\n",
      "[Parallel(n_jobs=4)]: Done 200 out of 200 | elapsed:    1.2s finished\n",
      "02-06-2022 17:22:12 INFO: Step to 16\n",
      "02-06-2022 17:22:12 INFO: Round 15, ESS 131, Epsilon -5.7540, Acceptance 59.0%\n",
      "[Parallel(n_jobs=4)]: Using backend LokyBackend with 4 concurrent workers.\n",
      "[Parallel(n_jobs=4)]: Done  13 tasks      | elapsed:    0.1s\n",
      "[Parallel(n_jobs=4)]: Done 136 tasks      | elapsed:    1.3s\n",
      "[Parallel(n_jobs=4)]: Done 200 out of 200 | elapsed:    1.5s finished\n",
      "02-06-2022 17:22:14 INFO: Step to 17\n",
      "02-06-2022 17:22:14 INFO: Round 16, ESS 200, Epsilon -5.7785, Acceptance 65.5%\n",
      "[Parallel(n_jobs=4)]: Using backend LokyBackend with 4 concurrent workers.\n",
      "[Parallel(n_jobs=4)]: Done  12 tasks      | elapsed:    0.0s\n",
      "[Parallel(n_jobs=4)]: Done 136 tasks      | elapsed:    1.2s\n",
      "[Parallel(n_jobs=4)]: Done 200 out of 200 | elapsed:    1.7s finished\n",
      "02-06-2022 17:22:17 INFO: Step to 18\n",
      "02-06-2022 17:22:17 INFO: Round 17, ESS 180, Epsilon -5.8196, Acceptance 66.5%\n",
      "[Parallel(n_jobs=4)]: Using backend LokyBackend with 4 concurrent workers.\n",
      "[Parallel(n_jobs=4)]: Done  12 tasks      | elapsed:    0.0s\n",
      "[Parallel(n_jobs=4)]: Done 128 tasks      | elapsed:    0.9s\n",
      "[Parallel(n_jobs=4)]: Done 200 out of 200 | elapsed:    1.5s finished\n",
      "02-06-2022 17:22:20 INFO: Step to 19\n",
      "02-06-2022 17:22:20 INFO: Round 18, ESS 161, Epsilon -5.8379, Acceptance 64.0%\n",
      "[Parallel(n_jobs=4)]: Using backend LokyBackend with 4 concurrent workers.\n",
      "[Parallel(n_jobs=4)]: Done  12 tasks      | elapsed:    0.1s\n",
      "[Parallel(n_jobs=4)]: Done 128 tasks      | elapsed:    0.9s\n",
      "[Parallel(n_jobs=4)]: Done 200 out of 200 | elapsed:    1.4s finished\n",
      "02-06-2022 17:22:22 INFO: Step to 20\n",
      "02-06-2022 17:22:22 INFO: Round 19, ESS 143, Epsilon -5.8484, Acceptance 57.0%\n",
      "[Parallel(n_jobs=4)]: Using backend LokyBackend with 4 concurrent workers.\n",
      "[Parallel(n_jobs=4)]: Done  12 tasks      | elapsed:    0.1s\n",
      "[Parallel(n_jobs=4)]: Done 128 tasks      | elapsed:    1.0s\n",
      "[Parallel(n_jobs=4)]: Done 200 out of 200 | elapsed:    1.4s finished\n",
      "02-06-2022 17:22:25 INFO: Step to 21\n",
      "02-06-2022 17:22:25 INFO: Round 20, ESS 132, Epsilon -5.8571, Acceptance 51.0%\n",
      "[Parallel(n_jobs=4)]: Using backend LokyBackend with 4 concurrent workers.\n",
      "[Parallel(n_jobs=4)]: Done  12 tasks      | elapsed:    0.1s\n"
     ]
    },
    {
     "name": "stderr",
     "output_type": "stream",
     "text": [
      "[Parallel(n_jobs=4)]: Done 128 tasks      | elapsed:    0.8s\n",
      "[Parallel(n_jobs=4)]: Done 200 out of 200 | elapsed:    1.4s finished\n",
      "02-06-2022 17:22:27 INFO: Step to 22\n",
      "02-06-2022 17:22:27 INFO: Round 21, ESS 200, Epsilon -5.8644, Acceptance 52.0%\n",
      "[Parallel(n_jobs=4)]: Using backend LokyBackend with 4 concurrent workers.\n",
      "[Parallel(n_jobs=4)]: Done  12 tasks      | elapsed:    0.0s\n",
      "[Parallel(n_jobs=4)]: Done 128 tasks      | elapsed:    0.9s\n",
      "[Parallel(n_jobs=4)]: Done 200 out of 200 | elapsed:    1.6s finished\n",
      "02-06-2022 17:22:30 INFO: Step to 23\n",
      "02-06-2022 17:22:30 INFO: Round 22, ESS 180, Epsilon -5.8672, Acceptance 43.5%\n",
      "[Parallel(n_jobs=4)]: Using backend LokyBackend with 4 concurrent workers.\n",
      "[Parallel(n_jobs=4)]: Done  12 tasks      | elapsed:    0.0s\n",
      "[Parallel(n_jobs=4)]: Done 128 tasks      | elapsed:    0.9s\n",
      "[Parallel(n_jobs=4)]: Done 200 out of 200 | elapsed:    1.4s finished\n",
      "02-06-2022 17:22:33 INFO: Step to 24\n",
      "02-06-2022 17:22:33 INFO: Round 23, ESS 161, Epsilon -5.8711, Acceptance 39.5%\n",
      "[Parallel(n_jobs=4)]: Using backend LokyBackend with 4 concurrent workers.\n",
      "[Parallel(n_jobs=4)]: Done  12 tasks      | elapsed:    0.0s\n",
      "[Parallel(n_jobs=4)]: Done 128 tasks      | elapsed:    0.8s\n",
      "[Parallel(n_jobs=4)]: Done 200 out of 200 | elapsed:    1.3s finished\n",
      "02-06-2022 17:22:35 INFO: Step to 25\n",
      "02-06-2022 17:22:35 INFO: Round 24, ESS 145, Epsilon -5.8743, Acceptance 41.0%\n",
      "[Parallel(n_jobs=4)]: Using backend LokyBackend with 4 concurrent workers.\n",
      "[Parallel(n_jobs=4)]: Done  12 tasks      | elapsed:    0.0s\n",
      "[Parallel(n_jobs=4)]: Done 128 tasks      | elapsed:    0.9s\n",
      "[Parallel(n_jobs=4)]: Done 200 out of 200 | elapsed:    1.4s finished\n",
      "02-06-2022 17:22:38 INFO: Step to 26\n",
      "02-06-2022 17:22:38 INFO: Round 25, ESS 130, Epsilon -5.8760, Acceptance 46.0%\n",
      "[Parallel(n_jobs=4)]: Using backend LokyBackend with 4 concurrent workers.\n",
      "[Parallel(n_jobs=4)]: Done  12 tasks      | elapsed:    0.1s\n",
      "[Parallel(n_jobs=4)]: Done 128 tasks      | elapsed:    0.7s\n",
      "[Parallel(n_jobs=4)]: Done 200 out of 200 | elapsed:    1.2s finished\n",
      "02-06-2022 17:22:40 INFO: Step to 27\n",
      "02-06-2022 17:22:40 INFO: Round 26, ESS 200, Epsilon -5.8781, Acceptance 29.0%\n",
      "[Parallel(n_jobs=4)]: Using backend LokyBackend with 4 concurrent workers.\n",
      "[Parallel(n_jobs=4)]: Done  12 tasks      | elapsed:    0.0s\n",
      "[Parallel(n_jobs=4)]: Done 128 tasks      | elapsed:    0.7s\n",
      "[Parallel(n_jobs=4)]: Done 200 out of 200 | elapsed:    1.3s finished\n",
      "02-06-2022 17:22:42 INFO: Step to 28\n",
      "02-06-2022 17:22:42 INFO: Round 27, ESS 180, Epsilon -5.8794, Acceptance 32.5%\n",
      "[Parallel(n_jobs=4)]: Using backend LokyBackend with 4 concurrent workers.\n",
      "[Parallel(n_jobs=4)]: Done  12 tasks      | elapsed:    0.0s\n",
      "[Parallel(n_jobs=4)]: Done 128 tasks      | elapsed:    0.9s\n",
      "[Parallel(n_jobs=4)]: Done 200 out of 200 | elapsed:    1.4s finished\n",
      "02-06-2022 17:22:45 INFO: Step to 29\n",
      "02-06-2022 17:22:45 INFO: Round 28, ESS 161, Epsilon -5.8812, Acceptance 33.0%\n",
      "[Parallel(n_jobs=4)]: Using backend LokyBackend with 4 concurrent workers.\n",
      "[Parallel(n_jobs=4)]: Done  13 tasks      | elapsed:    0.0s\n",
      "[Parallel(n_jobs=4)]: Done 128 tasks      | elapsed:    0.7s\n",
      "[Parallel(n_jobs=4)]: Done 200 out of 200 | elapsed:    1.1s finished\n",
      "02-06-2022 17:22:47 INFO: Step to 30\n",
      "02-06-2022 17:22:47 INFO: Round 29, ESS 143, Epsilon -5.8827, Acceptance 32.0%\n",
      "[Parallel(n_jobs=4)]: Using backend LokyBackend with 4 concurrent workers.\n",
      "[Parallel(n_jobs=4)]: Done  12 tasks      | elapsed:    0.0s\n",
      "[Parallel(n_jobs=4)]: Done 128 tasks      | elapsed:    0.8s\n",
      "[Parallel(n_jobs=4)]: Done 200 out of 200 | elapsed:    1.3s finished\n",
      "02-06-2022 17:22:49 INFO: Step to 31\n",
      "02-06-2022 17:22:49 INFO: Round 30, ESS 128, Epsilon -5.8836, Acceptance 32.0%\n",
      "[Parallel(n_jobs=4)]: Using backend LokyBackend with 4 concurrent workers.\n",
      "[Parallel(n_jobs=4)]: Done  12 tasks      | elapsed:    0.0s\n",
      "[Parallel(n_jobs=4)]: Done 128 tasks      | elapsed:    1.0s\n",
      "[Parallel(n_jobs=4)]: Done 200 out of 200 | elapsed:    1.6s finished\n",
      "02-06-2022 17:22:52 INFO: Step to 32\n",
      "02-06-2022 17:22:52 INFO: Round 31, ESS 200, Epsilon -5.8844, Acceptance 25.5%\n",
      "[Parallel(n_jobs=4)]: Using backend LokyBackend with 4 concurrent workers.\n",
      "[Parallel(n_jobs=4)]: Done  12 tasks      | elapsed:    0.0s\n",
      "[Parallel(n_jobs=4)]: Done 136 tasks      | elapsed:    1.1s\n",
      "[Parallel(n_jobs=4)]: Done 200 out of 200 | elapsed:    1.4s finished\n",
      "02-06-2022 17:22:54 INFO: Step to 33\n",
      "02-06-2022 17:22:54 INFO: Round 32, ESS 180, Epsilon -5.8857, Acceptance 21.0%\n",
      "[Parallel(n_jobs=4)]: Using backend LokyBackend with 4 concurrent workers.\n",
      "[Parallel(n_jobs=4)]: Done  12 tasks      | elapsed:    0.0s\n",
      "[Parallel(n_jobs=4)]: Done 136 tasks      | elapsed:    1.1s\n",
      "[Parallel(n_jobs=4)]: Done 167 out of 200 | elapsed:    1.4s remaining:    0.2s\n",
      "[Parallel(n_jobs=4)]: Done 200 out of 200 | elapsed:    1.6s finished\n",
      "02-06-2022 17:22:57 INFO: Step to 34\n",
      "02-06-2022 17:22:57 INFO: Round 33, ESS 161, Epsilon -5.8867, Acceptance 22.5%\n",
      "[Parallel(n_jobs=4)]: Using backend LokyBackend with 4 concurrent workers.\n",
      "[Parallel(n_jobs=4)]: Done  12 tasks      | elapsed:    0.0s\n",
      "[Parallel(n_jobs=4)]: Done 136 tasks      | elapsed:    0.9s\n",
      "[Parallel(n_jobs=4)]: Done 167 out of 200 | elapsed:    1.2s remaining:    0.2s\n",
      "[Parallel(n_jobs=4)]: Done 200 out of 200 | elapsed:    1.3s finished\n",
      "02-06-2022 17:22:59 INFO: Step to 35\n",
      "02-06-2022 17:22:59 INFO: Round 34, ESS 145, Epsilon -5.8870, Acceptance 18.5%\n",
      "[Parallel(n_jobs=4)]: Using backend LokyBackend with 4 concurrent workers.\n",
      "[Parallel(n_jobs=4)]: Done  12 tasks      | elapsed:    0.1s\n",
      "[Parallel(n_jobs=4)]: Done 128 tasks      | elapsed:    1.0s\n",
      "[Parallel(n_jobs=4)]: Done 200 out of 200 | elapsed:    1.4s finished\n",
      "02-06-2022 17:23:02 INFO: Step to 36\n",
      "02-06-2022 17:23:02 INFO: Round 35, ESS 130, Epsilon -5.8876, Acceptance 17.0%\n",
      "[Parallel(n_jobs=4)]: Using backend LokyBackend with 4 concurrent workers.\n",
      "[Parallel(n_jobs=4)]: Done  12 tasks      | elapsed:    0.0s\n",
      "[Parallel(n_jobs=4)]: Done 128 tasks      | elapsed:    0.9s\n",
      "[Parallel(n_jobs=4)]: Done 200 out of 200 | elapsed:    1.4s finished\n",
      "02-06-2022 17:23:04 INFO: Step to 37\n",
      "02-06-2022 17:23:04 INFO: Round 36, ESS 200, Epsilon -5.8881, Acceptance 11.0%\n",
      "[Parallel(n_jobs=4)]: Using backend LokyBackend with 4 concurrent workers.\n",
      "[Parallel(n_jobs=4)]: Done  12 tasks      | elapsed:    0.0s\n",
      "[Parallel(n_jobs=4)]: Done 128 tasks      | elapsed:    0.8s\n",
      "[Parallel(n_jobs=4)]: Done 200 out of 200 | elapsed:    1.5s finished\n",
      "02-06-2022 17:23:07 INFO: Step to 38\n",
      "02-06-2022 17:23:07 INFO: Round 37, ESS 180, Epsilon -5.8886, Acceptance 10.5%\n",
      "[Parallel(n_jobs=4)]: Using backend LokyBackend with 4 concurrent workers.\n",
      "[Parallel(n_jobs=4)]: Done  13 tasks      | elapsed:    0.0s\n",
      "[Parallel(n_jobs=4)]: Done 128 tasks      | elapsed:    0.8s\n",
      "[Parallel(n_jobs=4)]: Done 200 out of 200 | elapsed:    1.3s finished\n",
      "02-06-2022 17:23:09 INFO: Step to 39\n",
      "02-06-2022 17:23:09 INFO: Round 38, ESS 161, Epsilon -5.8890, Acceptance 8.5%\n",
      "[Parallel(n_jobs=4)]: Using backend LokyBackend with 4 concurrent workers.\n",
      "[Parallel(n_jobs=4)]: Done  12 tasks      | elapsed:    0.0s\n",
      "[Parallel(n_jobs=4)]: Done 128 tasks      | elapsed:    0.8s\n",
      "[Parallel(n_jobs=4)]: Done 200 out of 200 | elapsed:    1.4s finished\n",
      "02-06-2022 17:23:12 INFO: Step to 40\n",
      "02-06-2022 17:23:12 INFO: Round 39, ESS 146, Epsilon -5.8894, Acceptance 7.0%\n",
      "[Parallel(n_jobs=4)]: Using backend LokyBackend with 4 concurrent workers.\n",
      "[Parallel(n_jobs=4)]: Done  12 tasks      | elapsed:    0.1s\n",
      "[Parallel(n_jobs=4)]: Done 128 tasks      | elapsed:    1.0s\n",
      "[Parallel(n_jobs=4)]: Done 200 out of 200 | elapsed:    1.6s finished\n",
      "02-06-2022 17:23:15 INFO: Step to 41\n",
      "02-06-2022 17:23:15 INFO: Round 40, ESS 133, Epsilon -5.8898, Acceptance 10.5%\n",
      "02-06-2022 17:23:15 INFO: Collecting posteriors\n"
     ]
    }
   ],
   "source": [
    "obj = ObjRates(dat)\n",
    "\n",
    "alg.fit(obj)"
   ]
  },
  {
   "cell_type": "code",
   "execution_count": 6,
   "id": "0e044c1a",
   "metadata": {},
   "outputs": [],
   "source": [
    "post = alg.Collector\n",
    "p = dict(post.ParameterList[0])\n",
    "ms = [Rates(dat, dict(p)) for p in post.ParameterList]"
   ]
  },
  {
   "cell_type": "code",
   "execution_count": 7,
   "id": "ad7a94ed",
   "metadata": {},
   "outputs": [
    {
     "data": {
      "text/plain": [
       "(array([ 9., 13., 26., 20., 33., 25., 19., 25., 22.,  8.]),\n",
       " array([8.01521886e-05, 1.07425893e-04, 1.34699598e-04, 1.61973303e-04,\n",
       "        1.89247008e-04, 2.16520712e-04, 2.43794417e-04, 2.71068122e-04,\n",
       "        2.98341827e-04, 3.25615531e-04, 3.52889236e-04]),\n",
       " <BarContainer object of 10 artists>)"
      ]
     },
     "execution_count": 7,
     "metadata": {},
     "output_type": "execute_result"
    },
    {
     "data": {
      "image/png": "[encoded data removed]",
      "text/plain": [
       "<Figure size 432x288 with 1 Axes>"
      ]
     },
     "metadata": {
      "needs_background": "light"
     },
     "output_type": "display_data"
    }
   ],
   "source": [
    "plt.hist([m.PrevTx[2] for m in ms])"
   ]
  },
  {
   "cell_type": "code",
   "execution_count": 8,
   "id": "be9e7df6",
   "metadata": {},
   "outputs": [],
   "source": []
  },
  {
   "cell_type": "code",
   "execution_count": 36,
   "id": "694f1155",
   "metadata": {},
   "outputs": [],
   "source": []
  },
  {
   "cell_type": "code",
   "execution_count": 40,
   "id": "af91b61c",
   "metadata": {},
   "outputs": [
    {
     "data": {
      "text/plain": [
       "array([0.07843137, 0.07843137, 0.05609835])"
      ]
     },
     "execution_count": 40,
     "metadata": {},
     "output_type": "execute_result"
    }
   ],
   "source": [
    "shf = find_shifting(src, dat['Pr_Pub_CSI'], cas.DetR / cas.DetR.sum())\n",
    "\n",
    "shf.P_Dx0"
   ]
  },
  {
   "cell_type": "code",
   "execution_count": 10,
   "id": "54756cf1",
   "metadata": {},
   "outputs": [],
   "source": [
    "valid = []\n",
    "\n",
    "for cas in ms:\n",
    "    ex_det = cas.DetR\n",
    "    ex_det = ex_det / ex_det.sum()\n",
    "    ex_vis = 2.75\n",
    " \n",
    "    opt = minimize(fn, x0 = x0, args = (shf, ex_det, ex_vis, ), method='SLSQP', bounds=bds)\n",
    "\n",
    "    if opt.x[1] < 1:\n",
    "        valid.append((cas, opt.x))\n"
   ]
  },
  {
   "cell_type": "code",
   "execution_count": 11,
   "id": "ac85c8fe",
   "metadata": {},
   "outputs": [
    {
     "data": {
      "text/plain": [
       "142"
      ]
     },
     "execution_count": 11,
     "metadata": {},
     "output_type": "execute_result"
    }
   ],
   "source": [
    "len(valid)"
   ]
  },
  {
   "cell_type": "code",
   "execution_count": 32,
   "id": "9324b021",
   "metadata": {},
   "outputs": [],
   "source": [
    "Cascade = bind_cascade(shf, cas)"
   ]
  },
  {
   "cell_type": "code",
   "execution_count": 35,
   "id": "1869360b",
   "metadata": {},
   "outputs": [
    {
     "data": {
      "text/plain": [
       "{'R_SelfCure': 0.24569240658469355,\n",
       " 'R_Die_Asym': 0.1184904667688908,\n",
       " 'R_Die_Sym': 0.15223817829839217,\n",
       " 'R_Die_Tx': [0.11764705882352935, 0.02439024390243894, 0.0200989760252006],\n",
       " 'R_Onset': 2.0529237626466283,\n",
       " 'R_Aware': 1.832850167338458,\n",
       " 'R_CSI': 17.046301270925966,\n",
       " 'R_ReCSI': 15.350455388618132,\n",
       " 'P_Entry': [0.5165692007797271, 0.17506827672172362, 0.30836252249854923],\n",
       " 'P_Tr': [[0.5210886295724138, 0.17343162342661222, 0.30547974700097397],\n",
       "  [0.5027188452628173, 0.1800840057076292, 0.3171971490295535],\n",
       "  [0.5027188452628173, 0.1800840057076292, 0.3171971490295535]],\n",
       " 'P_Dx0': [0.0784313725490196, 0.0784313725490196, 0.056098350304051664],\n",
       " 'P_Dx1': [[0.7481203007518797, 0.7481203007518797, 0.6747064881102688],\n",
       "  [0.7481203007518797, 0.7481203007518797, 0.6747064881102688],\n",
       "  [0.14068441064638784, 0.14068441064638784, 0.10259855855128824]],\n",
       " 'R_Succ_Tx': [2.0, 2.0, 1.6481160340664551],\n",
       " 'R_LTFU_Tx': [0.11764705882352935, 0.04878048780487788, 0.0602969280756018],\n",
       " 'PPV': [0.85, 0.85, 0.49754173326880236]}"
      ]
     },
     "execution_count": 35,
     "metadata": {},
     "output_type": "execute_result"
    }
   ],
   "source": []
  }
 ],
 "metadata": {
  "kernelspec": {
   "display_name": "Python 3",
   "language": "python",
   "name": "python3"
  },
  "language_info": {
   "codemirror_mode": {
    "name": "ipython",
    "version": 3
   },
   "file_extension": ".py",
   "mimetype": "text/x-python",
   "name": "python",
   "nbconvert_exporter": "python",
   "pygments_lexer": "ipython3",
   "version": "3.9.5"
  }
 },
 "nbformat": 4,
 "nbformat_minor": 5
}

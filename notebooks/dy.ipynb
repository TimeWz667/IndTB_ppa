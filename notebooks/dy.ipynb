{
 "cells": [
  {
   "cell_type": "code",
   "execution_count": 1,
   "id": "d574a179",
   "metadata": {},
   "outputs": [
    {
     "name": "stdout",
     "output_type": "stream",
     "text": [
      "D:\\Source\\IndTB_ppa\n"
     ]
    },
    {
     "data": {
      "text/plain": [
       "'D:\\\\Source\\\\IndTB_ppa'"
      ]
     },
     "execution_count": 1,
     "metadata": {},
     "output_type": "execute_result"
    }
   ],
   "source": [
    "%cd ../\n",
    "%pwd"
   ]
  },
  {
   "cell_type": "code",
   "execution_count": 2,
   "id": "92619297",
   "metadata": {},
   "outputs": [],
   "source": [
    "import json\n",
    "from ppa import Cascade\n",
    "import numpy as np\n",
    "from scipy.integrate import solve_ivp"
   ]
  },
  {
   "cell_type": "code",
   "execution_count": 3,
   "id": "ab52cf17",
   "metadata": {},
   "outputs": [
    {
     "ename": "FileNotFoundError",
     "evalue": "[Errno 2] No such file or directory: 'out/cascade_2019/Cascade_India.json'",
     "output_type": "error",
     "traceback": [
      "\u001b[1;31m---------------------------------------------------------------------------\u001b[0m",
      "\u001b[1;31mFileNotFoundError\u001b[0m                         Traceback (most recent call last)",
      "\u001b[1;32m<ipython-input-3-56ff14d16632>\u001b[0m in \u001b[0;36m<module>\u001b[1;34m\u001b[0m\n\u001b[0;32m      1\u001b[0m \u001b[0mloc\u001b[0m \u001b[1;33m=\u001b[0m \u001b[1;34m'India'\u001b[0m\u001b[1;33m\u001b[0m\u001b[1;33m\u001b[0m\u001b[0m\n\u001b[0;32m      2\u001b[0m \u001b[1;33m\u001b[0m\u001b[0m\n\u001b[1;32m----> 3\u001b[1;33m \u001b[1;32mwith\u001b[0m \u001b[0mopen\u001b[0m\u001b[1;33m(\u001b[0m\u001b[1;34mf'out/cascade_2019/Cascade_{loc}.json'\u001b[0m\u001b[1;33m,\u001b[0m \u001b[1;34m'r'\u001b[0m\u001b[1;33m)\u001b[0m \u001b[1;32mas\u001b[0m \u001b[0mf\u001b[0m\u001b[1;33m:\u001b[0m\u001b[1;33m\u001b[0m\u001b[1;33m\u001b[0m\u001b[0m\n\u001b[0m\u001b[0;32m      4\u001b[0m     \u001b[0mcs\u001b[0m \u001b[1;33m=\u001b[0m \u001b[0mjson\u001b[0m\u001b[1;33m.\u001b[0m\u001b[0mload\u001b[0m\u001b[1;33m(\u001b[0m\u001b[0mf\u001b[0m\u001b[1;33m)\u001b[0m\u001b[1;33m\u001b[0m\u001b[1;33m\u001b[0m\u001b[0m\n\u001b[0;32m      5\u001b[0m \u001b[1;33m\u001b[0m\u001b[0m\n",
      "\u001b[1;31mFileNotFoundError\u001b[0m: [Errno 2] No such file or directory: 'out/cascade_2019/Cascade_India.json'"
     ]
    }
   ],
   "source": [
    "loc = 'India'\n",
    "\n",
    "with open(f'out/cascade_2019/Cascade_{loc}.json', 'r') as f:\n",
    "    cs = json.load(f)\n",
    "\n",
    "cs = [Cascade.parse_obj(c) for c in cs]    "
   ]
  },
  {
   "cell_type": "code",
   "execution_count": 73,
   "id": "56d9dc7e",
   "metadata": {},
   "outputs": [
    {
     "data": {
      "text/plain": [
       "{'R_SelfCure': 0.2005383669927065,\n",
       " 'R_Die_Asym': 0.04367120224719754,\n",
       " 'R_Die_Sym': 0.16616892278636303,\n",
       " 'R_Die_Tx': array([0.0952381 , 0.05633803, 0.16468999]),\n",
       " 'R_Onset': 2.928247957517989,\n",
       " 'R_Aware': 8.318529889638267,\n",
       " 'R_CSI': 55.360119398158496,\n",
       " 'R_ReCSI': 24.85807606603545,\n",
       " 'P_Entry': array([0.48281849, 0.07557045, 0.44161106]),\n",
       " 'P_Tr': array([[0.13654141, 0.12616838, 0.73729021],\n",
       "        [0.62527285, 0.05475505, 0.3199721 ],\n",
       "        [0.62527285, 0.05475505, 0.3199721 ]]),\n",
       " 'P_Dx0': array([0.07843137, 0.07843137, 0.10209826]),\n",
       " 'P_Dx1': array([[0.7481203 , 0.7481203 , 0.79872435],\n",
       "        [0.7481203 , 0.7481203 , 0.79872435],\n",
       "        [0.14068441, 0.14068441, 0.1794779 ]]),\n",
       " 'P_TxI': array([0.94      , 0.95      , 0.74840515]),\n",
       " 'R_Succ_Tx': array([2.        , 2.        , 5.84649478]),\n",
       " 'R_LTFU_Tx': array([0.11904762, 0.14084507, 0.61758748]),\n",
       " 'PrevUt': 0.0029064810040805504,\n",
       " 'PrevTx': array([0.00053914, 0.00021619, 0.00036147]),\n",
       " 'DetR': array([0.00127   , 0.0005    , 0.00320162]),\n",
       " 'PPV': array([0.85      , 0.85      , 0.33839119])}"
      ]
     },
     "execution_count": 73,
     "metadata": {},
     "output_type": "execute_result"
    }
   ],
   "source": [
    "cas.revive()\n",
    "cas.dict()"
   ]
  },
  {
   "cell_type": "code",
   "execution_count": 8,
   "id": "0d5cc63d",
   "metadata": {},
   "outputs": [
    {
     "data": {
      "text/plain": [
       "300"
      ]
     },
     "execution_count": 8,
     "metadata": {},
     "output_type": "execute_result"
    }
   ],
   "source": [
    "len([c for c in cs if c.R_ReCSI > 0])"
   ]
  },
  {
   "cell_type": "code",
   "execution_count": 9,
   "id": "b6ad8057",
   "metadata": {},
   "outputs": [],
   "source": [
    "Asym = 0\n",
    "NotAware = 1\n",
    "NotCS = 2\n",
    "ExCS_pub = 3\n",
    "ExCS_eng = 4\n",
    "ExCS_pri = 5\n",
    "ExCS = [ExCS_pub, ExCS_eng, ExCS_pri]\n",
    "Tx_pub = 6\n",
    "Tx_eng = 7\n",
    "Tx_pri = 8\n",
    "Tx = [Tx_pub, Tx_eng, Tx_pri]\n",
    "\n",
    "N_States = 9"
   ]
  },
  {
   "cell_type": "code",
   "execution_count": 68,
   "id": "7904c359",
   "metadata": {},
   "outputs": [],
   "source": [
    "def dy(t, y, cas):\n",
    "    dy = np.zeros_like(y)\n",
    "    \n",
    "    onset = cas.R_Onset * y[Asym] \n",
    "    aware = cas.R_Aware * y[NotAware]\n",
    "    csi = cas.P_Entry * cas.R_CSI * y[NotCS]\n",
    "    det0 = cas.P_Dx0 * csi\n",
    "    fn0 = (1 - cas.P_Dx0) * csi\n",
    "\n",
    "    recsi = cas.R_ReCSI * y[ExCS].reshape((-1, 1)) * cas.P_Tr\n",
    "    det1 = cas.P_Dx1 * recsi\n",
    "    fn1 = (1 - cas.P_Dx1) * recsi\n",
    "\n",
    "    det = det0 + det1.sum(0)\n",
    "    txi = det * cas.P_TxI\n",
    "    \n",
    "    dy[Asym] = det.sum() - onset\n",
    "    dy[NotAware] = onset - aware\n",
    "    dy[NotCS] = aware - csi.sum()\n",
    "    dy[ExCS] = fn0 - recsi.sum(1) + fn1.sum(0)\n",
    "    dy[Tx] = txi\n",
    "\n",
    "    \n",
    "    mu = np.zeros(N_States)\n",
    "    mu[Asym] = cas.R_Die_Asym + cas.R_SelfCure\n",
    "    mu[NotAware] = cas.R_Die_Sym + cas.R_SelfCure\n",
    "    mu[NotCS] = cas.R_Die_Sym + cas.R_SelfCure\n",
    "    mu[ExCS] = cas.R_Die_Sym + cas.R_SelfCure\n",
    "    mu[Tx] = cas.R_Die_Tx + cas.R_Succ_Tx + cas.R_LTFU_Tx\n",
    "    mu *= y\n",
    "    \n",
    "    dy -= mu\n",
    "    dy[Asym] += mu[:Tx_pub].sum()\n",
    "\n",
    "    return dy\n",
    "\n",
    "\n",
    "def prop_det(y, cas):\n",
    "    csi = cas.P_Entry * cas.R_CSI * y[NotCS]\n",
    "    det0 = cas.P_Dx0 * csi\n",
    "    fn0 = (1 - cas.P_Dx0) * csi\n",
    "\n",
    "    recsi = cas.R_ReCSI * y[ExCS].reshape((-1, 1)) * cas.P_Tr\n",
    "    det1 = cas.P_Dx1 * recsi\n",
    "    fn1 = (1 - cas.P_Dx1) * recsi\n",
    "\n",
    "    det = det0 + det1.sum(0)\n",
    "    return det / det.sum()"
   ]
  },
  {
   "cell_type": "code",
   "execution_count": 69,
   "id": "9f926eab",
   "metadata": {},
   "outputs": [],
   "source": [
    "y0 = np.zeros(N_States)\n",
    "y0[Asym] = cas.PrevUt\n",
    "\n",
    "ys = solve_ivp(dy, [0, 20], y0=y0, args = (cas, ), dense_output=True)"
   ]
  },
  {
   "cell_type": "code",
   "execution_count": 71,
   "id": "4b8a9920",
   "metadata": {},
   "outputs": [
    {
     "data": {
      "text/plain": [
       "array([0.25597625, 0.10067381, 0.64334995])"
      ]
     },
     "execution_count": 71,
     "metadata": {},
     "output_type": "execute_result"
    }
   ],
   "source": [
    "ys.y[:, -1]\n",
    "\n",
    "prop_det(ys.y[:, -1], cas)"
   ]
  },
  {
   "cell_type": "code",
   "execution_count": 72,
   "id": "9b307078",
   "metadata": {},
   "outputs": [
    {
     "data": {
      "text/plain": [
       "array([0.25525724, 0.10081726, 0.6439255 ])"
      ]
     },
     "execution_count": 72,
     "metadata": {},
     "output_type": "execute_result"
    }
   ],
   "source": [
    "cas.calc_prop_det()"
   ]
  }
 ],
 "metadata": {
  "kernelspec": {
   "display_name": "Python 3",
   "language": "python",
   "name": "python3"
  },
  "language_info": {
   "codemirror_mode": {
    "name": "ipython",
    "version": 3
   },
   "file_extension": ".py",
   "mimetype": "text/x-python",
   "name": "python",
   "nbconvert_exporter": "python",
   "pygments_lexer": "ipython3",
   "version": "3.9.6"
  }
 },
 "nbformat": 4,
 "nbformat_minor": 5
}
